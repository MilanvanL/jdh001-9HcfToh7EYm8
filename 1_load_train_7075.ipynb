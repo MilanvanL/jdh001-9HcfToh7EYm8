{
 "cells": [
  {
   "cell_type": "markdown",
   "metadata": {
    "tags": [
     "title"
    ]
   },
   "source": [
    "# Dialects of Discord. Changing vocabularies in the Dutch Cruise Missile discussion"
   ]
  },
  {
   "cell_type": "markdown",
   "metadata": {
    "tags": [
     "contributor"
    ]
   },
   "source": [
    "### anonym"
   ]
  },
  {
   "cell_type": "markdown",
   "metadata": {
    "tags": [
     "contributor"
    ]
   },
   "source": [
    "### anonym"
   ]
  },
  {
   "cell_type": "markdown",
   "metadata": {
    "tags": [
     "copyright"
    ]
   },
   "source": [
    " [![cc-by](https://licensebuttons.net/l/by/4.0/88x31.png)](https://creativecommons.org/licenses/by/4.0/) \n",
    "©<AUTHOR or ORGANIZATION / FUNDER>. Published by De Gruyter in cooperation with the University of Luxembourg Centre for Contemporary and Digital History. This is an Open Access article distributed under the terms of the [Creative Commons Attribution License CC-BY](https://creativecommons.org/licenses/by/4.0/)"
   ]
  },
  {
   "cell_type": "markdown",
   "metadata": {
    "ExecuteTime": {
     "end_time": "2022-07-13T13:29:25.761053Z",
     "start_time": "2022-07-13T13:29:25.747Z"
    },
    "tags": [
     "copyright"
    ]
   },
   "source": [
    " [![cc-by-nc-nd](https://licensebuttons.net/l/by-nc-nd/4.0/88x31.png)](https://creativecommons.org/licenses/by-nc-nd/4.0/) \n",
    "©<AUTHOR or ORGANIZATION / FUNDER>. Published by De Gruyter in cooperation with the University of Luxembourg Centre for Contemporary and Digital History. This is an Open Access article distributed under the terms of the [Creative Commons Attribution License CC-BY-NC-ND](https://creativecommons.org/licenses/by-nc-nd/4.0/)"
   ]
  },
  {
   "cell_type": "code",
   "execution_count": 1,
   "metadata": {
    "ExecuteTime": {
     "end_time": "2022-06-15T10:59:29.916021Z",
     "start_time": "2022-06-15T10:59:29.261Z"
    },
    "scrolled": true,
    "tags": [
     "cover"
    ]
   },
   "outputs": [
    {
     "ename": "NameError",
     "evalue": "name 'library' is not defined",
     "output_type": "error",
     "traceback": [
      "\u001b[1;31m---------------------------------------------------------------------------\u001b[0m",
      "\u001b[1;31mNameError\u001b[0m                                 Traceback (most recent call last)",
      "\u001b[1;32m~\\AppData\\Local\\Temp\\ipykernel_15916\\2054117312.py\u001b[0m in \u001b[0;36m<module>\u001b[1;34m\u001b[0m\n\u001b[1;32m----> 1\u001b[1;33m \u001b[0mlibrary\u001b[0m\u001b[1;33m(\u001b[0m\u001b[1;34m\"IRdisplay\"\u001b[0m\u001b[1;33m)\u001b[0m\u001b[1;33m\u001b[0m\u001b[1;33m\u001b[0m\u001b[0m\n\u001b[0m\u001b[0;32m      2\u001b[0m \u001b[0mdisplay_png\u001b[0m\u001b[1;33m(\u001b[0m\u001b[0mfile\u001b[0m\u001b[1;33m=\u001b[0m\u001b[1;34m\"cover.png\"\u001b[0m\u001b[1;33m)\u001b[0m\u001b[1;33m\u001b[0m\u001b[1;33m\u001b[0m\u001b[0m\n",
      "\u001b[1;31mNameError\u001b[0m: name 'library' is not defined"
     ]
    }
   ],
   "source": [
    "library(\"IRdisplay\")\n",
    "display_png(file=\"cover.png\")  "
   ]
  },
  {
   "cell_type": "code",
   "execution_count": 8,
   "metadata": {},
   "outputs": [
    {
     "name": "stdout",
     "output_type": "stream",
     "text": [
      "Selected Jupyter core packages...\n",
      "IPython          : 7.31.1\n",
      "ipykernel        : 6.15.2\n",
      "ipywidgets       : 7.6.5\n",
      "jupyter_client   : 7.3.4\n",
      "jupyter_core     : 4.11.1\n",
      "jupyter_server   : 1.18.1\n",
      "jupyterlab       : 3.4.4\n",
      "nbclient         : 0.5.13\n",
      "nbconvert        : 6.4.4\n",
      "nbformat         : 5.5.0\n",
      "notebook         : 6.4.12\n",
      "qtconsole        : 5.2.2\n",
      "traitlets        : 5.1.1\n"
     ]
    }
   ],
   "source": [
    "!jupyter --version"
   ]
  },
  {
   "cell_type": "markdown",
   "metadata": {
    "tags": [
     "keywords"
    ]
   },
   "source": [
    "Word embeddings, word2vec, nuclear weapons, popular protest, parliamentary history"
   ]
  },
  {
   "cell_type": "markdown",
   "metadata": {
    "tags": [
     "abstract"
    ]
   },
   "source": [
    "This paper investigates the changing vocabulary used in Dutch parliamentary debates during the cruise missile controversy and its immediate aftermath (1970-1990). Using word embedding models (WEMs), we show that while declared policy preferences were rigid throughout the period, the preferred terminology of politicians changed markedly under influence of public protests and the thawing of Soviet-US relations during the 1980s. We show how application of a Word Embedding Model (WEM) can be used to reveal, in a systematic manner, changes in tone in historical political vocabulary."
   ]
  },
  {
   "cell_type": "markdown",
   "metadata": {
    "tags": [
     "narrative"
    ]
   },
   "source": [
    "## Introduction"
   ]
  },
  {
   "cell_type": "markdown",
   "metadata": {
    "tags": [
     "narrative"
    ]
   },
   "source": [
    "On 29 October 1983 over 550.000 people marched in The Hague in the largest ever street protest in Dutch history. The marchers had been affected by what the American historian Walter Laqueur had earlier termed 'Hollanditis': a neutralist-pacifist sentiment that seemed to spread through Europe like a virus <cite data-cite=\"2361604/7ZPBFFIP\"></cite>. The cause of their 'disease' was nuclear proliferation. The marchers of 1983 were a very diverse group of people, ranging from church organizations to anarchists, but they were all adamant about one thing: NATO was not going to be allowed station nuclear arms in the Netherlands."
   ]
  },
  {
   "cell_type": "markdown",
   "metadata": {
    "tags": [
     "narrative"
    ]
   },
   "source": [
    "Nuclear weapons divided Dutch society in the late 1970s and early 1980s. In retrospect, the discussion about their placement seems almost moot. The first nuclear weapons had already been placed in the country in 1957, on Volkel airbase, where these geriatric warheads remain until today <cite data-cite=\"1198963/BXVSHFUR\"></cite>. The Tomahawk cruise missiles that were supposed to be placed in the Netherlands, causing controversy in the 1980s, never actually came. Not because of political opposition to their placement, for the government agreed to their placement in 1985, but because of the adoption of a new policy of mutual arms reduction by the United States and the USSR."
   ]
  },
  {
   "cell_type": "markdown",
   "metadata": {
    "tags": [
     "narrative"
    ]
   },
   "source": [
    "The eventual pointlessness of the controversy does not make the case less interesting or relevant for students of political history. The issue was highly polarizing, especially because of its binary nature. The controversy did not center on how many, or what type of nuclear weapons were to be stationed in the Netherlands, but whether any could be stationed there at all. In this debate, there could be no middle ground and a compromise was impossible from the outset. This is also reflected in the positioning of political parties. As the country was in the grip of the debate about nuclear arms, no single party changed its official position on the issue. Broadly speaking, the right favored and the left rejected the stationing of the cruise missiles."
   ]
  },
  {
   "cell_type": "markdown",
   "metadata": {
    "tags": [
     "narrative"
    ]
   },
   "source": [
    "The clear and unchanging positions of political parties did not necessarily reflect the views of individual representatives, party members, or voters. Many people on the political right were opposed to the stationing cruise missiles, often strongly, which especially affected the Christian Democratic party (Christian Democratic Appeal, CDA). Likewise, the seemingly united opposition to nuclear proliferation on the left, in retrospect, may have worked to mute the voices of proponents of the NATO plan, who did in fact exist within the Labour Party (PvdA). The uncompromising stance of all political parties in this highly emotional debate threatened party discipline in parliament, the stability of political parties themselves, as well as their electoral success <cite data-cite=\"2361604/X8WYDXZC\"></cite>."
   ]
  },
  {
   "cell_type": "markdown",
   "metadata": {
    "tags": [
     "narrative"
    ]
   },
   "source": [
    "In Dutch historiography two observations about the missile discussion stand out. In the first place, the notion that the gap between the proponents and opponents was stable as it was unbridgeable <cite data-cite=\"2361604/SGS86SFR\"></cite>. The second point is that, however large in terms of popular participation, the debate did not have political consequences. In this view, the end of the cold war effectively ended the debate. Looking purely at party-political standpoints, this indeed seems to be correct. We argue, however, that in spite of the seemingly stable opinions, political views on nuclear proliferation were changing and that these changes left a clear mark on political discourse at the time."
   ]
  },
  {
   "cell_type": "markdown",
   "metadata": {
    "tags": [
     "narrative"
    ]
   },
   "source": [
    "While the political debate seemed to rage between perfectly immobile blocks, the vocabularies chosen by politicians to discuss nuclear weapons reflect the diversity of opinion and the problems that diversity posed for politicians. These vocabularies, moreover, changed significantly in the course of about a decade. Through a computational analysis of the language used in the Dutch parliament between 1970 and 1985, we can show that these vocabularies converged strongly, while also moving, collectively, towards one that was overwhelmingly negative about nuclear proliferation and positive about attempts at non-proliferation <cite data-cite=\"2361604/H37HWZRZ\"></cite> <cite data-cite=\"2361604/X2P36K7Y\"></cite>. The changing ways in which the issue of nuclear weapons was discussed in the Netherlands suggest that the political discord may have been waning in the early to mid-eighties, probably under the influence of thawing relations between the NATO and Soviet blocks."
   ]
  },
  {
   "cell_type": "markdown",
   "metadata": {
    "tags": [
     "narrative"
    ]
   },
   "source": [
    "We aim to investigate, first, if the different viewpoints are reflected in the word choice used in political discourse. In another binary, and highly emotive, debate, about abortion rights in the United States, vocabularies have been shown to differ significantly depending on political position <cite data-cite=\"2361604/ZUZCHZ3U\"></cite>. As yet, it remains to be confirmed if the same thing happens in the Dutch nuclear proliferation discussion. A second aim is to investigate whether the vocabularies of political parties remained the same through time, or whether they were subject to change. As said, political positions on the binary question regarding the placement of cruise missiles did not change. In other words, those opposed remained opposed, those in favour remained in favour. The geopolitical context, however, did change and relationships between NATO and Warsaw Pact blocks were subject to change in the period under scrutiny. We aim to investigate not only whether vocabularies reflected political positions, but also if these vocabularies changed with political changes, in spite of ostensible stability (of viewpoints). "
   ]
  },
  {
   "cell_type": "markdown",
   "metadata": {
    "tags": [
     "narrative"
    ]
   },
   "source": [
    "# Historical Context"
   ]
  },
  {
   "cell_type": "markdown",
   "metadata": {
    "tags": [
     "narrative"
    ]
   },
   "source": [
    "The controversy in the Netherlands was a direct consequence of the NATO Double-Track Decision of December 1979. In reaction to the presence of mobile SS20 missiles in Warsaw Pact countries, which directly threatened Western Europe, NATO decided to station 572 American middle-range missiles in five European member states (Belgium, the United Kingdom, Italy, The German Federal republic and the Netherlands). At the same time, NATO offered the USSR immediate disarmament talks to reduce the number of nuclear weapons in Europe <cite data-cite=\"2361604/ERXFWLA4\"></cite>."
   ]
  },
  {
   "cell_type": "markdown",
   "metadata": {
    "tags": [
     "narrative"
    ]
   },
   "source": [
    "By the time of the Double-Track Decision, the Netherlands already had an outspoken anti-nuclear peace movement. In 1977 the IKV (Interfaith Peace Forum), an ecumenical Christian organization which strove to \"free the world of nuclear arms, starting with The Netherlands\" had been founded <cite data-cite=\"undefined\"></cite>. In opposition to the narrative of the need to build nuclear deterrent against a nuclear foe, peace activists placed the need for unilateral disarmament in the West. The NATO Double-Track Decision of 1979 led to the foundation of the nonpartisan Komitee Kruisraketten Nee (Committee Cruise Missiles No). The anti-nuclear movement was gaining momentum and broad support <cite data-cite=\"undefined\"></cite>.\n"
   ]
  },
  {
   "cell_type": "markdown",
   "metadata": {
    "tags": [
     "narrative"
    ]
   },
   "source": [
    "Although many in the Netherlands were opposed to nuclear proliferation, the country was also a founding member of NATO and traditionally loyal both to that organization and to the geopolitical ambitions of the United States. For many mainstream politicians, and for the parties they belonged to, the issue soon became a difficult one. Labour voters in particular were overwhelmingly opposed to the placement of nuclear weapons in the Netherlands. The Labour Party, however, remained (and remains) in favor of NATO membership. It proved far from easy to combine an antinuclear and pro-NATO stance. The Christian Democratic parties - initially the Catholic Peoples Party (KVP), Christian Historical Union (CHU) and Anti-Revolutionary Party (ARP), later combined into the Christian Democratic Appeal (CDA)- favored deployment of nuclear weapons in the Netherlands, but faced internal rebellions from anti-proliferation MPs as well as voter opposition <cite data-cite=\"2361604/X8WYDXZC\"></cite>."
   ]
  },
  {
   "cell_type": "markdown",
   "metadata": {
    "tags": [
     "narrative"
    ]
   },
   "source": [
    "For other parties, notably the liberal-conservative People's Party for Freedom and Democracy (VVD) and the Communist Party of the Netherlands (CPN), it was far less difficult to maintain a consistent policy from the beginning to the end of the discussion. The liberals were strongly pro-NATO and strongly in favor of the stationing of the cruise missiles. The CPN was clearly against NATO and consequently also against the stationing of nuclear missiles in the Netherlands. Most other political parties, including several fundamentalist Christian parties and left-leaning splinter groups, likewise were stable in their views for or against nuclear weapons."
   ]
  },
  {
   "cell_type": "markdown",
   "metadata": {
    "tags": [
     "narrative"
    ]
   },
   "source": [
    "Both the Christian Democratic Appeal and the Labour Party faced internal rebellions with regard to nuclear proliferation and NATO membership. For both parties, loyalty to NATO and a widespread distaste for nuclear weapons proved a divisive combination. Individuals occasionally refused to toe the party line <cite data-cite=\"2361604/RRD2J9DJ\"></cite>. Party programs of the era also reveal the struggle to find, or at least suggest, a compromise. The Labour Party's program of 1982, for example, formulates the ambition for the Netherlands to become 'a critical member' of NATO, in the apparent hope that this would neutralize the problem of being part of a nuclear military organization, while opposing nuclear arms on principle <cite data-cite=\"1198963/H7BZIGSB\"></cite>."
   ]
  },
  {
   "cell_type": "markdown",
   "metadata": {
    "tags": [
     "narrative"
    ]
   },
   "source": [
    "In this article, we do not use party programs or policy papers. Instead, we focus on debates held in both houses of the Dutch parliament between 1975 and 1990. We use the verbatim minutes of all parliamentary debates, a dataset that is known in Dutch as the Handelingen der Staten-Generaal. \n"
   ]
  },
  {
   "cell_type": "markdown",
   "metadata": {
    "tags": [
     "hermeneutics"
    ]
   },
   "source": [
    "## Data"
   ]
  },
  {
   "cell_type": "markdown",
   "metadata": {
    "tags": [
     "hermeneutics"
    ]
   },
   "source": [
    "We aim to investigate political vocabulary in debates about nuclear proliferation by using the proceedings of the upper and lower houses of Dutch parliament (Handelingen der Staten-Generaal). These documents contain the verbatim minutes of both houses of Dutch parliament. The dataset contains metadata linking each speech to a date, topic, speaker, and political party. The Handelingen are available in machine-readable form. The complete minutes of both houses of parliament for the period 1814-1995 were first digitized by the Royal Library of the Netherlands and made available to the public in 2010. The dataset for the period since 1930 was dramatically improved in the Political Mashup project. Currently, the improved and enriched dataset is freely available on request from DANS, the Dutch national repository of research data. The dataset consists of a large collection of XML files containing the complete minutes of all the meetings of the lower and upper chambers of parliament, separated by date, speaker, political affiliation, and more <cite data-cite=\"2361604/AZGP28RE\"></cite>."
   ]
  },
  {
   "cell_type": "markdown",
   "metadata": {
    "tags": [
     "hermeneutics"
    ]
   },
   "source": [
    "Although parliamentary records always list an individual MP as the 'speaker' behind a speech, this source is not suitable for identifying individual viewpoints. Most parties with more than one or two seats appointed specialized spokespersons for specific subjects, whose job it was to represent his or her parliamentary group. As a consequence, it is difficult to identify personal disagreements within groups by analyzing parliamentary speech. That is not to say, on the other hand, that intra-party disagreements cannot be reflected in the terms eventually used."
   ]
  },
  {
   "cell_type": "markdown",
   "metadata": {},
   "source": [
    "## Method: Word Embedding Models and Historical Research"
   ]
  },
  {
   "cell_type": "markdown",
   "metadata": {},
   "source": [
    "We have analyzed the Handelingen by using Word Embedding Models (WEMs). WEMs can be understood as a family of machine learning techniques  able to extract information about words from their distribution in a given corpus of natural language. The distribution of words, which is to say the frequency in which they occur and co-occur, can be learned, approximately, by algorithms. This makes it possible to predict the context, defined as other, proximate words, in which each word occurs in a corpus. This 'context' is expressed as a list of other words ranked by their proximity or 'closeness' to the word in question. In this investigation, we use the implementation known as the Word2Vec algorithm. Word2Vec trains neural networks to investigate the ways in which a specific word is used in a given corpus of text. To do so, the algorithm calculates a so called 'vector' for each unique word to describe its relation to all other words. These vectors together make up the 'vector space'. The proximity of word vectors within vector space represents a more or less common or shared context (between words) <cite data-cite=\"2361604/WMBLK3NQ\"></cite> <cite data-cite=\"2361604/9VBDX4M2\"></cite> <cite data-cite=\"1198963/JCSZY32M\"></cite>."
   ]
  },
  {
   "cell_type": "markdown",
   "metadata": {},
   "source": [
    "Proximity in vector space does not describe any specific type of linguistic similarity that exists between words in the corpus. Some words are synonyms or near synonyms of each other, or have very similar usages, for example 'tea' and 'coffee'. Some words often appear in combination ('New' and 'York'). The analytic possibilities of WEMs, as we will demonstrate below, go far beyond these trivial examples of proximity. With WEMs we are be able to identify associations and relations between words that are not self-evident but relevant."
   ]
  },
  {
   "cell_type": "markdown",
   "metadata": {},
   "source": [
    "The proximity of word vectors can be described as 'dot product', a distance metric that is expressed as a value between -1 and 1. This is a measure to describe the angle between two vectors and their length. A value of 0 means no proximity, and can be interpreted as a score representing no similarity or relationship between words. A value of 0.99 means very close proximity, where there is an almost perfectly similar relationship between word vectors. In theory, a value of -1 would represent an opposite relationship between two words. However, in practice virtually all scores are between 0 and 1. This is also true for antonyms and words with opposite meanings. Since the model has been trained on a specific corpus of minutes of parliamentary debates, these relationships reconstruct the use of terms only within that corpus. It is not meaningful to compare a word vector from one trained model, to a word vector in another trained model. This is a handicap when applying WEMs to historical research, because within a single model there is no possibility to investigate change through time, while word vectors from a diachronic sequence of trained models cannot be compared. Our aim is to work around this problem by using overlapping windows (dot product) <cite data-cite=\"2361604/WMBLK3NQ\"></cite>."
   ]
  },
  {
   "cell_type": "markdown",
   "metadata": {},
   "source": [
    "We have used the implementation of the Word2Vec algorithm in the R-package Word2Vec, authored and maintained by Jan Wijffels <cite data-cite=\"8918850/DJWGF63V\"></cite>. The Word2Vec algorithm initially was developed with a different aim than the one for which we are using it <cite data-cite=\"1198963/JCSZY32M\"></cite>. Word2Vec was developed to investigate natural language per se, for example to identify (near-)synonyms. In historical investigations, the statistical modelling of language is not usually the objective. Rather than trying to identify linguistic regularities and generalities, we focus on linguistic irregularities, particularities, and patterns to identify the influence of political and historical change on changes in the vocabulary used in political speech <cite data-cite=\"2361604/9VBDX4M2\"></cite> <cite data-cite=\"2361604/H37HWZRZ\"></cite> <cite data-cite=\"2361604/WMBLK3NQ\"></cite>.\n"
   ]
  },
  {
   "cell_type": "markdown",
   "metadata": {},
   "source": [
    "We have limited ourselves to unique words that appear five times or more in the entire 1970-1990 dataset of parliamentary debates and we have limited the number of dimensions of each vector to 100. We experimented with more dimensions of several hundreds, but longer vectors seem to be useful only with (much) larger corpora, and require much more computational power. The corpus of the Handelingen is vast by the standards of historical research, but not very large for the kind of analysis we are undertaking <cite data-cite=\"2361604/WMBLK3NQ\"></cite>. We have trained our dataset with a Skip-Gram Word2Vec model, which has anecdotally been shown to yield better results on smaller datasets, compared to the, alternative, CBOW-method <cite data-cite=\"1198963/3LD4U97R\"></cite>."
   ]
  },
  {
   "cell_type": "markdown",
   "metadata": {},
   "source": [
    "In a historical investigation, however, the object of research is not usually a term, but a concept, thing, person, or place. As long as these are referred to with only one term throughout the corpus, for example 'Rotterdam' or 'Brzezinski', this is unproblematic, but as soon as alternative spellings, or different terms are used for the same thing ('Zbigniew' instead of 'Brzezisnki', for example) problems arise. When discussing nuclear weapons, the number of possible terms referring to the same concept is quite large. Since our investigation focuses on nuclear weapons, which may be described with several different terms, we needed to create a so-called 'combined vector' to include more than one word in our vector representation (of a concept).\n"
   ]
  },
  {
   "cell_type": "markdown",
   "metadata": {},
   "source": [
    "To achieve this, we trained WEMs on the complete corpus of the Handelingen for the period 1970-1990. Using the resulting vectors, we calculated the nearest neighbours to a vector of an unambiguous Dutch word for nuclear weapon ('kernwapen') to identify which terms have a close proximity to 'kernwapen' in this specific vector space. From these so-called 'nearest neighbours', we have made a manual selection of only synonyms and plurals of the Dutch word for 'nuclear weapon'. These synonyms and plurals were used to create a cluster of varied words with the shared meaning of 'nuclear weapon(s)'. This cluster was then used to generate a so-called combined vector, by averaging the vectors (within the WEM) of all different individual terms. That is to say that this word set was treated as a single term, resulting in a vector of similar length to a single-word vector. This combined vector allowed us to investigate our corpus using all synonyms and near-synonyms of 'kernwapen' as if it were a single term, represented by a single vector <cite data-cite=\"8918850/DJWGF63V\"></cite>."
   ]
  },
  {
   "cell_type": "markdown",
   "metadata": {
    "tags": [
     "hermeneutics"
    ]
   },
   "source": [
    "### Nuclear-weapon word set"
   ]
  },
  {
   "cell_type": "markdown",
   "metadata": {
    "jdh": {
     "module": "object",
     "object": {
      "source": [
       "table 1: Synonyms and plurals of 'nuclear weapon'"
      ],
      "type": "image"
     }
    },
    "tags": [
     "hermeneutics",
     "table-1"
    ]
   },
   "source": [
    "| Dutch             | English\n",
    "|-------------------|-------------------|\n",
    "| atoomwapen        | atomic weapon\n",
    "| atoomwapens       | atomic weapons\n",
    "| kernwapen         | nuclear weapon\n",
    "| kernwapens        | nuclear weapons\n",
    "| kruisraket        | cruise missile\n",
    "| kruisraketten     | cruise missiles\n",
    "| kruisvluchtwapen  | cruise flight weapon\n",
    "| kruisvluchtwapens | cruise flight weapons\n",
    "| lanceraket        | lance rocket\n",
    "| lanceraketten     | lance rockets\n",
    "| navokernwapen     | nato nuclear weapon\n",
    "| navokernwapens    | nato nuclear weapons\n"
   ]
  },
  {
   "cell_type": "markdown",
   "metadata": {
    "tags": [
     "narrative"
    ]
   },
   "source": [
    "The newly created combined vector of 'kernwapen' and its synonyms was then used to identify its nearest neighbours in the WEM, based on the entire corpus 1970-1990. We used the resulting list of 1000 nearest neighbours of the combined nuclear weapon vector to identify words closely linked to nuclear weapons appearing in the complete 1970-1990 parliamentary corpus."
   ]
  },
  {
   "cell_type": "markdown",
   "metadata": {
    "tags": [
     "narrative"
    ]
   },
   "source": [
    "From this list of 1000 nearest neighbours of the combined nuclear weapons vector, we have manually selected the words that evidently exemplify a pro-nuclear proliferation position. This is a human intervention. Together these words form a pro-proliferation word set, a collection of words that is representative of a positive attitude towards the placement of nuclear weapons. We consider this cluster of terms to represent a pro-nuclear weapon discursive space within the model. To put it more precisely, this pro-proliferation discursive space is represented by all the vectors of the terms from the pro-proliferation word set. We repeated this exercise for words typical of an anti-nuclear proliferation stance. Thus we could also create a non-proliferation discursive space in each model we subsequently trained."
   ]
  },
  {
   "cell_type": "markdown",
   "metadata": {
    "tags": [
     "hermeneutics"
    ]
   },
   "source": [
    "### Pro-Nuclear proliferation words"
   ]
  },
  {
   "cell_type": "markdown",
   "metadata": {
    "jdh": {
     "module": "object",
     "object": {
      "source": [
       "table 2: selected words considered favorable to nuclear arms proliferation"
      ],
      "type": "image"
     }
    },
    "tags": [
     "hermeneutics",
     "table-2"
    ]
   },
   "source": [
    "\n",
    "| Dutch                                   | English\n",
    "|-----------------------------------------|-----------------------------------------\n",
    "| afschrikking                            | deterrence\n",
    "| afschrikkingsevenwicht                  | balance of deterrence\n",
    "| afschrikkingsfunctie                    | deterrence function\n",
    "| afschrikkingsmacht                      | deterrence force\n",
    "| afschrikkingspolitiek                   | policy of deterrence\n",
    "| afschrikkingsrol                        | deterrence role\n",
    "| afschrikkingsstrategie                  | strategy of deterrence\n",
    "| afschrikkingstheorie                    | theory of deterrence\n",
    "| afschrikkingswapen                      | weapon of deterrence\n",
    "| afschrikkingswapens                     | weapons of deterrence\n",
    "| afschrikwekkende                        | deterrent\n",
    "| atoomparaplu                            | nuclear umbrella\n",
    "| deterrent                               | deterrent\n",
    "| kernwapenstrategie                      | nuclear arms strategy\n",
    "| proliferatie                            | proliferation\n",
    "| proliferatieverdrag                     | proliferation treaty\n",
    "| strategischnucleaire                    | nuclear-strategic\n",
    "| tactischnucleaire                       | tactical-nuclear\n",
    "| waarborgenstelsel                       | system of guarantees\n",
    " "
   ]
  },
  {
   "cell_type": "markdown",
   "metadata": {
    "tags": [
     "hermeneutics"
    ]
   },
   "source": [
    "### Anti-Nuclear proliferation words"
   ]
  },
  {
   "cell_type": "markdown",
   "metadata": {
    "ExecuteTime": {
     "end_time": "2022-07-13T14:08:33.451284Z",
     "start_time": "2022-07-13T14:08:33.437Z"
    },
    "jdh": {
     "module": "object",
     "object": {
      "source": [
       "table 3: selected words considered unfavorable to nuclear arms proliferation"
      ],
      "type": "image"
     }
    },
    "tags": [
     "hermeneutics",
     "table-3"
    ]
   },
   "source": [
    "\n",
    "| Dutch               | English\n",
    "|---------------------|---------------------\n",
    "| atoomvrij           | nuclear free\n",
    "| atoomvrije          | nuclear-free\n",
    "|denuclearisatie      | denuclearisation\n",
    "|denuclearisering     | denuclearisation\n",
    "|gedenucleariseerd    | denuclearised\n",
    "|kernstop             | nuclear hold\n",
    "|kernwapenvrij        | free of nuclear weapons\n",
    "|kernwapenvrije       | free of nuclear weapons\n",
    "|nonproliferatie      | non-proliferation\n",
    "|nonproliferatieverdrag | non-proliferation treaty\n",
    "|ontwapening          | disarmament\n",
    "|ontwapeningsbesprekingen | disarmament talks\n",
    "|ontwapeningsonderhandelingen | disarmament negotiations\n",
    "|ontwapeningsoverleg  | disarmament discussion\n",
    "|wapenbeheersing      | arms control\n",
    "|wapenbeheersingsbesprekingen | arms control talks\n",
    "|wapenbeheersingsonderhandelingen | arms control negotiations\n",
    "|wapenbeperking       | arms reduction\n",
    "|wapenvermindering    | arms reduction\n"
   ]
  },
  {
   "cell_type": "markdown",
   "metadata": {
    "tags": [
     "hermeneutics"
    ]
   },
   "source": [
    "These two sets of terms play a key role in our attempt to identify preferred vocabularies in the polarized debate about nuclear weapons in the Netherlands. The classification of terms in two categories was done by only two people, the authors of this paper, rather than by a team of annotators. We believe this was justified because we have focused on non-ambiguous, easy-to-classify terms. Annotators may have been useful to classify ambiguous terms as belonging in either list, but that is not our aim here. We do not aim to classify as many terms as possible into the two categories, but only those terms that are unambiguously representative of either viewpoint. Another reason not to rely on annotators is that the body of language we are investigating is over 30 years old. Using present-day annotators may in fact create a misplaced illusion of accuracy, because subtle judgments about the meaning of words by annotators today may not reflect their meaning to language users in the 1970s and 80s entirely accurately."
   ]
  },
  {
   "cell_type": "markdown",
   "metadata": {
    "tags": [
     "narrative"
    ]
   },
   "source": [
    "We do not investigate the specific sentences in which terms were used. If a politician said 'disarmament is a bad idea', the term 'disarmament' will be classified in the same way as when a politician stated that 'disarmament is urgently necessary'. Our research question, however, is not whether politicians expressed a specific opinion, but whether they used a specific vocabulary. The very fact that 'disarmament' was mentioned, is evidence that the concept is being discussed. We do not need to know parties opinions, since those are known as they are evidently expressed in party programmes and parliamentary voting behaviour. We are interested in the scope of discussions in different periods and in the speeches for different parties. We expect the scope of the discourse to change through time and between political parties. Since parliamentarians were free to choose their words, the speeches are an indication of the shifting topical boundaries of their vocabularies."
   ]
  },
  {
   "cell_type": "markdown",
   "metadata": {
    "tags": [
     "hermeneutics"
    ]
   },
   "source": [
    "## Method: Investigating the Word Embedding Model"
   ]
  },
  {
   "cell_type": "code",
   "execution_count": 44,
   "metadata": {
    "ExecuteTime": {
     "end_time": "2022-06-15T10:59:32.415174Z",
     "start_time": "2022-06-15T10:59:32.398Z"
    },
    "scrolled": false
   },
   "outputs": [
    {
     "data": {
      "text/plain": [
       "               _                           \n",
       "platform       x86_64-apple-darwin17.0     \n",
       "arch           x86_64                      \n",
       "os             darwin17.0                  \n",
       "system         x86_64, darwin17.0          \n",
       "status                                     \n",
       "major          4                           \n",
       "minor          1.1                         \n",
       "year           2021                        \n",
       "month          08                          \n",
       "day            10                          \n",
       "svn rev        80725                       \n",
       "language       R                           \n",
       "version.string R version 4.1.1 (2021-08-10)\n",
       "nickname       Kick Things                 "
      ]
     },
     "metadata": {},
     "output_type": "display_data"
    }
   ],
   "source": [
    "R.version"
   ]
  },
  {
   "cell_type": "code",
   "execution_count": 45,
   "metadata": {
    "ExecuteTime": {
     "end_time": "2022-06-15T10:59:37.916755Z",
     "start_time": "2022-06-15T10:59:37.896Z"
    }
   },
   "outputs": [],
   "source": [
    "# Load installed R-packages from library\n",
    "library(magrittr)\n",
    "# The bnosac Word2Vec package is used to train Word Embedding Models. \n",
    "# See also https://github.com/bnosac/word2vec.\n",
    "library(word2vec) \n",
    "library(stringr)\n",
    "library(dplyr)\n",
    "library(data.table)"
   ]
  },
  {
   "cell_type": "code",
   "execution_count": 46,
   "metadata": {
    "ExecuteTime": {
     "end_time": "2022-06-15T11:00:01.479981Z",
     "start_time": "2022-06-15T10:59:41.347Z"
    }
   },
   "outputs": [],
   "source": [
    "# As this script is meant for demonstration purposes, it uses only text data from the 1970-1975 period. \n",
    "# The article uses more data, for more periods, but these are not included in this example, because of space constraints.\n",
    "# The authors will be happy to provide all data on request. \n",
    "\n",
    "# This file containing the raw texts can be downloaded from GitHub and loaded into the RStudio\n",
    "# environment using the following command:\n",
    "files2 <- data.table::fread(\"https://raw.githubusercontent.com/jdh-observer/jdh001-9HcfToh7EYm8/main/parl_texts_7075.csv\",\n",
    "    header = TRUE, encoding = \"UTF-8\")\n",
    "\n",
    "# A pre-processed version of parliamentary texts is used. \n",
    "# Punctuation and stop words are removed from the texts and all letters are set to lower case.  \n",
    "# Functions removePunctuation, removeWords, and tolower from package 'tm' are used. "
   ]
  },
  {
   "cell_type": "markdown",
   "metadata": {
    "tags": [
     "hermeneutics"
    ]
   },
   "source": [
    "To  investigate  the  course  of  the  debate,  and  the  preferred  vocabularies  of  different  political  parties,  we  trained separate,  smaller,  WEMs using only speeches of each of four political parties (CPN, VVD, PvdA, and CDA) in four shorter timeslots (1970-1975, 1975-1980, 1980-1985, and 1985-1990). We use these partly overlapping time slots of five years, shifting towards the present, to generate a shifting window that is able to capture possible changes through time. To keep these (party-specific) sub-datasets large enough to train separate WEMs, we decided not to use smaller time slots or separate datasets for every year. As the Christian-Democratic Appeal (CDA) was not yet established in the first timeslot (1970-1975), this procedure led to the creation of 15 different WEMs."
   ]
  },
  {
   "cell_type": "code",
   "execution_count": 47,
   "metadata": {
    "ExecuteTime": {
     "end_time": "2022-06-15T11:00:09.485305Z",
     "start_time": "2022-06-15T11:00:09.468Z"
    }
   },
   "outputs": [],
   "source": [
    "# Subset party-specific data and train word2vec model for each party.\n",
    "\n",
    "# 1. CPN (Communistische Partij Nederland) Subset period and party, set column\n",
    "# 'text' as character vector to serve as input for word2vec package\n",
    "files2 %>%\n",
    "    filter(str_detect(doc_id, \"cpn\")) -> cpn.7075\n",
    "cpn.7075 <- as.character(cpn.7075$text)\n",
    "\n",
    "# Train word2vec model\n",
    "model.cpn.7075 <- word2vec(x = cpn.7075, min_count = 5, threads = 4, type = \"skip-gram\",\n",
    "    dim = 100, iter = 20)\n",
    "\n",
    "# Create matrix\n",
    "emb.cpn.7075 <- as.matrix(model.cpn.7075)"
   ]
  },
  {
   "cell_type": "code",
   "execution_count": 50,
   "metadata": {
    "ExecuteTime": {
     "end_time": "2022-06-15T11:03:08.941068Z",
     "start_time": "2022-06-15T11:03:08.923Z"
    }
   },
   "outputs": [],
   "source": [
    "# 2. VVD (Volkspartij voor Vrijheid en Democratie) Subset period and party, set\n",
    "# column 'text' as character vector to serve as input for word2vec package\n",
    "files2 %>%\n",
    "    filter(str_detect(doc_id, \"vvd\")) -> vvd.7075\n",
    "vvd.7075 <- as.character(vvd.7075$text)\n",
    "\n",
    "# Train word2vec model\n",
    "model.vvd.7075 <- word2vec(x = vvd.7075, min_count = 5, threads = 4, type = \"skip-gram\",\n",
    "    dim = 100)\n",
    "\n",
    "# Create matrix\n",
    "emb.vvd.7075 <- as.matrix(model.vvd.7075)"
   ]
  },
  {
   "cell_type": "code",
   "execution_count": 53,
   "metadata": {
    "ExecuteTime": {
     "end_time": "2022-06-15T11:03:49.437340Z",
     "start_time": "2022-06-15T11:03:34.416Z"
    }
   },
   "outputs": [],
   "source": [
    "# 3. PvdA (Partij van de Arbeid) Subset period and party, set column 'text' as\n",
    "# character vector to serve as input for word2vec package\n",
    "files2 %>%\n",
    "    filter(str_detect(doc_id, \"pvda\")) -> pvda.7075\n",
    "pvda.7075 <- as.character(pvda.7075$text)\n",
    "\n",
    "# Train word2vec model\n",
    "model.pvda.7075 <- word2vec(x = pvda.7075, min_count = 5, threads = 4, type = \"skip-gram\",\n",
    "    dim = 100)\n",
    "\n",
    "# Create matrix\n",
    "emb.pvda.7075 <- as.matrix(model.pvda.7075)"
   ]
  },
  {
   "cell_type": "code",
   "execution_count": 56,
   "metadata": {
    "ExecuteTime": {
     "end_time": "2022-06-15T11:07:38.982793Z",
     "start_time": "2022-06-15T11:07:38.971Z"
    }
   },
   "outputs": [],
   "source": [
    "# 4. CDA (Christen-Democratische Appel) (NOTE: this party did not yet exist before 1980. Therefore the CDA is skipped in this example using '#') \n",
    "# Subset specific year, set as character vector to serve as input for word2vec package\n",
    "#files2 %>%\n",
    "#  filter(str_detect(doc_id, \"cda\")) -> cda.7075\n",
    "#cda.7075 <- as.character(cda.7075$text)\n",
    "\n",
    "# Train word2vec model\n",
    "#model.cda.7075 <- word2vec(x = cda.7075, min_count = 5, threads = 4, type = 'skip-gram', dim = 100)\n",
    "\n",
    "# Create matrix\n",
    "#emb.cda.7075 <- as.matrix(model.cda.7075)"
   ]
  },
  {
   "cell_type": "markdown",
   "metadata": {
    "tags": [
     "hermeneutics"
    ]
   },
   "source": [
    "For every party, in every time slot, we identified the preferred vocabulary for dicussing nuclear weapons within each WEM. These  vocabularies were identified by recalculating the combined nuclear weapon vector, using the same set  of synonyms and near-synonyms, but within each time-, and party specific model. We defined the time- and party specific nuclear-weapon vocabularies by taking the 100 nearest-neighbour words of the combined nuclear-weapon vector in each of the 15 WEMs. This resulted in a collection of 100-term sets most preferred by MPs of specific parties in specific periods when discussing nuclear weapons."
   ]
  },
  {
   "cell_type": "markdown",
   "metadata": {
    "tags": [
     "hermeneutics"
    ]
   },
   "source": [
    "The final step in this investigation is to position (or 'map') each term of these 100 words in accordance with their proximity to the proliferation and non-proliferation viewpoints. A term such as 'disarmament' will likely appear close to the non-proliferation axis, whereas 'security' would be closer to the pro-proliferation axis. Based on these positions, we can map how near each preferred vocabulary is to each of the two viewpoints. To do this, we have calculated a proximity metric (dot product), for each term in each set, to measure the proximity to the pro-proliferation and non-proliferation word vectors. "
   ]
  },
  {
   "cell_type": "markdown",
   "metadata": {
    "tags": [
     "hermeneutics"
    ]
   },
   "source": [
    "To do so, we first calculated combined vectors for both the pro-proliferation and anti-proliferation word sets within each party- and time specific WEM. This enables us to calculate the proximity of each of the 100 terms to each of the two opposing viewpoint vectors (within their model). These proximity scores reflect how close each of the 100 terms is to each of the viewpoint vectors. The proximity scores are plotted as data points in the following graph(s). It is important to emphasize that these calculations are valid only within their WEM. Notably, a certain nearest-neighbour term, for example 'safety' can be, and in fact often is, closer in vector space to non-proliferation in the parlance of one party and closer to pro-proliferation in another. It means that one party uses the word in a similar way to their use of pro-proliferation terms like 'deterrence', whereas the other uses it in a more similar way to the way it uses non-proliferation words like 'disarmament'. Hence, we position the terminology used to discuss nuclear weapons on a political spectrum based on the 'dialect' spoken by that specific party in that specific time frame. "
   ]
  },
  {
   "cell_type": "code",
   "execution_count": 57,
   "metadata": {
    "ExecuteTime": {
     "end_time": "2022-06-15T11:07:41.804903Z",
     "start_time": "2022-06-15T11:07:41.787Z"
    }
   },
   "outputs": [],
   "source": [
    "# Now that we have trained the models we continue with the analysis.\n",
    "# Create the word lists in the RStudio environment. These lists are generic as they are used for every party.\n",
    "words.weapon <-  c(\"kernwapen\", \"kernwapens\", \"atoomwapen\", \"atoomwapens\", \"kruisraket\", \"kruisraketten\", \"kruisvluchtwapen\", \"kruisvluchtwapens\", \"lanceraket\", \"lanceraketten\", \"navokernwapen\", \"navokernwapens\" )\n",
    "words.prol <- c(\"afschrikking\",  \"tactischnucleaire\",  \"proliferatieverdrag\",  \"strategischnucleaire\", \"proliferatie\", \"afschrikkingsevenwicht\",  \"afschrikkingsstrategie\", \"atoomparaplu\", \"waarborgenstelsel\", \"kernwapenstrategie\" , \"afschrikwekkende\", \"afschrikkingstheorie\", \"deterrent\", \"afschrikkingsfunctie\", \"afschrikkingspolitiek\", \"afschrikkingsrol\", \"afschrikkingswapen\", \"afschrikkingswapens\", \"afschrikkingsmacht\") \n",
    "words.nonprol <- c(\"ontwapening\", \"nonproliferatieverdrag\", \"kernwapenvrije\", \"kernwapenvrij\", \"denuclearisatie\", \"atoomvrije\", \"nonproliferatie\",  \"wapenbeperking\", \"wapenbeheersingsbesprekingen\", \"ontwapeningsbesprekingen\", \"kernstop\", \"ontwapeningsoverleg\", \"denuclearisering\", \"atoomvrij\",   \"gedenucleariseerd\", \"wapenbeheersing\", \"ontwapeningsonderhandelingen\", \"wapenbeheersingsonderhandelingen\", \"wapenvermindering\") \n"
   ]
  },
  {
   "cell_type": "markdown",
   "metadata": {
    "ExecuteTime": {
     "end_time": "2022-06-13T13:38:06.152990Z",
     "start_time": "2022-06-13T13:37:39.867Z"
    },
    "tags": [
     "hermeneutics"
    ]
   },
   "source": [
    "We use the trained word2vec models and the word lists for analysis of the CPN data."
   ]
  },
  {
   "cell_type": "code",
   "execution_count": 58,
   "metadata": {
    "ExecuteTime": {
     "end_time": "2022-06-15T11:07:46.716563Z",
     "start_time": "2022-06-15T11:07:46.699Z"
    }
   },
   "outputs": [],
   "source": [
    "# 1. CPN\n",
    "# Create 'kernwapen' vector \n",
    "wv.cpn <- predict(model.cpn.7075, newdata = words.weapon, type = \"embedding\")\n",
    "wv.cpn <- na.omit(wv.cpn)\n",
    "comb.wv.cpn <- colMeans(wv.cpn) "
   ]
  },
  {
   "cell_type": "code",
   "execution_count": 59,
   "metadata": {
    "ExecuteTime": {
     "end_time": "2022-06-15T11:07:50.290570Z",
     "start_time": "2022-06-15T11:07:50.271Z"
    }
   },
   "outputs": [],
   "source": [
    "# Extract 100 nearest neighbours from 'kernwapen' in vector space\n",
    "nns_wv.cpn <- predict(model.cpn.7075, newdata = comb.wv.cpn, type=\"nearest\", top_n=100)\n",
    "vecs_nns_nuc.100.cpn <- emb.cpn.7075[nns_wv.cpn$term,]"
   ]
  },
  {
   "cell_type": "code",
   "execution_count": 60,
   "metadata": {
    "ExecuteTime": {
     "end_time": "2022-06-15T11:08:01.587980Z",
     "start_time": "2022-06-15T11:08:01.572Z"
    }
   },
   "outputs": [],
   "source": [
    "# Create 'proliferation' vector\n",
    "pv.cpn <- predict(model.cpn.7075, newdata = words.prol, type = \"embedding\")\n",
    "pv.cpn <- na.omit(pv.cpn)\n",
    "comb.pv.cpn <- colMeans(pv.cpn) "
   ]
  },
  {
   "cell_type": "code",
   "execution_count": 61,
   "metadata": {
    "ExecuteTime": {
     "end_time": "2022-06-15T11:08:04.487236Z",
     "start_time": "2022-06-15T11:08:04.453Z"
    }
   },
   "outputs": [],
   "source": [
    "# Create 'non-proliferation' vector\n",
    "nv.cpn <- predict(model.cpn.7075, newdata = words.nonprol, type = \"embedding\")\n",
    "nv.cpn <- na.omit(nv.cpn)\n",
    "comb.nv.cpn <- colMeans(nv.cpn) "
   ]
  },
  {
   "cell_type": "code",
   "execution_count": 62,
   "metadata": {
    "ExecuteTime": {
     "end_time": "2022-06-15T11:08:08.722228Z",
     "start_time": "2022-06-15T11:08:08.706Z"
    }
   },
   "outputs": [],
   "source": [
    "# Calculate distance (cosine similarity). We use these scores to plot the results \n",
    "# Create scores for plotting by comparing vectors of 'kernwapen' and proliferation vs non-proliferation\n",
    "score_prol.cpn <- as.data.frame(word2vec_similarity(vecs_nns_nuc.100.cpn, comb.pv.cpn))\n",
    "score_nonprol.cpn <- as.data.frame(word2vec_similarity(vecs_nns_nuc.100.cpn, comb.nv.cpn))\n"
   ]
  },
  {
   "cell_type": "markdown",
   "metadata": {
    "tags": [
     "hermeneutics"
    ]
   },
   "source": [
    "We use the trained word2vec models and the word lists for analysis of the VVD data."
   ]
  },
  {
   "cell_type": "code",
   "execution_count": 63,
   "metadata": {
    "ExecuteTime": {
     "end_time": "2022-06-15T11:08:11.339757Z",
     "start_time": "2022-06-15T11:08:11.322Z"
    }
   },
   "outputs": [],
   "source": [
    "# 2. VVD\n",
    "# Create 'kernwapen' vector \n",
    "wv.vvd <- predict(model.vvd.7075, newdata = words.weapon, type = \"embedding\")\n",
    "wv.vvd <- na.omit(wv.vvd)\n",
    "comb.wv.vvd <- colMeans(wv.vvd) "
   ]
  },
  {
   "cell_type": "code",
   "execution_count": 64,
   "metadata": {
    "ExecuteTime": {
     "end_time": "2022-06-15T11:08:15.078279Z",
     "start_time": "2022-06-15T11:08:15.054Z"
    }
   },
   "outputs": [],
   "source": [
    "# Extract 100 nearest neighbours from 'kernwapen' in vector space\n",
    "nns_wv.vvd <- predict(model.vvd.7075, newdata = comb.wv.vvd, type=\"nearest\", top_n=100)\n",
    "vecs_nns_nuc.100.vvd <- emb.vvd.7075[nns_wv.vvd$term,]"
   ]
  },
  {
   "cell_type": "code",
   "execution_count": 65,
   "metadata": {
    "ExecuteTime": {
     "end_time": "2022-06-15T11:08:18.297709Z",
     "start_time": "2022-06-15T11:08:18.280Z"
    }
   },
   "outputs": [],
   "source": [
    "# Create 'proliferation' vector\n",
    "pv.vvd <- predict(model.vvd.7075, newdata = words.prol, type = \"embedding\")\n",
    "pv.vvd <- na.omit(pv.vvd)\n",
    "comb.pv.vvd <- colMeans(pv.vvd) "
   ]
  },
  {
   "cell_type": "code",
   "execution_count": 66,
   "metadata": {
    "ExecuteTime": {
     "end_time": "2022-06-15T11:08:22.421930Z",
     "start_time": "2022-06-15T11:08:22.405Z"
    }
   },
   "outputs": [],
   "source": [
    "# Create 'non-proliferation' vector\n",
    "nv.vvd <- predict(model.vvd.7075, newdata = words.nonprol, type = \"embedding\")\n",
    "nv.vvd <- na.omit(nv.vvd)\n",
    "comb.nv.vvd <- colMeans(nv.vvd) "
   ]
  },
  {
   "cell_type": "code",
   "execution_count": 67,
   "metadata": {
    "ExecuteTime": {
     "end_time": "2022-06-15T11:08:27.853703Z",
     "start_time": "2022-06-15T11:08:27.838Z"
    }
   },
   "outputs": [],
   "source": [
    "# Calculate distance (cosine similarity). We use these scores to plot the results \n",
    "# Create scores for plotting by comparing vectors of 'kernwapen' and proliferation vs non-proliferation\n",
    "score_prol.vvd <- as.data.frame(word2vec_similarity(vecs_nns_nuc.100.vvd, comb.pv.vvd))\n",
    "score_nonprol.vvd <- as.data.frame(word2vec_similarity(vecs_nns_nuc.100.vvd, comb.nv.vvd))\n"
   ]
  },
  {
   "cell_type": "markdown",
   "metadata": {
    "tags": [
     "hermeneutics"
    ]
   },
   "source": [
    "We use the trained word2vec models and the word lists for analysis of the PvdA data."
   ]
  },
  {
   "cell_type": "code",
   "execution_count": 3,
   "metadata": {
    "ExecuteTime": {
     "end_time": "2022-06-15T11:08:30.928060Z",
     "start_time": "2022-06-15T11:08:30.895Z"
    }
   },
   "outputs": [
    {
     "ename": "SyntaxError",
     "evalue": "invalid syntax (1933419128.py, line 3)",
     "output_type": "error",
     "traceback": [
      "\u001b[1;36m  File \u001b[1;32m\"C:\\Users\\Milan\\AppData\\Local\\Temp\\ipykernel_15916\\1933419128.py\"\u001b[1;36m, line \u001b[1;32m3\u001b[0m\n\u001b[1;33m    wv.pvda <- predict(model.pvda.7075, newdata = words.weapon, type = \"embedding\")\u001b[0m\n\u001b[1;37m                                 ^\u001b[0m\n\u001b[1;31mSyntaxError\u001b[0m\u001b[1;31m:\u001b[0m invalid syntax\n"
     ]
    }
   ],
   "source": [
    "# 3. PvdA\n",
    "# Create 'kernwapen' vector \n",
    "wv.pvda <- predict(model.pvda.7075, newdata = words.weapon, type = \"embedding\")\n",
    "wv.pvda <- na.omit(wv.pvda)\n",
    "comb.wv.pvda <- colMeans(wv.pvda)"
   ]
  },
  {
   "cell_type": "code",
   "execution_count": 69,
   "metadata": {
    "ExecuteTime": {
     "end_time": "2022-06-15T11:08:33.940998Z",
     "start_time": "2022-06-15T11:08:33.913Z"
    }
   },
   "outputs": [],
   "source": [
    "# Extract 100 nearest neighbours from 'kernwapen' in vector space\n",
    "nns_wv.pvda <- predict(model.pvda.7075, newdata = comb.wv.pvda, type=\"nearest\", top_n=100)\n",
    "vecs_nns_nuc.100.pvda <- emb.pvda.7075[nns_wv.pvda$term,]"
   ]
  },
  {
   "cell_type": "code",
   "execution_count": 70,
   "metadata": {
    "ExecuteTime": {
     "end_time": "2022-06-15T11:08:39.778539Z",
     "start_time": "2022-06-15T11:08:39.763Z"
    }
   },
   "outputs": [],
   "source": [
    "# Create 'proliferation' vector\n",
    "pv.pvda <- predict(model.pvda.7075, newdata = words.prol, type = \"embedding\")\n",
    "pv.pvda <- na.omit(pv.pvda)\n",
    "comb.pv.pvda <- colMeans(pv.pvda) "
   ]
  },
  {
   "cell_type": "code",
   "execution_count": 71,
   "metadata": {
    "ExecuteTime": {
     "end_time": "2022-06-15T11:08:43.585140Z",
     "start_time": "2022-06-15T11:08:43.567Z"
    }
   },
   "outputs": [],
   "source": [
    "# Create 'non-proliferation' vector\n",
    "nv.pvda <- predict(model.pvda.7075, newdata = words.nonprol, type = \"embedding\")\n",
    "nv.pvda <- na.omit(nv.pvda)\n",
    "comb.nv.pvda <- colMeans(nv.pvda) "
   ]
  },
  {
   "cell_type": "code",
   "execution_count": 72,
   "metadata": {
    "ExecuteTime": {
     "end_time": "2022-06-15T11:08:46.810635Z",
     "start_time": "2022-06-15T11:08:46.793Z"
    }
   },
   "outputs": [],
   "source": [
    "# Create 'non-proliferation' vector\n",
    "nv.cpn <- predict(model.cpn.7075, newdata = words.nonprol, type = \"embedding\")\n",
    "nv.cpn <- na.omit(nv.cpn)\n",
    "comb.nv.cpn <- colMeans(nv.cpn) "
   ]
  },
  {
   "cell_type": "code",
   "execution_count": 73,
   "metadata": {
    "ExecuteTime": {
     "end_time": "2022-06-15T11:08:52.812212Z",
     "start_time": "2022-06-15T11:08:52.796Z"
    }
   },
   "outputs": [],
   "source": [
    "# Calculate distance (cosine similarity). We use these scores to plot the results \n",
    "# Create scores for plotting by comparing vectors of 'kernwapen' and proliferation vs non-proliferation\n",
    "score_prol.pvda <- as.data.frame(word2vec_similarity(vecs_nns_nuc.100.pvda, comb.pv.pvda))\n",
    "score_nonprol.pvda <- as.data.frame(word2vec_similarity(vecs_nns_nuc.100.pvda, comb.nv.pvda))\n"
   ]
  },
  {
   "cell_type": "markdown",
   "metadata": {
    "tags": [
     "hermeunetics"
    ]
   },
   "source": [
    "We use the trained word2vec models and the word lists for analysis of the CDA data (not used in this 1970-1975 example)."
   ]
  },
  {
   "cell_type": "code",
   "execution_count": 4,
   "metadata": {
    "ExecuteTime": {
     "end_time": "2022-06-15T11:08:55.649945Z",
     "start_time": "2022-06-15T11:08:55.637Z"
    }
   },
   "outputs": [],
   "source": [
    "# 4. CDA\n",
    "# Create 'kernwapen' vector \n",
    "#wv.cda <- predict(model.cda.7075, newdata = words.weapon, type = \"embedding\")\n",
    "#wv.cda <- na.omit(wv.cda)\n",
    "#comb.wv.cda <- colMeans(wv.cda) \n",
    "\n",
    "# Extract 100 nearest neighbours from 'kernwapen' in vector space\n",
    "#nns_wv.cda <- predict(model.cda.7075, newdata = comb.wv.cda, type=\"nearest\", top_n=100)\n",
    "#vecs_nns_nuc.100.cda <- emb.cda.7075[nns_wv.cda$term,]\n",
    "\n",
    "# Create 'proliferation' vector\n",
    "#pv.cda <- predict(model.cda.7075, newdata = words.prol, type = \"embedding\")\n",
    "#pv.cda <- na.omit(pv.cda)\n",
    "#comb.pv.cda <- colMeans(pv.cda) \n",
    "\n",
    "# Create 'non-proliferation' vector\n",
    "#nv.cda <- predict(model.cda.7075, newdata = words.nonprol, type = \"embedding\")\n",
    "#nv.cda <- na.omit(nv.cda)\n",
    "#comb.nv.cda <- colMeans(nv.cda) \n",
    "\n",
    "# Calculate distance (cosine similarity). We use these scores to plot the results\n",
    "\n",
    "# Calculate distance (cosine similarity). We use these scores to plot the results \n",
    "# Create scores for plotting by comparing vectors of 'kernwapen' and proliferation vs non-proliferation\n",
    "#score_prol.cda <- as.data.frame(word2vec_similarity(vecs_nns_nuc.100.cda, comb.pv.cda))\n",
    "#score_nonprol.cda <- as.data.frame(word2vec_similarity(vecs_nns_nuc.100.cda, comb.nv.cda))\n"
   ]
  },
  {
   "cell_type": "markdown",
   "metadata": {
    "tags": [
     "hermeneutics"
    ]
   },
   "source": [
    "The aforementioned approach fullfills a function similar to discourse analysis in historisch research. However, whereas traditional methodology focuses on the deep understanding of expressions within their context, this method uses relatively minute shifts in choice of words to identify changing vocabularies. Results of this analysis described are plotted and described in the next section. We believe it is important to note that in describing and interpreting the results, we have chosen to avoid using direct exemplary quotations from the parliamentary records. Doing so would effectively lead to cherry-picking. It would be possible, specifically, to find quotations of proponents of nuclear armaments that discuss and/or acknowledge the unpleasantness of such weapons. We fear that by quoting them directly, we are suggesting a more 'surface level' change than we actually observe, a problem also discussed by Blaxill and Van Lange <cite data-cite=\"2361604/9ZF3RWH8\"></cite> <cite data-cite=\"undefined\"></cite>."
   ]
  },
  {
   "cell_type": "markdown",
   "metadata": {},
   "source": [
    "## Results"
   ]
  },
  {
   "cell_type": "markdown",
   "metadata": {
    "tags": [
     "narrative"
    ]
   },
   "source": [
    "The figures below plot the position of the 100 terms used by each of the political parties in a given period to discuss nuclear weapons. Each term is plotted as a single data point in the following graphs, based on its proximity (score) to the proliferation and non-proliferation word vectors. Although they are plotted in the same figure, the underlying scores are based on separate, party-specific WEMs. On the one hand, this visualisation allows us to study the use of terminology within the manner of speech of a specific party at a given time. On the other hand, the comparability of results is highly questionable. To make the outcomes of different parties comparable, the uniform pro- and anti-proliferation vectors are crucial. We cannot compare party-specific WEMs outright, but we can show how parties position themselves, through speech, on the pro-anti continuum."
   ]
  },
  {
   "cell_type": "markdown",
   "metadata": {
    "tags": [
     "narrative"
    ]
   },
   "source": [
    "This method, although admittedly cumbersome, has considerable advantages.  The 100 preferred terms of each party can change through time, and the position of each word vector in each consecutive WEM is different. But the position of the 100 nearest-neighbour terms for each party and each period, relative to the sets of pro- and anti-proliferation terms can be calculated, and compared, by using dot product metrics."
   ]
  },
  {
   "cell_type": "code",
   "execution_count": 5,
   "metadata": {
    "ExecuteTime": {
     "end_time": "2022-06-15T11:08:58.774950Z",
     "start_time": "2022-06-15T11:08:57.980Z"
    },
    "jdh": {
     "module": "object",
     "object": {
      "source": [
       "figure 1: Party-specific nuclear weapon vocabularies plotted by their similarity to proliferation words(x) and non-proliferation words(y) 1970-1975"
      ],
      "type": "image"
     }
    },
    "tags": [
     "figure-1"
    ]
   },
   "outputs": [
    {
     "ename": "SyntaxError",
     "evalue": "invalid syntax (2761316795.py, line 3)",
     "output_type": "error",
     "traceback": [
      "\u001b[1;36m  File \u001b[1;32m\"C:\\Users\\Milan\\AppData\\Local\\Temp\\ipykernel_15916\\2761316795.py\"\u001b[1;36m, line \u001b[1;32m3\u001b[0m\n\u001b[1;33m    plot(score_prol.pvda$V1, score_nonprol.pvda$V1, ylim = c(0, 1), xlim = c(0, 1), xlab = \"Proliferation\",\u001b[0m\n\u001b[1;37m                        ^\u001b[0m\n\u001b[1;31mSyntaxError\u001b[0m\u001b[1;31m:\u001b[0m invalid syntax\n"
     ]
    }
   ],
   "source": [
    "# Create the plot, plot scores for each party, use a different colour for each\n",
    "# party.\n",
    "plot(score_prol.pvda$V1, score_nonprol.pvda$V1, ylim = c(0, 1), xlim = c(0, 1), xlab = \"Proliferation\",\n",
    "    ylab = \"Non-proliferation\", type = \"p\", pch = 16, col = c(\"blue\"), \n",
    "    main = \"Party-specific nuclear weapon vocabularies plotted by their similarity to proliferation words(x) and non-proliferation words(y) 1970-1975\"),\n",
    "     cex.main=0.8,\n",
    "points(score_prol.cpn$V1, score_nonprol.cpn$V1, pch = 16, col = c(\"red\"))\n",
    "points(score_prol.vvd$V1, score_nonprol.vvd$V1, pch = 16, col = c(\"black\"))\n",
    "# points(score_prol.cda$V1, score_nonprol.cda$V1, pch=16, col=c('green'))\n",
    "\n",
    "# Plot abline\n",
    "abline(a = 0, b = 1)\n",
    "\n",
    "# Create legend\n",
    "legend(\"bottomright\", legend = c(\"CPN\", \"VVD\", \"PvdA\"), col = c(\"red\", \"black\", \"blue\"),\n",
    "    lwd = 11, cex = 0.8)"
   ]
  },
  {
   "cell_type": "markdown",
   "metadata": {
    "tags": [
     "narrative"
    ]
   },
   "source": [
    "The early 1970s reveal the pattern that was to be expected at the height of the cold war. The Moscow-oriented Communist Party of the Netherlands (CPN) uses a vocabulary that reflects its emphasis on the need for one-sided disarmament and non-proliferation. To put it differently, their preferred terminology falls within the discursive space of non-proliferation. The vocabularies of the Liberal parliamentarians (VVD) score almost exclusively on the other side of the binary spectrum. Labour (PvdA), similar to the Liberals, scores strikingly high on 'pro-proliferation' as well. From this we infer that at this point in time major non-communist parties spoke about nuclear weapons in roughly the same way. The stationing of nuclear weapons in the Netherlands was not yet an issue, whereas loyalty to NATO and the western defence against the Soviet Union were important. Nuclear weapons appear to have been accepted as integral to the Atlantic defence against the Soviet block by both relatively progressive and conservative parties."
   ]
  },
  {
   "cell_type": "markdown",
   "metadata": {
    "tags": [
     "narrative"
    ]
   },
   "source": [
    "The political position of Labour (PvdA) regarding membership of NATO, undeniably a nuclear-enabled military organization, did not change, but it did object strongly to the coming of cruise missiles. This is reflected in its vocabulary about nuclear weapons after the Double Track Decision. As can be seen in the 1975-1980 plot, Labour (PvdA) moved entirely over the dividing line, into the non-proliferation discursive space. The Liberal party (VVD) remained partly within the discursive space that the party had inhabited before, although the entirety of parliamentary vocabulary about nuclear weapons clearly emphasized non-proliferation in the 1980s more than before."
   ]
  },
  {
   "cell_type": "code",
   "execution_count": 6,
   "metadata": {
    "ExecuteTime": {
     "end_time": "2022-07-13T15:09:58.336035Z",
     "start_time": "2022-07-13T15:09:58.304Z"
    },
    "lines_to_next_cell": 2,
    "scrolled": true
   },
   "outputs": [
    {
     "ename": "NameError",
     "evalue": "name 'library' is not defined",
     "output_type": "error",
     "traceback": [
      "\u001b[1;31m---------------------------------------------------------------------------\u001b[0m",
      "\u001b[1;31mNameError\u001b[0m                                 Traceback (most recent call last)",
      "\u001b[1;32m~\\AppData\\Local\\Temp\\ipykernel_15916\\1182929732.py\u001b[0m in \u001b[0;36m<module>\u001b[1;34m\u001b[0m\n\u001b[1;32m----> 1\u001b[1;33m \u001b[0mlibrary\u001b[0m\u001b[1;33m(\u001b[0m\u001b[1;34m\"IRdisplay\"\u001b[0m\u001b[1;33m)\u001b[0m\u001b[1;33m\u001b[0m\u001b[1;33m\u001b[0m\u001b[0m\n\u001b[0m\u001b[0;32m      2\u001b[0m \u001b[0mdisplay_png\u001b[0m\u001b[1;33m(\u001b[0m\u001b[0mfile\u001b[0m\u001b[1;33m=\u001b[0m\u001b[1;34m\"data/plot_7580_parties.jpg\"\u001b[0m\u001b[1;33m)\u001b[0m\u001b[1;33m\u001b[0m\u001b[1;33m\u001b[0m\u001b[0m\n",
      "\u001b[1;31mNameError\u001b[0m: name 'library' is not defined"
     ]
    }
   ],
   "source": [
    "library(\"IRdisplay\")\n",
    "display_png(file=\"data/plot_7580_parties.jpg\") "
   ]
  },
  {
   "cell_type": "code",
   "execution_count": 7,
   "metadata": {
    "ExecuteTime": {
     "end_time": "2022-07-13T15:10:06.074152Z",
     "start_time": "2022-07-13T15:10:06.055Z"
    }
   },
   "outputs": [
    {
     "ename": "NameError",
     "evalue": "name 'library' is not defined",
     "output_type": "error",
     "traceback": [
      "\u001b[1;31m---------------------------------------------------------------------------\u001b[0m",
      "\u001b[1;31mNameError\u001b[0m                                 Traceback (most recent call last)",
      "\u001b[1;32m~\\AppData\\Local\\Temp\\ipykernel_15916\\2301370466.py\u001b[0m in \u001b[0;36m<module>\u001b[1;34m\u001b[0m\n\u001b[1;32m----> 1\u001b[1;33m \u001b[0mlibrary\u001b[0m\u001b[1;33m(\u001b[0m\u001b[1;34m\"IRdisplay\"\u001b[0m\u001b[1;33m)\u001b[0m\u001b[1;33m\u001b[0m\u001b[1;33m\u001b[0m\u001b[0m\n\u001b[0m\u001b[0;32m      2\u001b[0m \u001b[0mdisplay_png\u001b[0m\u001b[1;33m(\u001b[0m\u001b[0mfile\u001b[0m\u001b[1;33m=\u001b[0m\u001b[1;34m\"data/plot_8590_parties.jpg\"\u001b[0m\u001b[1;33m)\u001b[0m\u001b[1;33m\u001b[0m\u001b[1;33m\u001b[0m\u001b[0m\n",
      "\u001b[1;31mNameError\u001b[0m: name 'library' is not defined"
     ]
    }
   ],
   "source": [
    "library(\"IRdisplay\")\n",
    "display_png(file=\"data/plot_8590_parties.jpg\") "
   ]
  },
  {
   "cell_type": "markdown",
   "metadata": {},
   "source": [
    "It should be noted, however, that the fact that disarmament was part of vocabularies, does not imply that those speaking agreed with a broadly non-proliferation agenda. The mere fact that anti-nuclear movements were prominent at the time explains that it also became more of a topic to be discussed in parliament.  What can be said, based on the 1975-1980, 1980-1985 (see Appendix), and 1985-1990 plots, on the other hand, is that within these discussions the preferred terminology shifted. Although the majority still walked the walk of the Christian Democrats (CDA) and the Liberals (VVD) regarding NATO, it was talking the talk of anti-nuclear peace activists, placing their vocabularies much closer in discursive space to the communists (CPN) than before."
   ]
  },
  {
   "cell_type": "markdown",
   "metadata": {},
   "source": [
    "Another important shift takes place as a consequence of the thaw in US-Soviet relations in the mid-eighties. US president Reagan and Soviet leader Gorbachov agreed in 1986 to the removal of INF nuclear systems in Europa, and agreed to strive towards the complete elimination of nuclear weapons by 1996. This mutual disarmament became a viable option for the foreseeable future. As we see in the 1985-1990 plot (the final timeslot in this investigation), the language of the more conservative parties moved further into the discursive space of nuclear non-proliferation and entirely crossed the line in favour of the non-proliferation terminology. The upwards-moving tendency of all the parties on the non-proliferation-axis can partly also be explained by a growing importance of disarmament and non-proliferation as a topic of discussion."
   ]
  },
  {
   "cell_type": "markdown",
   "metadata": {},
   "source": [
    "## Conclusion\n"
   ]
  },
  {
   "cell_type": "markdown",
   "metadata": {},
   "source": [
    "The seemingly stable divide between proponents and opponents of nuclear proliferation in The Netherlands, the received wisdom in both contemporary journalism and later historiography, obscures a historical reality of considerable change. While official viewpoints remained unchanged, the topical boundaries of the political discussion were shifting considerably. That they did so, is easy to understand; the changing geopolitical situation in the 1980s especially caused views on proliferation to change. But to demonstrate the shift in political language required a complex exercise in digital history. We believe it is also a useful exercise. Shifts in vocabulary are relevant in many enquiries into political history. To be able to identify what constituted the scope of discourse allows us to identify political shifts separately from their (possible) expression in laws or stated opinions. "
   ]
  },
  {
   "cell_type": "markdown",
   "metadata": {},
   "source": [
    "By calculating the proximities between two opposite or related concepts for specific periods, we were able to compare WEMs for different periods. This opens the door for the use of word embeddings as a tool for diachronic historical research, because it enables us to investigate change through time in sufficiently large and consistent historical datasets. Parliamentary records are a good example  of  such  datasets.  As  such,  this  method  holds  considerable  promise  in  a  period  when  parliamentary proceedings are increasingly made available in machine readable format. But there may be many other applications that unleash the potential of WEM's in to study historical change."
   ]
  },
  {
   "cell_type": "markdown",
   "metadata": {},
   "source": [
    "Although the exploration of the Word Embedding Models (WEMs) and their use in historical research was a primary reason to undertake this investigation, the results are not trivial or historiographically unimportant. The dominant image, to date, has been one of stable, indeed rigid positions of both political parties and individuals within parties. It appeared, both to contemporaries and to later commentators, that although massive in scale, demonstrations failed to sway people. What we have shown here, however, is that agenda-setting, by activists or by geopolitical developments, did in fact impact the discussions on the highest political level. The discussions, as said, were in retrospect moot and pointless. But they did map out the realm of opinions on nuclear armament in the Netherlands. "
   ]
  },
  {
   "cell_type": "markdown",
   "metadata": {},
   "source": [
    "## Acknowledgements\n"
   ]
  },
  {
   "cell_type": "markdown",
   "metadata": {},
   "source": [
    "We  are  grateful  to  the  participants  of  the  Data-driven  Conceptual  History  panel  at  the  Genealogies  of  Knowledge conference in Manchester (December 2017), and the Research Group 'The Seventies' at the Radboud University in Nijmegen, for their comments, input, and constructive criticism. This paper would never have existed in this form without the endless patience and efforts of Elisabeth Guerard.\n"
   ]
  },
  {
   "cell_type": "markdown",
   "metadata": {
    "tags": [
     "hidden"
    ]
   },
   "source": [
    "## Bibliography"
   ]
  },
  {
   "cell_type": "markdown",
   "metadata": {
    "tags": [
     "hidden"
    ]
   },
   "source": [
    "<div class=\"cite2c-biblio\"></div>"
   ]
  },
  {
   "cell_type": "markdown",
   "metadata": {},
   "source": [
    "## Appendix\n"
   ]
  },
  {
   "cell_type": "code",
   "execution_count": 1,
   "metadata": {
    "ExecuteTime": {
     "end_time": "2022-07-13T13:12:10.904841Z",
     "start_time": "2022-07-13T13:12:09.482Z"
    }
   },
   "outputs": [
    {
     "data": {
      "image/png": "[encoded data removed]"
     },
     "metadata": {},
     "output_type": "display_data"
    }
   ],
   "source": [
    "library(\"IRdisplay\")\n",
    "display_png(file=\"data/plot_7580_parties.jpg\") "
   ]
  },
  {
   "cell_type": "code",
   "execution_count": 2,
   "metadata": {
    "ExecuteTime": {
     "end_time": "2022-07-13T13:12:20.096007Z",
     "start_time": "2022-07-13T13:12:20.069Z"
    }
   },
   "outputs": [
    {
     "data": {
      "image/png": "[encoded data removed]"
     },
     "metadata": {},
     "output_type": "display_data"
    }
   ],
   "source": [
    "library(\"IRdisplay\")\n",
    "display_png(file=\"data/plot_8085_parties.jpg\") "
   ]
  }
 ],
 "metadata": {
  "celltoolbar": "Tags",
  "cite2c": {
   "citations": {
    "1198963/3LD4U97R": {
     "ISBN": "9783319181165 9783319181172",
     "URL": "https://doi.org/10.1007/978-3-319-18117-2",
     "abstract": "The two volumes LNCS 9041 and 9042 constitute the proceedings of the 16th International Conference on Computational Linguistics and Intelligent Text Processing, CICLing 2015, held in Cairo, Egypt, in April 2015. The total of 95 full papers presented was carefully reviewed and selected from 329 submissions. They were organized in topical sections on grammar formalisms and lexical resources; morphology and chunking; syntax and parsing; anaphora resolution and word sense disambiguation; semantics and dialogue; machine translation and multilingualism; sentiment analysis and emotion detection; opinion mining and social network analysis; natural language generation and text summarization; information retrieval, question answering, and information extraction; text classification; speech processing; and applications.",
     "accessed": {
      "day": 6,
      "month": 9,
      "year": 2021
     },
     "author": [
      {
       "family": "Gelbukh",
       "given": "Alexander"
      }
     ],
     "event-place": "Cham",
     "id": "1198963/3LD4U97R",
     "issued": {
      "year": 2015
     },
     "language": "English",
     "note": "OCLC: 908701671",
     "publisher": "Springer International Publishing",
     "publisher-place": "Cham",
     "shortTitle": "Computational Linguistics and Intelligent Text Processing",
     "title": "Computational Linguistics and Intelligent Text Processing: 16th International Conference, CICLing 2015, Cairo, Egypt, April 14-20, 2015, Proceedings, Part II",
     "title-short": "Computational Linguistics and Intelligent Text Processing",
     "type": "book"
    },
    "1198963/82EV54NM": {
     "URL": "https://www.delpher.nl/nl/kranten/view?coll=ddd&identifier=ABCDDD:010879471:mpeg21:a0198",
     "abstract": "De Volkskrant van 19 jun 1984 (art. 198) ✓ In zijn geheel te lezen ✓ Digitaal te doorzoeken ✓ Gratis toegankelijk ➜ Delpher.nl",
     "accessed": {
      "day": 8,
      "month": 9,
      "year": 2021
     },
     "container-title": "De Volkskrant",
     "id": "1198963/82EV54NM",
     "issued": {
      "day": 19,
      "month": 6,
      "year": 1984
     },
     "language": "nl",
     "title": "CDA ziet af van heksenjacht op dwarsliggers",
     "type": "article-newspaper"
    },
    "1198963/BXVSHFUR": {
     "ISBN": "9781352010503 9781352010381",
     "author": [
      {
       "family": "Andeweg",
       "given": "R. B"
      },
      {
       "family": "Irwin",
       "given": "Galen A"
      },
      {
       "family": "Louwerse",
       "given": "Tom"
      }
     ],
     "id": "1198963/BXVSHFUR",
     "issued": {
      "year": 2020
     },
     "language": "English",
     "note": "OCLC: 1153975182",
     "title": "Governance and politics of the Netherlands",
     "type": "book"
    },
    "1198963/F4WBXCNA": {
     "URL": "https://www.worldcat.org/title/hollanditis-a-new-stage-in-european-neutralism/oclc/1153116038&referer=brief_results",
     "accessed": {
      "day": 6,
      "month": 9,
      "year": 2021
     },
     "id": "1198963/F4WBXCNA",
     "title": "Hollanditis: a new stage in European neutralism. (Journal, magazine, 1981) [WorldCat.org]",
     "type": "webpage"
    },
    "1198963/H7BZIGSB": {
     "author": [
      {
       "family": "Partij van de Arbeid",
       "given": ""
      }
     ],
     "event-place": "Amsterdam",
     "id": "1198963/H7BZIGSB",
     "issued": {
      "year": 1982
     },
     "language": "Undetermined",
     "note": "OCLC: 914586220",
     "publisher-place": "Amsterdam",
     "shortTitle": "Eerlijk delen",
     "title": "Eerlijk delen: Verkiezingsprogramma van de PvdA.",
     "title-short": "Eerlijk delen",
     "type": "book"
    },
    "1198963/JCSZY32M": {
     "URL": "http://arxiv.org/abs/1301.3781",
     "abstract": "We propose two novel model architectures for computing continuous vector representations of words from very large data sets. The quality of these representations is measured in a word similarity task, and the results are compared to the previously best performing techniques based on different types of neural networks. We observe large improvements in accuracy at much lower computational cost, i.e. it takes less than a day to learn high quality word vectors from a 1.6 billion words data set. Furthermore, we show that these vectors provide state-of-the-art performance on our test set for measuring syntactic and semantic word similarities.",
     "accessed": {
      "day": 8,
      "month": 9,
      "year": 2021
     },
     "author": [
      {
       "family": "Mikolov",
       "given": "Tomas"
      },
      {
       "family": "Chen",
       "given": "Kai"
      },
      {
       "family": "Corrado",
       "given": "Greg"
      },
      {
       "family": "Dean",
       "given": "Jeffrey"
      }
     ],
     "container-title": "arXiv:1301.3781 [cs]",
     "issued": {
      "day": 6,
      "month": 9,
      "year": 2013
     },
     "note": "arXiv: 1301.3781",
     "title": "Efficient Estimation of Word Representations in Vector Space",
     "type": "article-journal"
    },
    "1198963/N5Q7977B": {
     "abstract": "Over the last decade we have made great progress in entity linking (EL) systems, but performance may vary depending on the context and, arguably, there are even principled limitations prevent a \"perfect\" EL system. This also suggests that there may be applications for which current \"imperfect\" EL is already very useful, and makes finding the \"right\" application as important as building the \"right\" EL system.We investigate the Digital Humanities use case, where scholars spend a considerable amount of time selecting relevant source texts. We developed WideNet; a semantically-enhanced search tool which leverages the strengths of (imperfect) EL without getting in the way of its expert users. We evaluate this tool in two historical case-studies aiming to collect a set of references to historical periods in parliamentary debates from the last two decades; the first targeted the Dutch Golden Age, and the second World War II.The case-studies conclude with a critical reflection on the utility of WideNet for this kind of research, after which we outline how such a real-world application can help to improve EL technology in general.",
     "author": [
      {
       "family": "Olieman",
       "given": "Alex"
      },
      {
       "family": "Beelen",
       "given": "Kaspar"
      },
      {
       "family": "Lange",
       "given": "van, Milan"
      },
      {
       "family": "Kamps",
       "given": "Jaap"
      },
      {
       "family": "Marx",
       "given": "Maarten"
      }
     ],
     "id": "1198963/N5Q7977B",
     "issued": {
      "year": 2017
     },
     "shortTitle": "Good Applications for Crummy Entity Linkers?",
     "title": "Good Applications for Crummy Entity Linkers?: SEMANTiCS 2017",
     "title-short": "Good Applications for Crummy Entity Linkers?",
     "type": "paper-conference"
    },
    "1198963/QSH7MBHD": {
     "URL": "https://www.delpher.nl/nl/kranten/view?coll=ddd&identifier=ABCDDD:010847387:mpeg21:a0198",
     "abstract": "Het Parool van 15 apr 1981 (art. 198) ✓ In zijn geheel te lezen ✓ Digitaal te doorzoeken ✓ Gratis toegankelijk ➜ Delpher.nl",
     "accessed": {
      "day": 8,
      "month": 9,
      "year": 2021
     },
     "author": [
      {
       "family": "Steinmetz",
       "given": "Bert"
      }
     ],
     "container-title": "Het Parool",
     "id": "1198963/QSH7MBHD",
     "language": "nl",
     "title": "Van Agts toegewijde fanclub",
     "type": "article-newspaper"
    },
    "2361604/7ZPBFFIP": {
     "URL": "https://www.commentary.org/articles/walter-laqueur/hollanditis-a-new-stage-in-european-neutralism/",
     "abstract": "Holland has long been known as an exemplary country, sober, industrious, tolerant, a country whose people had to struggle hard for their prosperity against the forces of nature. Dutch politics",
     "accessed": {
      "day": 19,
      "month": 12,
      "year": 2022
     },
     "author": [
      {
       "family": "Walter Laqueur",
       "given": ""
      }
     ],
     "container-title": "Commentary Magazine",
     "id": "2361604/7ZPBFFIP",
     "issued": {
      "day": 1,
      "month": 8,
      "year": 1981
     },
     "language": "en-US",
     "shortTitle": "Hollanditis",
     "title": "Hollanditis: A New Stage in European Neutralism",
     "title-short": "Hollanditis",
     "type": "article-magazine"
    },
    "2361604/9VBDX4M2": {
     "URL": "https://ojs.inz.si/pnz/article/view/322",
     "accessed": {
      "day": 26,
      "month": 12,
      "year": 2019
     },
     "author": [
      {
       "family": "Lange",
       "given": "Milan van"
      },
      {
       "family": "Futselaar",
       "given": "Ralf"
      }
     ],
     "container-title": "Contributions to Contemporary History",
     "issue": "1",
     "issued": {
      "day": 7,
      "month": 6,
      "year": 2019
     },
     "page": "140-156",
     "page-first": "140",
     "shortTitle": "Debating Evil",
     "title": "Debating Evil: Using Word Embeddings to Analyse Parliamentary Debates on War Criminals in the Netherlands",
     "title-short": "Debating Evil",
     "type": "article-journal",
     "volume": "59"
    },
    "2361604/9ZF3RWH8": {
     "ISBN": "978-0-86193-354-9",
     "abstract": "The late nineteenth and early twentieth century have been widely eulogised as a \"golden age\" of popular platform oratory. This book considers the language of British elections - especially stump speeches - during this period. It employs a \"big data\" methodology inspired by computational linguistics, using text-mining to analyse over five million words delivered by Conservative, Liberal and Labour candidates in the nine elections that took place in this period. It systematically and authoritatively quantifies how and how far key issues, values, traditions and personalities manifested themselves in wider party discourse.The author reassesses a number of central historical debates, arguing that historians have considerably underestimated the transformative impact of the 1883-5 reforms on rural party language, and the purchase of Joseph Chamberlain's Unauthorized Programme; that the centrality of Home Rule and Imperialism in the late 1880s and 1890s have been exaggerated; and that the New Liberalism's linguistic impact was relatively weak, failing to contain the message of the emerging Labour alternative.LUKE BLAXILL gained his PhD in History and the Digital Humanities from Kings College, London, in 2012; he is currently College Lecturer in Modern British History at Hertford College, Oxford.",
     "author": [
      {
       "family": "Blaxill",
       "given": "Luke"
      }
     ],
     "event-place": "Suffolk and Rochester",
     "issued": {
      "date-parts": [
       [
        "2020",
        4,
        17
       ]
      ]
     },
     "language": "English",
     "number-of-pages": "362",
     "publisher": "Boydell & Brewer",
     "publisher-place": "Suffolk and Rochester",
     "shortTitle": "The War of Words",
     "title": "The War of Words: The Language of British Elections, 1880-1914",
     "type": "book"
    },
    "2361604/AZGP28RE": {
     "URL": "https://easy.dans.knaw.nl/ui/datasets/id/easy-dataset:51637",
     "abstract": "This page refers to a collection of datasets related to the Dutch Parliament and Senate of the period 1814-2012, they are all part of the 2012 project PoliticalMashup. These datasets are created by a group of researchers of the Informatics Institute, University of Amsterdam.The collection includes:A. Biographical data of all Members of Parliament of the Netherlands from 1814 - april 2012 (dataset \"PoliticalMashup 1814-2012\")B. Data on all Political Parties of the Netherlands with at least one seat in Parliament or the Senate from 1814 - april 2012 (dataset \"PoliticalMashup 1814-2012\")C. The proceedings of both Parliament and Senate.The proceedings are available in three forms: 1) enriched and non-semanticized (dataset \"Dutch parliamentary proceedings 1814-2012 non-semanticized\")2) enriched and semanticized in FoLiA annotation (dataset \"Dutch parliamentary proceedings 1930-2012, semanticized\")3) as a list of named entities with references back to the text (dataset \"Dutch parliamentary proceedings 1930-2012, named entities\").",
     "accessed": {
      "day": 25,
      "month": 2,
      "year": 2019
     },
     "author": [
      {
       "family": "Marx",
       "given": "M."
      },
      {
       "family": "Doornik",
       "given": "J. Van"
      },
      {
       "family": "Nusselder",
       "given": "A."
      },
      {
       "family": "Buitinck",
       "given": "L."
      }
     ],
     "id": "2361604/AZGP28RE",
     "issued": {
      "year": 2012
     },
     "language": "nl",
     "note": "type: dataset\nDOI: 10.17026/dans-zg8-9x2v",
     "publisher": "Data Archiving and Networked Services (DANS)",
     "shortTitle": "Thematic collection",
     "title": "Thematic collection: Political Mashup and Dutch Parliamentary Proceedings 1814-2013",
     "title-short": "Thematic collection",
     "type": "article"
    },
    "2361604/ERXFWLA4": {
     "URL": "https://www.cvce.eu/en/obj/the_euromissile_crisis-en-0133b225-018a-41c6-9bdb-ed2e1ec41620.html",
     "abstract": "The Euromissile crisis",
     "accessed": {
      "day": 19,
      "month": 12,
      "year": 2022
     },
     "author": [
      {
       "family": "Martins",
       "given": "Véronica"
      }
     ],
     "container-title": "CVCE.EU by UNI.LU",
     "id": "2361604/ERXFWLA4",
     "issued": {
      "day": 25,
      "month": 10,
      "year": 2016
     },
     "language": "en",
     "note": "Publisher: CVCE.EU by UNI.LU",
     "title": "The Euromissile crisis",
     "type": "article-magazine"
    },
    "2361604/H37HWZRZ": {
     "abstract": "Recently, researchers started to pay attention to the detection of temporal shifts in the meaning of words. However, most (if not all) of these approaches restricted their efforts to uncovering change over time, thus neglecting other valuable dimensions such as social or political variability. We propose an approach for detecting semantic shifts between different viewpoints--broadly defined as a set of texts that share a specific metadata feature, which can be a time-period, but also a social entity such as a political party. For each viewpoint, we learn a semantic space in which each word is represented as a low dimensional neural embedded vector. The challenge is to compare the meaning of a word in one space to its meaning in another space and measure the size of the semantic shifts. We compare the effectiveness of a measure based on optimal transformations between the two spaces with a measure based on the similarity of the neighbors of the word in the respective spaces. Our experiments demonstrate that the combination of these two performs best. We show that the semantic shifts not only occur over time, but also along different viewpoints in a short period of time. For evaluation, we demonstrate how this approach captures meaningful semantic shifts and can help improve other tasks such as the contrastive viewpoint summarization and ideology detection (measured as classification accuracy) in political texts. We also show that the two laws of semantic change which were empirically shown to hold for temporal shifts also hold for shifts across viewpoints. These laws state that frequent words are less likely to shift meaning while words with many senses are more likely to do so.",
     "author": [
      {
       "family": "Azarbonyad",
       "given": "Hosein"
      },
      {
       "family": "Dehghani",
       "given": "Mostafa"
      },
      {
       "family": "Beelen",
       "given": "Kaspar"
      },
      {
       "family": "Arkut",
       "given": "Alexandra"
      },
      {
       "family": "Marx",
       "given": "Maarten"
      },
      {
       "family": "Kamps",
       "given": "Jaap"
      }
     ],
     "id": "2361604/H37HWZRZ",
     "issued": {
      "day": 15,
      "month": 11,
      "year": 2017
     },
     "shortTitle": "Words are Malleable",
     "title": "Words are Malleable: Computing Semantic Shifts in Political and Media Discourse",
     "title-short": "Words are Malleable",
     "type": "article-journal"
    },
    "2361604/QK5YMNVA": {
     "ISBN": "978-90-73300-08-8",
     "author": [
      {
       "family": "Berg",
       "given": "Dion van den"
      },
      {
       "family": "Groeneveld",
       "given": "F.Ph"
      }
     ],
     "event-place": "Den Haag",
     "issued": {
      "date-parts": [
       [
        2006
       ]
      ]
     },
     "language": "dut",
     "note": "OCLC: 907174364",
     "number-of-pages": "256",
     "publisher": "IKV",
     "publisher-place": "Den Haag",
     "shortTitle": "IKV 1966-2006",
     "title": "IKV 1966-2006: veertig jaar mobiliseren voor vrede",
     "type": "book"
    },
    "2361604/RRD2J9DJ": {
     "URL": "https://resolver.kb.nl/resolve?urn=ABCDDD:010879471:mpeg21:a0198",
     "accessed": {
      "day": 19,
      "month": 12,
      "year": 2022
     },
     "author": [
      {
       "family": "Wio Joustra",
       "given": ""
      }
     ],
     "call-number": "412869594",
     "container-title": "De Volkskrant",
     "edition": "Dag",
     "event-place": "'s-Hertogenbosch",
     "id": "2361604/RRD2J9DJ",
     "issued": {
      "day": 19,
      "month": 6,
      "year": 1984
     },
     "publisher-place": "'s-Hertogenbosch",
     "title": "CDA ziet af van heksenjacht op dwarsliggers",
     "type": "article-newspaper"
    },
    "2361604/SGS86SFR": {
     "ISBN": "978-3-8309-6844-3",
     "author": [
      {
       "family": "Wielenga",
       "given": "Friso"
      }
     ],
     "id": "2361604/SGS86SFR",
     "issued": {
      "year": 2008
     },
     "language": "de",
     "note": "Google-Books-ID: GEqKAwAAQBAJ",
     "number-of-pages": "401",
     "publisher": "Waxmann Verlag",
     "title": "Die Niederlande. Politik und politische Kultur im 20. Jahrhundert",
     "type": "book"
    },
    "2361604/WMBLK3NQ": {
     "DOI": "10.1080/01615440.2020.1760157",
     "URL": "https://doi.org/10.1080/01615440.2020.1760157",
     "abstract": "Recently, the use of word embedding models (WEM) has received ample attention in the natural language processing community. These models can capture semantic information in large corpora of text by learning distributional properties of words, that is how often particular words appear in specific contexts. Scholars have pointed out the potential of WEMs for historical research. In particular, their ability to capture semantic change might assist historians studying conceptual change or specific discursive formations over time. Concurrently, others voiced their criticism and pointed out that WEMs require large amounts of training data, that they are challenging to evaluate, and they lack the specificity looked for by historians. The ability to examine semantic change resonates with the goals of historians such as Reinhart Koselleck, whose research focused on the formation of concepts and the transformation of semantic fields. However, word embeddings can only be used to study particular types of semantic change, and the model’s use is dependent on the size, quality, and bias in training data. In this article, we examine what is required of historical data to produce reliable WEMs, and we describe the types of questions that can be answered using WEMs.",
     "accessed": {
      "day": 19,
      "month": 12,
      "year": 2022
     },
     "author": [
      {
       "family": "Wevers",
       "given": "Melvin"
      },
      {
       "family": "Koolen",
       "given": "Marijn"
      }
     ],
     "container-title": "Historical Methods: A Journal of Quantitative and Interdisciplinary History",
     "issue": "4",
     "issued": {
      "day": 1,
      "month": 10,
      "year": 2020
     },
     "note": "Publisher: Routledge\n_eprint: https://doi.org/10.1080/01615440.2020.1760157",
     "page": "226-243",
     "page-first": "226",
     "shortTitle": "Digital begriffsgeschichte",
     "title": "Digital begriffsgeschichte: Tracing semantic change using word embeddings",
     "title-short": "Digital begriffsgeschichte",
     "type": "article-journal",
     "volume": "53"
    },
    "2361604/X2P36K7Y": {
     "URL": "http://arxiv.org/abs/1708.01162",
     "abstract": "Over the last decade we have made great progress in entity linking (EL) systems, but performance may vary depending on the context and, arguably, there are even principled limitations preventing a \"perfect\" EL system. This also suggests that there may be applications for which current \"imperfect\" EL is already very useful, and makes finding the \"right\" application as important as building the \"right\" EL system. We investigate the Digital Humanities use case, where scholars spend a considerable amount of time selecting relevant source texts. We developed WideNet; a semantically-enhanced search tool which leverages the strengths of (imperfect) EL without getting in the way of its expert users. We evaluate this tool in two historical case-studies aiming to collect a set of references to historical periods in parliamentary debates from the last two decades; the first targeted the Dutch Golden Age, and the second World War II. The case-studies conclude with a critical reflection on the utility of WideNet for this kind of research, after which we outline how such a real-world application can help to improve EL technology in general.",
     "accessed": {
      "day": 20,
      "month": 5,
      "year": 2019
     },
     "author": [
      {
       "family": "Olieman",
       "given": "Alex"
      },
      {
       "family": "Beelen",
       "given": "Kaspar"
      },
      {
       "family": "van Lange",
       "given": "Milan"
      },
      {
       "family": "Kamps",
       "given": "Jaap"
      },
      {
       "family": "Marx",
       "given": "Maarten"
      }
     ],
     "container-title": "arXiv:1708.01162 [cs]",
     "id": "2361604/X2P36K7Y",
     "issued": {
      "day": 3,
      "month": 8,
      "year": 2017
     },
     "language": "en",
     "note": "arXiv: 1708.01162",
     "shortTitle": "Riches of the Poor",
     "title": "Riches of the Poor: Using Crummy Entity Linkers for Interactive Search in Digital Humanities",
     "title-short": "Riches of the Poor",
     "type": "article-journal"
    },
    "2361604/X8WYDXZC": {
     "URL": "https://resolver.kb.nl/resolve?urn=ABCDDD:010847387:mpeg21:a0198",
     "accessed": {
      "day": 19,
      "month": 12,
      "year": 2022
     },
     "author": [
      {
       "family": "Steinmetz",
       "given": "Bert"
      }
     ],
     "call-number": "412869543",
     "container-title": "Het Parool",
     "edition": "Dag",
     "event-place": "Amsterdam",
     "id": "2361604/X8WYDXZC",
     "issued": {
      "day": 15,
      "month": 4,
      "year": 1981
     },
     "publisher-place": "Amsterdam",
     "title": "Van Agts toegewijde fanclub",
     "type": "article-newspaper"
    },
    "2361604/YK8W84PV": {
     "abstract": "That World War II is connected to emotions seems self-evident. But what did this relationship entail? Did it change over time? And how can we know such things? Milan van Lange’s PhD-thesis ‘Emotional Imprints: A Computer-assisted Analysis of War-related Emotions in Dutch Parliamentary Debates, 1945–1989’ offers a creative and innovative perspective on ‘things we think we know’ regarding emotions related to the aftermath of World War II in the Netherlands. ‘Emotional Imprints’ investigates the role of emotions in the post-war political engagement with the war’s consequences. By applying text mining to identify and quantify emotional expressions in thousands of digitised historical documents, Van Lange analyses not only whether emotions were present, but also how they were expressed in parliamentary debates on people who experienced the long-term effects of the war, such as former collaborators and war criminals, the anti-Nazi resistance, and various groups of war victims. Outcomes of this investigation show how emotions were never absent in the post-war sources analysed. The thesis provides an empirically supported farewell to received wisdoms about a ‘silent’ period in the 1950s, or a strong ‘emotionalisation’ in the 1970s. Rather than emotions making history themselves, politicians gave emotions a role in discussing contemporary matters. This role evolved from ‘descriptive’ to ‘appraising’ and ultimately ‘distant’ and ‘abstract’. The thesis displays how historical research can be enhanced by (re)sources, methods, and ideas from various fields, ranging from social psychology to computer linguistics. ‘Emotional Imprints’ makes an original contribution to methodological innovation highly relevant to historical research – especially in times of mass-digitisation and an increasing availability of digital-born sources.",
     "author": [
      {
       "family": "Lange",
       "given": "van, Milan"
      }
     ],
     "event-place": "Utrecht",
     "genre": "PhD thesis",
     "issued": {
      "date-parts": [
       [
        2021,
        12,
        10
       ]
      ]
     },
     "note": "DOI: 10.33540/833",
     "publisher": "Utrecht University",
     "publisher-place": "Utrecht",
     "shortTitle": "Emotional Imprints",
     "title": "Emotional Imprints: A Computer-assisted Analysis of War-related Emotions in Dutch Parliamentary Debates, 1945–1989",
     "type": "thesis"
    },
    "2361604/ZUZCHZ3U": {
     "DOI": "10.1111/j.1460-2466.2007.00342.x",
     "URL": "https://onlinelibrary.wiley.com/doi/abs/10.1111/j.1460-2466.2007.00342.x",
     "abstract": "This paper presents a multimethod investigation of framing in the government–media–public interaction during the so-called partial-birth abortion (PBA) debate in the U.S. Operationalizing framing as the use of the word “baby” or “fetus,” content analysis first shows that opposing political elites employed almost exclusive vocabularies in attempts to justify their views and shape attitudes. Time-series analysis then charts the path of “baby’s” discursive dominance from congressional discourse through news and editorials to citizens. Finally, experimental results support 2 microlevel hypotheses. First, uptake—exposure to articles featuring the exclusive use of “baby” or “fetus,” respectively, increased or decreased support for banning PBA. Second, emergence—participants exposed to discourse using both terms converged upon a response independent of the words’ relative proportions. In contrast to probabilistic survey response models, these findings support the idea that a kind of public reason can emerge from the interaction of citizens’ judgment processes and elite communication.",
     "accessed": {
      "day": 19,
      "month": 12,
      "year": 2022
     },
     "author": [
      {
       "family": "Simon",
       "given": "Adam F."
      },
      {
       "family": "Jerit",
       "given": "Jennifer"
      }
     ],
     "container-title": "Journal of Communication",
     "id": "2361604/ZUZCHZ3U",
     "issue": "2",
     "issued": {
      "year": 2007
     },
     "language": "en",
     "note": "_eprint: https://onlinelibrary.wiley.com/doi/pdf/10.1111/j.1460-2466.2007.00342.x",
     "page": "254-271",
     "page-first": "254",
     "title": "Toward a Theory Relating Political Discourse, Media, and Public Opinion",
     "type": "article-journal",
     "volume": "57"
    },
    "8918850/DJWGF63V": {
     "URL": "https://CRAN.R-project.org/package=word2vec",
     "abstract": "Learn vector representations of words by continuous bag of words and skip-gram implementations of the 'word2vec' algorithm. The techniques are detailed in the paper \"Distributed Representations of Words and Phrases and their Compositionality\" by Mikolov et al. (2013), available at <arXiv:1310.4546>.",
     "accessed": {
      "day": 8,
      "month": 9,
      "year": 2021
     },
     "author": [
      {
       "family": "Wijffels",
       "given": "Jan"
      },
      {
       "family": "BNOSAC",
       "given": ""
      },
      {
       "family": "Fomichev",
       "given": "Max"
      }
     ],
     "id": "8918850/DJWGF63V",
     "issued": {
      "day": 2,
      "month": 7,
      "year": 2021
     },
     "shortTitle": "word2vec",
     "title": "word2vec: Distributed Representations of Words",
     "title-short": "word2vec",
     "type": "software",
     "version": "0.3.4"
    },
    "undefined": {
     "ISBN": "978-90-73300-08-8",
     "author": [
      {
       "family": "Berg",
       "given": "Dion van den"
      },
      {
       "family": "Groeneveld",
       "given": "F.Ph"
      }
     ],
     "event-place": "Den Haag",
     "id": "undefined",
     "issued": {
      "year": 2006
     },
     "language": "dut",
     "note": "OCLC: 907174364",
     "number-of-pages": "256",
     "publisher": "IKV",
     "publisher-place": "Den Haag",
     "shortTitle": "IKV 1966-2006",
     "title": "IKV 1966-2006: veertig jaar mobiliseren voor vrede",
     "title-short": "IKV 1966-2006",
     "type": "book"
    }
   }
  },
  "jupytext": {
   "cell_metadata_filter": "-all",
   "notebook_metadata_filter": "-all",
   "text_representation": {
    "extension": ".R",
    "format_name": "light"
   }
  },
  "kernelspec": {
    "display_name": "R",
    "language": "R",
    "name": "ir"
   },
   "language_info": {
    "codemirror_mode": "r",
    "file_extension": ".r",
    "mimetype": "text/x-r-source",
    "name": "R",
    "pygments_lexer": "r",
    "version": "4.1.1"
   },
  "toc": {
   "base_numbering": 1,
   "nav_menu": {},
   "number_sections": true,
   "sideBar": true,
   "skip_h1_title": false,
   "title_cell": "Table of Contents",
   "title_sidebar": "Contents",
   "toc_cell": false,
   "toc_position": {},
   "toc_section_display": true,
   "toc_window_display": false
  }
 },
 "nbformat": 4,
 "nbformat_minor": 4
}
