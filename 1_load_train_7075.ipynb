{
 "cells": [
  {
   "cell_type": "markdown",
   "metadata": {},
   "source": [
    "This script tries to use Word2Vec technique on Handelingen data\n",
    "For Dialects of Discord on the party level\n",
    "Milan van Lange, June 2021"
   ]
  },
  {
   "cell_type": "code",
   "execution_count": 31,
   "metadata": {},
   "outputs": [
    {
     "data": {
      "text/plain": [
       "               _                           \n",
       "platform       x86_64-apple-darwin17.0     \n",
       "arch           x86_64                      \n",
       "os             darwin17.0                  \n",
       "system         x86_64, darwin17.0          \n",
       "status                                     \n",
       "major          4                           \n",
       "minor          1.1                         \n",
       "year           2021                        \n",
       "month          08                          \n",
       "day            10                          \n",
       "svn rev        80725                       \n",
       "language       R                           \n",
       "version.string R version 4.1.1 (2021-08-10)\n",
       "nickname       Kick Things                 "
      ]
     },
     "metadata": {},
     "output_type": "display_data"
    }
   ],
   "source": [
    "R.version"
   ]
  },
  {
   "cell_type": "code",
   "execution_count": 2,
   "metadata": {},
   "outputs": [
    {
     "name": "stderr",
     "output_type": "stream",
     "text": [
      "Le chargement a nécessité le package : NLP\n",
      "\n",
      "Skipping install of 'word2vec' from a github remote, the SHA1 (12b015e5) has not changed since last install.\n",
      "  Use `force = TRUE` to force installation\n",
      "\n",
      "Le chargement a nécessité le package : qdapDictionaries\n",
      "\n",
      "Le chargement a nécessité le package : qdapRegex\n",
      "\n",
      "\n",
      "Attachement du package : ‘qdapRegex’\n",
      "\n",
      "\n",
      "L'objet suivant est masqué depuis ‘package:jsonlite’:\n",
      "\n",
      "    validate\n",
      "\n",
      "\n",
      "Le chargement a nécessité le package : qdapTools\n",
      "\n",
      "Le chargement a nécessité le package : RColorBrewer\n",
      "\n",
      "\n",
      "Attachement du package : ‘qdap’\n",
      "\n",
      "\n",
      "Les objets suivants sont masqués depuis ‘package:tm’:\n",
      "\n",
      "    as.DocumentTermMatrix, as.TermDocumentMatrix\n",
      "\n",
      "\n",
      "L'objet suivant est masqué depuis ‘package:NLP’:\n",
      "\n",
      "    ngrams\n",
      "\n",
      "\n",
      "Les objets suivants sont masqués depuis ‘package:base’:\n",
      "\n",
      "    Filter, proportions\n",
      "\n",
      "\n",
      "\n",
      "Attachement du package : ‘dplyr’\n",
      "\n",
      "\n",
      "L'objet suivant est masqué depuis ‘package:qdapTools’:\n",
      "\n",
      "    id\n",
      "\n",
      "\n",
      "L'objet suivant est masqué depuis ‘package:qdapRegex’:\n",
      "\n",
      "    explain\n",
      "\n",
      "\n",
      "Les objets suivants sont masqués depuis ‘package:stats’:\n",
      "\n",
      "    filter, lag\n",
      "\n",
      "\n",
      "Les objets suivants sont masqués depuis ‘package:base’:\n",
      "\n",
      "    intersect, setdiff, setequal, union\n",
      "\n",
      "\n",
      "here() starts at /Users/elisabeth.guerard/Desktop/JDH001/jdh001-9HcfToh7EYm8-missile\n",
      "\n"
     ]
    }
   ],
   "source": [
    "library(magrittr)\n",
    "library(tm)\n",
    "remotes::install_github(\"bnosac/word2vec\")\n",
    "library(word2vec)\n",
    "library(XML)\n",
    "library(qdap)\n",
    "library(stringr)\n",
    "library(dplyr)\n",
    "library(readtext)\n",
    "library(readr)\n",
    "library(here)"
   ]
  },
  {
   "cell_type": "markdown",
   "metadata": {},
   "source": [
    "Load the text data\n",
    "Pre-processed .txt files are used (without interpunction, stowords removed, all letters to lower case, etc.)"
   ]
  },
  {
   "cell_type": "code",
   "execution_count": 3,
   "metadata": {},
   "outputs": [
    {
     "name": "stderr",
     "output_type": "stream",
     "text": [
      "Warning message in readRDS(\"stuff.RDS\"):\n",
      "“la chaîne de caractères en entrée 'mijnheer voorzitter de begroting defensie nederlandse leger belangrijke mate bepaald beslissingen elders de hoogte bedrag eigen behoeften navo bepaald er alleen achteraf goedkeuring bedrag mogelijk wijziging totale defensiebeleid huidige verhoudingen uitgeslotenmet navo bepaalde politieke economische doeleinden nagestreefd bestaande maatschappelijke verhoudingen moeten dienen namelijk eerstezitting 1969-1970 eerste kamer280 9de vergadering 13 januari 70 vaststelling hfdst x defensie staatsbedr artillerie-inrichtingen 1970ijmkers plaats handhaven maatschappelijke verhoudingen aangesloten landen handhaving heerschappij bezittende klasse in tweede plaats middel hoge defensie-uitgaven groep bezitters grote winstgevende orders helpen dat begrip veiligheid navo dienendat eigenlijk begrip „veiligheid brandkast winsten privilegesdit natuurlijk zaak openlijk verkopen bevolking defensielasten betalen daarom verhaal wereld gebracht russische dreiging opleve […tronqué]”\n",
      "Warning message in readRDS(\"stuff.RDS\"):\n",
      "“la chaîne de caractères en entrée 'mijnheer voorzitter ik dank medewerking kamer toestemming beide wetsontwerpen samen mogen sprekende materie welke wij middel beide wetsontwerpen willen regelen instemming fractie ter zake wetsontwerp nr 9597 zien wij verandering beroepsprocedure verbetering verschaffing rechtszekerheid stukevenmin vele anderen overkant binnenhof verleiding weerstaan paar opmerkingen maken enkele algemene aspecten geneesmiddelenvoorziening tijdens behandeling wetsontwerp overzijde staatssecretaris cijfers genoemd aantal registratie-aanvragen periode v<e3><b3><e3><b3>r inwerkingtreding wet eerste vijf jaar inwerkingtreding 1 oktober 1963 1 oktober 1968 uit gegevens blijkt ruim 4600 zogenaamd oude verpakte geneesmiddelen aangemeld inwerkingtreding wet handel hiervan inmiddels 1300 afgehandeld waarvan zover nagaan 27 wel 2 pet afgewezen uit dezelfde gegevens blijkt aantal afgewezen geneesmiddelen periode 1 oktober 1963 1 oktober 1968 tien bedraagt totaal aantal afgehandelde 651 aa […tronqué]”\n",
      "Warning message in readRDS(\"stuff.RDS\"):\n",
      "“la chaîne de caractères en entrée 'mijnheer voorzitter het eindverslag vaste commissies europese samenwerkingsorganisaties ontwikkelingssamenwerking omtrent wetsontwerpen blanco verslag de commissies verklaren verslag willen onthouden maken opmerkingen omtrent onderhavige wetsontwerpen wel behield openbare beraadslaging gaan wetsontwerpen samenhangende onderwerpende beraadslaging twee wetsontwerpen geopend burger\n",
      "mijnheer voorzitter ik mag misschien co<e3><af>ncidentie laatste vergadering lid kamer meemaak woord voeren gebruik maken dank spreken vriendelijke woorden juist gesproken bijval collegas daarop gevolgd ik verzekeren daarvoor uitermate gevoelig u hebt gegeven moment vraag gesteld voldoening parlementaire werkzaamheden terugzien wij weten allen wel politieke werkzaamheden gemengde gevoelens wekken men eenmaal bereiken ik verzekeren welke activiteit parlementari<e3><ab>r volksvertegenwoordiger bijzonder grote betekenis men mogelijkheid namens bevolking waarvoor opkomt overtuiging uitdruk […tronqué]”\n",
      "Warning message in readRDS(\"stuff.RDS\"):\n",
      "“la chaîne de caractères en entrée 'mijnheer voorzitter „samen waar mogelijk afzonderlijk waar nodig kenschetste mevrouw schouwenaar wetsontwerp behandel verband aanwezigheid new york vergaderingen vn situatie wetenschappelijk onderwijs sedert 1960 in bijdrage oud 75e verjaardag aangeboden „liberale gedachten voegde hieraan toe geen eindpunt wet 1960 „uitgangspunt nieuwe verdere ontwikkelingenvan dergelijk standpunt jaren her dateert begrijpelijk fractie vvd vandaag volkomen instemt liggende wetsontwerp juist gezien uiteraard bewindsman blijkens activiteiten laatste jaren duidelijk gevoelde behoefte voortgang wij vrede mee bekostigingsaspect wetenschappelijk onderwijs bevredigende wijze lossen oplossing gaat pas daarna feite moeilijker ingrijpender kwestie uiteraard relaties bestuurshervorming vatten wetsontwerp 10 636 komt weten eind jaar ordeik begrip enorme kosten zelfs wanneer slechts l i pet betreft particuliere organisaties gemeente amsterdam torsen last betekenen ik meen […tronqué]”\n",
      "Warning message in readRDS(\"stuff.RDS\"):\n",
      "“la chaîne de caractères en entrée 'mijnheer voorzitter bij algemene beschouwingen tweede kamer recht aandacht geschonken toekomstvisie gepubliceerd zogenaamde club rome daardoor sterk voorgrond gekomen vraagstukken grens onze economische groei uitputten wereldgrondstoffenvoorraden uitputten aarde verspilling milieuverontreiniging dood oceanen dergelijke het nodig mens voortdurend bezwaren bewust zullen geleerden meningen verkondigen het evenwel beter ergste voorbereid gevaren licht nemen die gevaren blijven twee ernstige uitdagingen waarvoor mensheid ziet geplaatst immers naast ondergang onze wereld chaotische economische groei gevolgen ervan dreigt ondergang onze wereld oorlog beide elkaar los zien milieubeheersing bewapeningsbeheersing beide evenzeer nodig in kamer punt milieubeheersing oog verliezen aandacht schenken tweede puntten aanzien daarvan moge beginnen wijzen sinds algemene beschouwingen tweede kamer twee gebeurtenissen voorgedaan wereldomvattende betekenis welen princip […tronqué]”\n",
      "Warning message in readRDS(\"stuff.RDS\"):\n",
      "“la chaîne de caractères en entrée 'dat geval wij tekorten melk boter\n",
      "neen\n",
      "heeft regelen manipulaties misschien gewerkt voordeel partij heer schwarz\n",
      "dat geloof ik ontken als heer schwarz mee gemanipuleerd partij minder zetels kamer gehad hij wiskundigen gaan vragen\n",
      "hebt enig bewijs talloze gevallen\n",
      "dat merkwaardig bewijs\n",
      "mijnheer voorzitter het spreekt wel vanzelf opvattingen houding fractie loop jaren gevolgd wij nieuwe kabinet harte verwelkomen kabinet volle vertrouwen dat wij daarbij paar onze eigen beste mensen mogen leveren zowel minister staatssecretaris stemt zekere particuliere voldoeningwel herinner vanavond uur grieks spreekwoord meteen nederlandse vertaling geven misschien ongerechtvaardigde verwijten onttrekken luidende o fir <e3><a8>ageic avgonog ov natdeverai het betekent degene stok gevild nimmer opgevoedzitting 1971-1972 eerste kameralgemene politieke beschouwingen rijksbegroting dienstjaar 1972 3de vergadering 23 november 71 4 5van riel mijnheer voorzitter ik ten aanzien m […tronqué]”\n",
      "Warning message in readRDS(\"stuff.RDS\"):\n",
      "“la chaîne de caractères en entrée 'mijnheer voorzitter ik graag beginnen sluiten woorden heren de vries zoutendijk betrekking betekenis steenbergen schriftelijk onderwijs ik opmerkingen maken mede namens fracties d66 pprmijnheer voorzitter als wij zien grote betekenis schriftelijk onderwijs vragen wij af betekenis wetsontwerp veld schriftelijk onderwijs het antwoord gaat regeling schriftelijk onderwijs wetsontwerp mikt erkenning instellingen schriftelijk onderwijs basis vrijwilligheid zij aanvaarden krijgen erkenning aantal voorwaarden waaraan moeten voldoen ik hoop stringente voorwaarden zullen ik meen bedoeling minister ligt <e3><89><e3><a9>n belangrijkste voorwaarden geheel aanvaarden toezicht rijksinspectie dat brengt ertoe punt betoog waardering spreken belangrijke werk stichting inspectie schriftelijk onderwijs afgelopen vijf twintig jaar terrein gedaan het namelijk geleid zekere regulering schriftelijk onderwijs voorafgaande stand komen wetsontwerp men mag mijns inziens volgt formuleren  […tronqué]”\n",
      "Warning message in readRDS(\"stuff.RDS\"):\n",
      "“la chaîne de caractères en entrée 'de heer piket stelde belangrijk rijke weinig gestolen laat heer piket omdraaien vindt onbelangrijk arme bijna gestolen\n",
      "dat juridisch antwoord u bent bezig jurist\n",
      "ik neem beide goed vindt u vindt stelen algemeen goed\n",
      "prachtig\n",
      "uiteraard ik vroeg echter stelling keren\n",
      "het gaat erom bepaalde omstandigheden zegt verschillend steelt rijke arme ik wel indenken ik vind erger gelijke waarde gestolen arme nauwelijks rijke ik best indenken daarmede rekening houdt rechter\n",
      "mijnheer voorzitter ik eer mede namens fracties ppr d66 woord voerenuit behandeling wetsontwerp blijkt wel toenemende belangstelling strafrechtelijke vragen vroeger onderwerp typisch terrein specialisten nu tweede kamer bewogenheid gedebatteerd er amendementen ingediend er grondige behandeling ik meen bijzonder verheugend feit het laat natuurlijk alleen wel minder bespreking kamer daarbij komt wij werkelijk uitstekende memorie antwoord minister gehad daarin vind aanleiding aantal punten voorl […tronqué]”\n"
     ]
    },
    {
     "name": "stderr",
     "output_type": "stream",
     "text": [
      "Warning message in readRDS(\"stuff.RDS\"):\n",
      "“la chaîne de caractères en entrée 'mijnheer voorzitter zoals vorige spreker inhoudsrijk betoog duidelijk uitkomen orde zijnde wetsontwerp groot belang als zovele belangrijke wetsontwerpen totstandkoming heel tijd gevergd de behandeling ervan althans dusverre schijnt gemakkelijker gaan zelfs uitzonderlijk moeizaam de commissie-feber commissie-duk geworden ontwerp gemaakt 1969 ingediend zeer ongunstig ontvangen tweede kamer deze minister zeer deskundig gebied strafprocesrecht ontwerp diverse onderdelen aanzienlijk gewijzigd dusdoende erken gaarne meeste onderdelen belangrijk verbeterdeen zeer uitgebreide gedetailleerde soms ge<e3><ab>motioneerde mondelinge behandeling tweede kamer gevolgd ware uitputtingsslag waarvan resultaat ligt erg enthousiast fractie daarover de minister noemt memorie antwoord kamer resultaat twee keer toe „aanvaardbaar uitdrukking blijk geeft grote voldoening uiteindelijke inhoud ontwerp hij tweede kamer aanneming amendement slechts weten voorkomen onaanvaardbaarhei […tronqué]”\n",
      "Warning message in readRDS(\"stuff.RDS\"):\n",
      "“la chaîne de caractères en entrée 'mijnheer voorzitter dit wetsontwerp tweede kamer bestrijding ondervonden eigenlijk toch tweede kamer zeer uitvoerig gesproken twee amendementen klein verschil stemmen verworpen de minister gezegd genoot behandeling fundamentele vragen gaat blijkbaar gewoonlijk fundamentele vragen bezig daarom lijkt passend kamer enige aandacht ontwerp geeft het uitbreiden openbaarheid uitbreiden afleggen verantwoording inlichtingen geven liberaal principe toejuichen tenminste verwant voelt thorbecke dat huidige liberalen hoge mate toch erkennen allerlei problemen rijzen vandaar minister sprak fundamentele vragen aan wetsontwer p uitbreiding verantwoordingsplichten liggen immers geheel opvattingen ten grondslag voorbeeld begrip medebewin d zelfbestuur indertijd makers provinciale wet later provinciewet huldigden dat geeft allicht moeilijkheden de eerste moeilijkheden rijzen commissaris koningin ik vind aardig heer boukema eraan herinnert grootvader janus twee aangez […tronqué]”\n"
     ]
    }
   ],
   "source": [
    "githubURL <- (\"https://github.com/MilanvanL/jdh001-9HcfToh7EYm8/raw/main/data/stuff.RDS\")\n",
    "download.file(githubURL, \"stuff.RDS\")\n",
    "files2 <- readRDS(\"stuff.RDS\")"
   ]
  },
  {
   "cell_type": "markdown",
   "metadata": {},
   "source": [
    "Train word2vec model --------------------------------------------------"
   ]
  },
  {
   "cell_type": "markdown",
   "metadata": {},
   "source": [
    "Train party specific models ---------------------------------------------"
   ]
  },
  {
   "cell_type": "code",
   "execution_count": 4,
   "metadata": {},
   "outputs": [],
   "source": [
    "# CPN Subset specific year, set as character vector to serve as input for\n",
    "# word2vec package\n",
    "files2 %>%\n",
    "    filter(str_detect(doc_id, \"cpn\")) -> cpn.7075"
   ]
  },
  {
   "cell_type": "code",
   "execution_count": 5,
   "metadata": {},
   "outputs": [],
   "source": [
    "# set as character\n",
    "cpn.7075 <- as.character(cpn.7075$text)"
   ]
  },
  {
   "cell_type": "code",
   "execution_count": 6,
   "metadata": {},
   "outputs": [
    {
     "name": "stderr",
     "output_type": "stream",
     "text": [
      "Warning message in writeLines(text = x, con = filehandle_train):\n",
      "“chaîne de caractères incorrecte dans la conversion de la sortie”\n"
     ]
    }
   ],
   "source": [
    "# train model train word2vec\n",
    "model.cpn.7075 <- word2vec(x = cpn.7075, min_count = 5, threads = 4, type = \"skip-gram\",\n",
    "    dim = 100, iter = 20)"
   ]
  },
  {
   "cell_type": "code",
   "execution_count": 7,
   "metadata": {},
   "outputs": [],
   "source": [
    "# create matrix\n",
    "emb.cpn.7075 <- as.matrix(model.cpn.7075)"
   ]
  },
  {
   "cell_type": "markdown",
   "metadata": {},
   "source": [
    "VVD"
   ]
  },
  {
   "cell_type": "code",
   "execution_count": 8,
   "metadata": {},
   "outputs": [],
   "source": [
    "# Subset specific year, set as character vector to serve as input for word2vec\n",
    "# package\n",
    "files2 %>%\n",
    "    filter(str_detect(doc_id, \"vvd\")) -> vvd.7075"
   ]
  },
  {
   "cell_type": "code",
   "execution_count": 9,
   "metadata": {},
   "outputs": [],
   "source": [
    "# set as character\n",
    "vvd.7075 <- as.character(vvd.7075$text)"
   ]
  },
  {
   "cell_type": "code",
   "execution_count": 10,
   "metadata": {},
   "outputs": [
    {
     "name": "stderr",
     "output_type": "stream",
     "text": [
      "Warning message in writeLines(text = x, con = filehandle_train):\n",
      "“chaîne de caractères incorrecte dans la conversion de la sortie”\n",
      "Warning message in writeLines(text = x, con = filehandle_train):\n",
      "“chaîne de caractères incorrecte dans la conversion de la sortie”\n",
      "Warning message in writeLines(text = x, con = filehandle_train):\n",
      "“chaîne de caractères incorrecte dans la conversion de la sortie”\n",
      "Warning message in writeLines(text = x, con = filehandle_train):\n",
      "“chaîne de caractères incorrecte dans la conversion de la sortie”\n",
      "Warning message in writeLines(text = x, con = filehandle_train):\n",
      "“chaîne de caractères incorrecte dans la conversion de la sortie”\n"
     ]
    }
   ],
   "source": [
    "# train model train word2vec\n",
    "model.vvd.7075 <- word2vec(x = vvd.7075, min_count = 5, threads = 4, type = \"skip-gram\",\n",
    "    dim = 100)"
   ]
  },
  {
   "cell_type": "code",
   "execution_count": 11,
   "metadata": {},
   "outputs": [],
   "source": [
    "# create matrix\n",
    "emb.vvd.7075 <- as.matrix(model.vvd.7075)"
   ]
  },
  {
   "cell_type": "code",
   "execution_count": 12,
   "metadata": {},
   "outputs": [
    {
     "data": {
      "text/html": [
       "<table class=\"dataframe\">\n",
       "<caption>A matrix: 4173 × 100 of type dbl</caption>\n",
       "<tbody>\n",
       "\t<tr><th scope=row>sprak</th><td> 1.6895074844</td><td>-0.3049538</td><td> 0.7992749</td><td>-1.19430888</td><td>-0.05998137</td><td> 0.6480411</td><td>-0.353177726</td><td> 0.2854177</td><td> 0.3527364</td><td> 0.21527527</td><td>⋯</td><td> 1.0497183</td><td> 1.4837081</td><td> 1.97292316</td><td> 0.987822115</td><td> 0.46581200</td><td>-0.63987803</td><td> 0.441580951</td><td> 0.04310448</td><td> 1.17390406</td><td> 0.28912398</td></tr>\n",
       "\t<tr><th scope=row>tarieven</th><td> 0.1134191379</td><td>-0.3133795</td><td> 1.0116490</td><td>-0.95502204</td><td>-0.18923515</td><td> 2.4212852</td><td> 0.347695023</td><td> 2.6307766</td><td>-0.7694862</td><td>-0.61722642</td><td>⋯</td><td> 0.1428748</td><td>-0.9192319</td><td> 1.11465704</td><td>-0.179196998</td><td> 1.53936982</td><td> 0.34327701</td><td> 0.430707425</td><td> 0.29155922</td><td> 0.20490949</td><td> 0.14746314</td></tr>\n",
       "\t<tr><th scope=row>gebruik</th><td> 0.2082796842</td><td> 1.9369949</td><td> 0.1543762</td><td> 1.01854002</td><td> 2.65894198</td><td> 2.2024477</td><td> 0.780832171</td><td> 0.6542004</td><td> 0.7787566</td><td>-0.18213955</td><td>⋯</td><td> 0.5589374</td><td>-0.4375039</td><td> 1.52190578</td><td>-0.689588606</td><td> 0.47653908</td><td>-0.97079819</td><td>-0.204285085</td><td>-0.48810673</td><td>-0.00346033</td><td> 1.99237478</td></tr>\n",
       "\t<tr><th scope=row>30</th><td>-0.3592257798</td><td> 0.6148372</td><td>-0.6816726</td><td>-0.01972839</td><td> 1.26008332</td><td> 2.4771092</td><td>-0.477232486</td><td> 0.5160176</td><td> 0.1214462</td><td> 0.04689427</td><td>⋯</td><td>-0.5092092</td><td> 1.3989733</td><td>-0.07416808</td><td> 0.279601514</td><td> 0.31446660</td><td>-0.78547078</td><td>-0.683434606</td><td>-0.38642606</td><td> 2.08995247</td><td> 0.45364502</td></tr>\n",
       "\t<tr><th scope=row>huurkoop</th><td>-1.9383014441</td><td> 1.9777148</td><td>-0.7506567</td><td> 0.50910383</td><td> 0.71064645</td><td> 1.1432127</td><td>-0.029393898</td><td> 0.6665856</td><td> 0.8242266</td><td> 0.45940346</td><td>⋯</td><td>-1.0920838</td><td> 1.7663448</td><td>-0.58709246</td><td>-0.101813734</td><td> 0.68781734</td><td>-0.17954105</td><td>-0.604528010</td><td>-1.20141602</td><td> 1.84600604</td><td> 1.26940644</td></tr>\n",
       "\t<tr><th scope=row>willen</th><td> 0.1815943122</td><td> 0.3760585</td><td> 0.7204036</td><td>-1.43610430</td><td>-0.06186096</td><td> 1.2716085</td><td>-0.505957127</td><td> 0.8406082</td><td> 1.0850146</td><td>-0.85426307</td><td>⋯</td><td> 1.1993363</td><td>-0.5152828</td><td> 0.85265219</td><td> 0.057697829</td><td>-0.28664151</td><td>-0.33733347</td><td>-0.399435490</td><td>-1.01830900</td><td> 0.73339587</td><td> 0.17694303</td></tr>\n",
       "\t<tr><th scope=row>desbetreffende</th><td> 0.8228499293</td><td> 2.6637669</td><td> 0.2451945</td><td>-0.93743801</td><td>-0.26783091</td><td> 1.1488528</td><td> 0.320683837</td><td> 1.3972664</td><td> 0.1861908</td><td> 0.77852672</td><td>⋯</td><td> 1.6453627</td><td> 2.2142165</td><td> 1.46010613</td><td>-0.632818401</td><td>-0.37192553</td><td>-0.96936828</td><td>-0.142626747</td><td>-0.27714828</td><td> 2.12108111</td><td> 1.00297284</td></tr>\n",
       "\t<tr><th scope=row>afkondiging</th><td> 0.8928880095</td><td> 2.2723401</td><td> 0.5245193</td><td>-0.47357991</td><td>-0.05464269</td><td> 1.5428030</td><td> 0.159050837</td><td> 1.7456338</td><td> 1.0218432</td><td> 0.63860512</td><td>⋯</td><td> 0.7020201</td><td> 1.1809292</td><td> 0.29988056</td><td>-0.401873440</td><td>-0.31395805</td><td>-2.03503609</td><td> 0.168372154</td><td>-1.35371017</td><td> 1.99417377</td><td>-0.25728419</td></tr>\n",
       "\t<tr><th scope=row>gewerkt</th><td>-0.2727977633</td><td> 0.6934506</td><td> 0.4057146</td><td>-1.20233035</td><td>-0.53611195</td><td> 1.7918028</td><td>-0.295084119</td><td> 2.0907114</td><td>-0.1075582</td><td> 0.42840800</td><td>⋯</td><td> 0.6633239</td><td> 0.9614517</td><td> 1.60967493</td><td>-0.003441013</td><td> 0.15196329</td><td>-0.33089539</td><td>-0.286553442</td><td> 0.09344649</td><td> 1.39818382</td><td> 0.02799989</td></tr>\n",
       "\t<tr><th scope=row>stukje</th><td> 1.2968661785</td><td> 2.5409546</td><td>-0.5085130</td><td>-0.63394105</td><td> 0.60670853</td><td> 1.7961717</td><td> 1.391381979</td><td> 1.2619343</td><td> 0.5206074</td><td> 0.22453748</td><td>⋯</td><td> 0.7407854</td><td> 1.0758219</td><td> 0.87230015</td><td>-0.157078251</td><td> 0.79378933</td><td> 0.49520701</td><td> 0.435784072</td><td> 0.23471779</td><td> 1.36931121</td><td> 1.69155931</td></tr>\n",
       "\t<tr><th scope=row>gemeenteraad</th><td> 0.5763347149</td><td> 3.3280799</td><td>-0.1454001</td><td>-0.71432424</td><td> 0.68386406</td><td> 1.6136292</td><td> 0.942135274</td><td> 1.0299740</td><td> 0.6157511</td><td> 0.16709122</td><td>⋯</td><td> 0.7526657</td><td> 2.1862836</td><td>-0.14218086</td><td>-0.222233027</td><td>-0.08487649</td><td>-0.05140645</td><td>-0.580581009</td><td> 0.06847167</td><td> 1.80929494</td><td> 1.38462627</td></tr>\n",
       "\t<tr><th scope=row>vlucht</th><td> 0.3725880384</td><td> 2.1435199</td><td>-0.6235576</td><td>-0.43642193</td><td> 1.07116771</td><td> 1.3507386</td><td> 0.573688388</td><td> 1.7871926</td><td> 0.9967036</td><td> 0.43051347</td><td>⋯</td><td> 0.7207535</td><td> 0.9021819</td><td> 0.72520560</td><td> 0.261857033</td><td> 0.82276738</td><td>-0.23441190</td><td> 0.299625099</td><td>-1.33900654</td><td> 1.42169106</td><td> 1.67046821</td></tr>\n",
       "\t<tr><th scope=row>wilt</th><td> 1.5493083000</td><td> 2.6576238</td><td> 0.3690809</td><td>-1.56090498</td><td> 0.89685059</td><td> 1.2312015</td><td> 0.886386752</td><td> 1.5076964</td><td> 2.2360954</td><td>-0.23840694</td><td>⋯</td><td> 0.9931226</td><td> 0.7063625</td><td> 2.06858349</td><td>-0.833400786</td><td> 1.30682254</td><td>-0.12031613</td><td> 0.698985159</td><td>-1.03035557</td><td> 0.33709490</td><td> 1.49414432</td></tr>\n",
       "\t<tr><th scope=row>argumenten</th><td> 1.4915473461</td><td> 1.5276624</td><td> 1.0741408</td><td>-1.62342966</td><td>-0.08683827</td><td>-0.4674474</td><td> 0.310147405</td><td> 2.4612875</td><td> 1.2688392</td><td>-0.51695436</td><td>⋯</td><td> 1.7799165</td><td> 0.6300165</td><td> 1.04336560</td><td>-0.590974748</td><td> 0.04318683</td><td>-0.43130067</td><td>-1.006394506</td><td> 0.30200177</td><td>-0.47447193</td><td> 0.94908786</td></tr>\n",
       "\t<tr><th scope=row>terug</th><td> 0.8133580089</td><td> 2.0360780</td><td> 0.8136109</td><td>-1.02640152</td><td>-0.17450748</td><td> 1.0001317</td><td>-0.279980242</td><td> 1.9462745</td><td> 1.6771837</td><td>-0.55768490</td><td>⋯</td><td>-0.4410455</td><td>-1.8592818</td><td> 1.02352893</td><td> 0.249589413</td><td> 0.76105875</td><td> 0.33204806</td><td>-0.897264898</td><td>-0.31765619</td><td>-0.38583183</td><td> 0.47076550</td></tr>\n",
       "\t<tr><th scope=row>aanstonds</th><td> 1.3226492405</td><td> 2.4388030</td><td> 0.9845515</td><td>-0.49217048</td><td> 0.40867853</td><td> 1.6742558</td><td> 0.828185022</td><td> 0.8770901</td><td> 1.1342547</td><td> 0.41480112</td><td>⋯</td><td> 0.3330843</td><td> 0.9997330</td><td> 0.44571650</td><td>-0.081017978</td><td>-0.30078658</td><td>-0.06945886</td><td>-0.433410704</td><td> 0.86342341</td><td> 1.18169987</td><td> 1.14480901</td></tr>\n",
       "\t<tr><th scope=row>laatste</th><td> 0.6536431313</td><td> 0.9137798</td><td> 0.2309753</td><td>-1.13887143</td><td>-0.83861035</td><td> 0.1323316</td><td> 0.678582132</td><td> 0.6285897</td><td> 0.9232220</td><td> 1.24692142</td><td>⋯</td><td> 0.3433167</td><td> 0.8419452</td><td> 1.94154203</td><td> 1.533136010</td><td> 0.75248057</td><td> 0.84798485</td><td>-0.041802913</td><td>-0.06308054</td><td> 1.01718235</td><td> 1.43443680</td></tr>\n",
       "\t<tr><th scope=row>rechterkolom</th><td>-0.2813569307</td><td> 1.3030494</td><td>-0.4127769</td><td> 0.44837040</td><td> 0.18085276</td><td> 1.5548484</td><td> 0.464117169</td><td> 1.5238960</td><td> 0.6920568</td><td>-1.07997084</td><td>⋯</td><td> 0.5989897</td><td> 0.9499401</td><td> 0.45435500</td><td>-0.122282058</td><td> 0.47908521</td><td> 0.10916522</td><td>-1.317876697</td><td> 0.58042353</td><td> 0.78147435</td><td> 1.80373085</td></tr>\n",
       "\t<tr><th scope=row>weer</th><td> 1.2650600672</td><td> 1.8659981</td><td> 1.0747868</td><td>-2.04702449</td><td> 0.23855892</td><td> 1.4187531</td><td>-0.516548693</td><td> 3.3143353</td><td> 0.5920128</td><td>-0.16244768</td><td>⋯</td><td> 1.1793698</td><td> 0.3492955</td><td> 2.07760906</td><td> 0.128229246</td><td> 0.96484894</td><td> 0.32753399</td><td> 0.206716403</td><td>-1.08504951</td><td>-0.87090087</td><td> 0.83682650</td></tr>\n",
       "\t<tr><th scope=row>beperkingen</th><td>-0.5778756738</td><td> 1.0536649</td><td> 0.8006212</td><td>-1.12731707</td><td>-0.10916074</td><td> 1.4118832</td><td>-0.335569024</td><td> 0.5474648</td><td> 1.4057019</td><td> 0.57603586</td><td>⋯</td><td>-0.1845539</td><td> 1.1333601</td><td> 0.42389360</td><td>-0.332693756</td><td>-1.07994723</td><td>-0.11553950</td><td>-0.518910706</td><td> 0.79772586</td><td> 1.13647974</td><td> 1.44274032</td></tr>\n",
       "\t<tr><th scope=row>4</th><td>-0.4716817439</td><td> 1.1023746</td><td>-0.8574600</td><td> 0.53461438</td><td> 0.38937712</td><td> 1.4626848</td><td> 0.005869661</td><td> 0.6638515</td><td> 1.1626741</td><td>-0.96733791</td><td>⋯</td><td> 0.1318980</td><td> 0.7466898</td><td>-0.50593573</td><td> 0.438299477</td><td> 0.45033127</td><td> 0.34907731</td><td>-1.097455144</td><td>-0.23275062</td><td> 1.15775204</td><td> 1.46719885</td></tr>\n",
       "\t<tr><th scope=row>plaatsvinden</th><td> 1.4612451792</td><td> 1.7186282</td><td> 0.1372257</td><td>-0.58556265</td><td>-0.90572649</td><td> 0.5671372</td><td> 1.072651625</td><td> 1.9621540</td><td> 0.7538905</td><td> 0.95161968</td><td>⋯</td><td> 0.4136922</td><td> 0.6532348</td><td>-0.37009367</td><td> 0.381717622</td><td> 0.12076596</td><td>-0.41407934</td><td>-1.082565069</td><td>-1.20176923</td><td> 1.38428330</td><td> 1.56581151</td></tr>\n",
       "\t<tr><th scope=row>wet</th><td> 1.4867053032</td><td> 0.8420942</td><td> 0.4604000</td><td> 0.74989420</td><td>-0.88436884</td><td> 1.2520270</td><td>-1.197207332</td><td>-0.1101131</td><td> 1.3409958</td><td>-0.57822680</td><td>⋯</td><td>-0.5767802</td><td> 0.7140344</td><td> 0.02280977</td><td> 1.272775173</td><td>-1.24506032</td><td>-0.73893106</td><td>-1.674482346</td><td>-1.67315388</td><td> 1.59086800</td><td>-0.38480121</td></tr>\n",
       "\t<tr><th scope=row>categorieã«n</th><td> 0.0003994888</td><td> 1.8309084</td><td>-0.3118100</td><td>-0.73269242</td><td>-0.12513593</td><td> 0.8108722</td><td> 0.953645468</td><td> 1.4309294</td><td>-0.6193238</td><td> 0.60875803</td><td>⋯</td><td>-0.8308735</td><td> 1.1287361</td><td> 0.15667357</td><td> 0.510070086</td><td> 0.08411678</td><td>-0.51022136</td><td> 0.006490601</td><td>-1.64816415</td><td> 2.06106615</td><td> 1.37978387</td></tr>\n",
       "\t<tr><th scope=row>in</th><td>-0.2041336745</td><td> 0.2815526</td><td>-0.6954233</td><td> 0.24871004</td><td> 0.30235732</td><td> 1.6427448</td><td> 0.938093185</td><td> 1.0206423</td><td>-0.3684002</td><td> 0.16034207</td><td>⋯</td><td> 0.6077635</td><td>-0.6115836</td><td> 1.42758214</td><td>-0.187923625</td><td> 1.41298783</td><td> 0.68071157</td><td>-0.338470519</td><td> 0.93247986</td><td> 0.26923168</td><td> 0.99277371</td></tr>\n",
       "\t<tr><th scope=row>regering</th><td> 0.2814955413</td><td> 0.7226364</td><td> 1.2798568</td><td>-1.53410602</td><td>-0.76842654</td><td> 1.1102474</td><td> 0.428667575</td><td> 1.5592736</td><td> 1.2812328</td><td> 0.80769652</td><td>⋯</td><td> 0.8977546</td><td> 0.1409153</td><td> 0.25958401</td><td>-0.702126741</td><td>-1.15779924</td><td>-0.97129261</td><td> 0.261602461</td><td> 1.04539764</td><td> 1.86413574</td><td>-0.83485657</td></tr>\n",
       "\t<tr><th scope=row>waarin</th><td>-0.4548277557</td><td>-0.6271952</td><td>-0.8072867</td><td> 1.39946604</td><td> 0.64994246</td><td> 1.4280035</td><td> 0.624550164</td><td> 0.3990379</td><td> 0.6420692</td><td> 0.03328312</td><td>⋯</td><td> 0.1619336</td><td> 2.3294928</td><td>-0.00929367</td><td> 0.542881608</td><td> 0.46804577</td><td>-0.40483201</td><td>-0.180018082</td><td> 0.64333242</td><td> 2.37916231</td><td>-0.61105913</td></tr>\n",
       "\t<tr><th scope=row>dele</th><td>-0.4184679091</td><td> 0.8173309</td><td> 0.9587032</td><td>-1.58093548</td><td> 0.43942264</td><td> 1.8146117</td><td> 0.601664245</td><td> 1.8844265</td><td> 0.4467868</td><td> 0.80260265</td><td>⋯</td><td> 0.6002490</td><td> 0.9177978</td><td> 0.69054765</td><td>-0.374800771</td><td> 0.38975582</td><td> 0.46545455</td><td>-0.121163741</td><td> 0.35939908</td><td> 0.75685483</td><td> 1.12353504</td></tr>\n",
       "\t<tr><th scope=row>machtiging</th><td>-0.3042625189</td><td> 3.2910388</td><td>-0.4591317</td><td>-0.39020145</td><td> 1.05911660</td><td> 0.7089548</td><td> 0.918583751</td><td> 0.4251570</td><td> 1.3077408</td><td>-0.35666654</td><td>⋯</td><td> 0.2804176</td><td> 1.7208952</td><td>-0.20832494</td><td> 0.413032949</td><td> 0.21142431</td><td>-0.05355086</td><td>-1.196124077</td><td>-0.93004560</td><td> 1.73739529</td><td> 1.72372675</td></tr>\n",
       "\t<tr><th scope=row>omdat</th><td> 0.9704630971</td><td> 2.2467034</td><td>-0.1067680</td><td>-0.65411115</td><td>-0.23712522</td><td> 1.9087899</td><td> 0.590213716</td><td> 1.7447883</td><td> 1.4713236</td><td>-0.39761618</td><td>⋯</td><td> 1.0270276</td><td> 1.0806535</td><td> 1.32490122</td><td>-0.621141911</td><td>-0.09435851</td><td>-0.34940466</td><td> 0.251185268</td><td> 0.81809103</td><td>-0.02582305</td><td>-0.12632628</td></tr>\n",
       "\t<tr><th scope=row>⋮</th><td>⋮</td><td>⋮</td><td>⋮</td><td>⋮</td><td>⋮</td><td>⋮</td><td>⋮</td><td>⋮</td><td>⋮</td><td>⋮</td><td>⋱</td><td>⋮</td><td>⋮</td><td>⋮</td><td>⋮</td><td>⋮</td><td>⋮</td><td>⋮</td><td>⋮</td><td>⋮</td><td>⋮</td></tr>\n",
       "\t<tr><th scope=row>kijkers</th><td>-0.31820855</td><td> 1.8546709</td><td>-0.51541734</td><td>-1.7106713</td><td> 0.16650280</td><td>1.2530636</td><td> 3.873124e-01</td><td>2.315020</td><td> 1.08204198</td><td> 0.38323200</td><td>⋯</td><td> 0.08701382</td><td> 0.43486184</td><td> 0.26397598</td><td> 0.095867701</td><td> 1.31856167</td><td>-0.156820893</td><td> 0.21356283</td><td>-1.33094370</td><td>1.044731617</td><td> 0.5061103</td></tr>\n",
       "\t<tr><th scope=row>cq</th><td>-0.47931972</td><td> 0.9878666</td><td> 0.48735747</td><td>-0.9128976</td><td> 0.19259311</td><td>1.9037960</td><td>-5.263489e-01</td><td>1.611716</td><td> 1.09876943</td><td> 0.20970534</td><td>⋯</td><td>-0.20610932</td><td> 0.69399887</td><td> 0.07180115</td><td> 0.275664806</td><td> 0.05613890</td><td>-0.442090899</td><td>-0.12226637</td><td>-0.61529970</td><td>1.499845147</td><td> 0.6508808</td></tr>\n",
       "\t<tr><th scope=row>dilemma</th><td> 0.75546843</td><td> 2.7611735</td><td> 1.14847207</td><td>-1.4564794</td><td> 0.50890124</td><td>2.1861446</td><td> 1.111928e+00</td><td>1.398682</td><td> 1.39133632</td><td> 0.63913000</td><td>⋯</td><td> 1.40646636</td><td> 0.43190879</td><td> 1.58185196</td><td>-1.125834584</td><td> 0.47358349</td><td>-1.076803684</td><td>-0.69800252</td><td>-0.05622850</td><td>1.461315274</td><td> 1.1834898</td></tr>\n",
       "\t<tr><th scope=row>reces</th><td> 0.22192329</td><td> 1.2140008</td><td>-0.08972252</td><td>-0.1714780</td><td>-0.45345250</td><td>2.3653677</td><td>-5.892551e-02</td><td>1.681224</td><td> 0.62477016</td><td>-1.05260599</td><td>⋯</td><td> 0.60507131</td><td> 0.54093868</td><td> 1.12737548</td><td> 0.025178567</td><td>-0.15651029</td><td>-0.897826254</td><td>-0.04189505</td><td> 0.55131924</td><td>0.998499990</td><td> 0.2370302</td></tr>\n",
       "\t<tr><th scope=row>soelaas</th><td> 0.13918692</td><td> 2.7526915</td><td>-0.57311016</td><td>-0.1959895</td><td> 0.38675097</td><td>2.0913749</td><td> 1.441544e+00</td><td>1.291207</td><td> 1.14126599</td><td>-0.47498313</td><td>⋯</td><td> 0.06887046</td><td> 0.91715193</td><td> 0.63954908</td><td>-0.398106903</td><td> 1.13355672</td><td>-0.237036571</td><td>-0.87154359</td><td>-0.41404265</td><td>1.461600304</td><td> 1.3970920</td></tr>\n",
       "\t<tr><th scope=row>indeling</th><td> 0.39279112</td><td> 2.3066201</td><td> 0.65217197</td><td>-1.0210682</td><td> 0.22086850</td><td>1.4438286</td><td> 1.148143e+00</td><td>2.741446</td><td> 1.95843470</td><td> 0.46473503</td><td>⋯</td><td> 0.63114846</td><td> 1.16531479</td><td> 0.34125623</td><td>-0.467212737</td><td> 0.07908826</td><td> 0.124790534</td><td>-0.06622035</td><td>-0.15545169</td><td>0.661477506</td><td> 0.9659006</td></tr>\n",
       "\t<tr><th scope=row>administraties</th><td> 0.65271026</td><td> 3.0921769</td><td>-0.24335812</td><td>-1.0810848</td><td>-0.69782263</td><td>1.2897565</td><td> 9.103477e-01</td><td>2.078982</td><td> 0.45020971</td><td>-0.05666351</td><td>⋯</td><td> 0.36129701</td><td> 1.20475435</td><td> 1.20853817</td><td>-0.511801481</td><td> 0.18569411</td><td>-0.485783815</td><td> 0.10672078</td><td>-0.83789039</td><td>0.724432290</td><td> 0.3556376</td></tr>\n",
       "\t<tr><th scope=row>afbetalingsregeling</th><td> 0.79481930</td><td> 2.4659884</td><td> 1.24103463</td><td>-0.9605960</td><td> 1.30975902</td><td>1.8342144</td><td> 4.799765e-01</td><td>1.201989</td><td> 0.78066421</td><td> 1.26713347</td><td>⋯</td><td> 0.52875888</td><td> 1.04433382</td><td> 0.65586239</td><td> 0.971888900</td><td> 0.42422655</td><td>-1.531576395</td><td> 0.33814397</td><td>-0.84724385</td><td>2.355955124</td><td> 1.4014857</td></tr>\n",
       "\t<tr><th scope=row>onderwijsbijdrage</th><td>-0.17816991</td><td> 0.9904271</td><td>-0.49588332</td><td> 0.1396856</td><td>-0.12117232</td><td>2.1476433</td><td>-4.687544e-02</td><td>1.434282</td><td> 0.01045863</td><td>-0.99394739</td><td>⋯</td><td>-0.11559957</td><td> 0.80661875</td><td>-0.04596450</td><td> 0.696531892</td><td> 0.80945385</td><td>-0.477734834</td><td>-0.03839044</td><td> 0.22861509</td><td>1.163024783</td><td> 0.1460826</td></tr>\n",
       "\t<tr><th scope=row>35</th><td> 0.19234331</td><td> 1.2990510</td><td> 0.35224780</td><td>-0.7052296</td><td> 0.35769129</td><td>2.2777152</td><td>-3.152446e-01</td><td>2.174794</td><td> 0.91444367</td><td> 0.28882277</td><td>⋯</td><td> 0.32675105</td><td> 0.99514157</td><td> 0.38720021</td><td>-0.094083019</td><td> 0.16041510</td><td>-0.091098182</td><td> 0.67170936</td><td> 0.51453608</td><td>1.310553908</td><td> 1.4510773</td></tr>\n",
       "\t<tr><th scope=row>oneens</th><td> 1.48478186</td><td> 1.7187845</td><td> 1.05472457</td><td>-1.7218965</td><td>-0.51604265</td><td>1.9998888</td><td> 6.824517e-01</td><td>1.808748</td><td> 1.51819968</td><td>-0.17443602</td><td>⋯</td><td> 1.37709534</td><td> 0.51023519</td><td> 1.68953443</td><td>-0.100372769</td><td> 0.24128109</td><td>-0.672089994</td><td>-0.05229897</td><td> 0.82805282</td><td>0.280808002</td><td>-0.1363491</td></tr>\n",
       "\t<tr><th scope=row>incidenteel</th><td> 0.02406551</td><td> 0.8354843</td><td> 0.37020069</td><td>-0.9315535</td><td>-0.61082596</td><td>2.0679727</td><td> 4.005925e-01</td><td>2.231819</td><td> 0.63798767</td><td> 0.26648211</td><td>⋯</td><td> 0.91744655</td><td> 1.09822142</td><td> 0.65835249</td><td>-0.376306295</td><td> 0.50461358</td><td>-0.637980103</td><td> 0.36851591</td><td> 0.40020981</td><td>1.333967447</td><td> 0.6717649</td></tr>\n",
       "\t<tr><th scope=row>kopenhagen</th><td>-0.34802166</td><td> 0.8069553</td><td>-0.52879083</td><td>-0.9369835</td><td>-0.13136719</td><td>2.5134387</td><td> 8.313065e-01</td><td>2.620642</td><td> 0.03735875</td><td>-0.53442603</td><td>⋯</td><td> 0.60316229</td><td> 0.50475043</td><td> 1.51731157</td><td>-0.302484334</td><td> 2.07124877</td><td> 0.300693095</td><td>-0.14472151</td><td>-0.10541210</td><td>1.087455988</td><td> 1.6528722</td></tr>\n",
       "\t<tr><th scope=row>onmogelijkheid</th><td> 0.33398220</td><td> 1.9361254</td><td> 0.34460932</td><td>-1.5264654</td><td> 0.84658664</td><td>0.9721938</td><td> 6.039611e-01</td><td>2.154086</td><td> 1.55812442</td><td> 0.08112829</td><td>⋯</td><td> 0.44945437</td><td> 0.47383001</td><td> 0.49762389</td><td>-0.012258852</td><td> 0.96417964</td><td>-0.211840391</td><td>-0.13146672</td><td>-1.09916818</td><td>1.367742300</td><td> 1.5828654</td></tr>\n",
       "\t<tr><th scope=row>afzienbare</th><td>-1.10236800</td><td> 0.9826941</td><td>-0.41826016</td><td>-0.9680180</td><td>-0.57111090</td><td>2.0117457</td><td>-6.097465e-01</td><td>2.263266</td><td> 0.93633890</td><td>-0.53814763</td><td>⋯</td><td>-0.60954821</td><td> 0.02657958</td><td> 0.76226974</td><td> 0.033001155</td><td> 0.62337351</td><td>-1.475551486</td><td> 0.12159722</td><td>-1.27469814</td><td>0.926683784</td><td> 0.5000724</td></tr>\n",
       "\t<tr><th scope=row>deden</th><td> 0.55650783</td><td> 1.8499612</td><td> 1.22005939</td><td>-1.4819527</td><td>-0.15928262</td><td>0.6531189</td><td>-2.441490e-01</td><td>2.487537</td><td> 0.60686612</td><td> 1.08687127</td><td>⋯</td><td> 0.56259388</td><td> 0.87066191</td><td>-0.07869190</td><td> 0.149923638</td><td> 0.70303625</td><td> 0.115867801</td><td> 0.71684259</td><td>-0.11934769</td><td>1.282594442</td><td> 0.9807752</td></tr>\n",
       "\t<tr><th scope=row>landgenoten</th><td> 0.72408563</td><td> 1.9611945</td><td> 0.87100852</td><td>-2.1368945</td><td> 0.80651081</td><td>1.3652221</td><td> 9.153143e-01</td><td>1.862205</td><td> 1.37862098</td><td> 0.26316461</td><td>⋯</td><td> 0.47123745</td><td>-0.47104764</td><td> 0.85586494</td><td>-0.168651029</td><td> 0.23274939</td><td>-0.585099518</td><td>-0.45095983</td><td>-0.66071439</td><td>0.788897455</td><td> 1.1258090</td></tr>\n",
       "\t<tr><th scope=row>veronicaformule</th><td> 0.96062040</td><td> 1.9721920</td><td> 0.10780978</td><td>-0.9612426</td><td> 0.04058551</td><td>2.0962305</td><td> 9.105119e-01</td><td>3.052279</td><td> 1.31737173</td><td>-0.45790169</td><td>⋯</td><td> 1.48338139</td><td> 0.08545686</td><td> 0.62415576</td><td>-0.351025075</td><td>-0.52919406</td><td>-0.656739712</td><td> 0.21790989</td><td> 0.02152728</td><td>0.800789237</td><td> 0.2753731</td></tr>\n",
       "\t<tr><th scope=row>zuinig</th><td> 0.79254812</td><td> 1.7447227</td><td> 0.88489646</td><td>-1.8661519</td><td>-0.08476640</td><td>1.8782014</td><td> 9.682072e-01</td><td>1.706800</td><td> 1.35796237</td><td> 0.83336443</td><td>⋯</td><td> 1.35579419</td><td> 0.72688895</td><td> 1.54953027</td><td>-0.539655209</td><td> 0.66186744</td><td>-0.562279165</td><td>-0.17684716</td><td> 0.81180137</td><td>0.423579216</td><td> 0.3556570</td></tr>\n",
       "\t<tr><th scope=row>kamerverhoging</th><td>-0.54146427</td><td> 1.4686495</td><td>-1.11171925</td><td> 0.1139729</td><td> 0.04426470</td><td>1.9579463</td><td>-4.968875e-02</td><td>1.350924</td><td> 0.16040520</td><td>-0.84407961</td><td>⋯</td><td> 0.04331403</td><td> 1.11443651</td><td> 0.10692091</td><td> 0.278961241</td><td> 0.93074679</td><td>-0.532558799</td><td>-0.04271167</td><td>-0.21566443</td><td>0.903216302</td><td> 0.2025898</td></tr>\n",
       "\t<tr><th scope=row>lokale</th><td> 0.43684694</td><td> 1.0374402</td><td> 0.76705897</td><td>-1.4782734</td><td>-0.26529112</td><td>1.9708581</td><td> 3.039563e-01</td><td>2.812430</td><td> 1.09305620</td><td>-0.11694997</td><td>⋯</td><td> 0.79485708</td><td>-0.35565796</td><td> 1.51807094</td><td>-0.015833115</td><td> 1.25326741</td><td>-0.281322479</td><td> 0.65088665</td><td>-0.44239482</td><td>0.008289064</td><td> 0.3439741</td></tr>\n",
       "\t<tr><th scope=row>overgeplaatst</th><td> 0.69638902</td><td> 0.7619874</td><td> 1.01715267</td><td>-1.1394073</td><td>-0.49552131</td><td>1.5674306</td><td> 5.918056e-01</td><td>2.764983</td><td> 0.36128524</td><td>-0.09148135</td><td>⋯</td><td> 0.78786981</td><td>-0.38767257</td><td> 1.01308358</td><td>-0.221597970</td><td> 0.55362880</td><td>-0.165887862</td><td> 0.67599708</td><td> 0.42317674</td><td>0.825392485</td><td> 1.0660225</td></tr>\n",
       "\t<tr><th scope=row>lief</th><td> 0.45852461</td><td> 2.2639959</td><td> 1.34989917</td><td>-1.9210485</td><td> 0.17847320</td><td>0.8850971</td><td> 2.661419e-01</td><td>2.421771</td><td> 2.20054936</td><td> 0.22259280</td><td>⋯</td><td> 1.18746758</td><td> 0.72498572</td><td> 0.76997256</td><td>-0.205872282</td><td> 0.17378569</td><td>-0.572857261</td><td>-0.31974441</td><td>-0.11478014</td><td>0.560640574</td><td> 0.5813744</td></tr>\n",
       "\t<tr><th scope=row>verouderd</th><td> 0.10441342</td><td> 2.2370572</td><td> 0.08368732</td><td>-1.4258622</td><td> 0.37637126</td><td>1.3092222</td><td> 3.024606e-01</td><td>2.169107</td><td> 0.87677884</td><td> 0.13245927</td><td>⋯</td><td> 1.09576547</td><td> 1.09910333</td><td> 0.92519188</td><td> 0.085173406</td><td> 0.94929016</td><td> 0.006049901</td><td>-0.01321995</td><td>-0.71416825</td><td>0.866041303</td><td> 1.4125530</td></tr>\n",
       "\t<tr><th scope=row>fouten</th><td> 0.08308948</td><td> 1.4631743</td><td> 0.60215521</td><td>-1.8795218</td><td>-0.02511777</td><td>2.0188227</td><td>-8.623504e-05</td><td>1.089987</td><td> 0.64166343</td><td> 0.03265324</td><td>⋯</td><td> 0.44420645</td><td> 1.53120637</td><td> 1.53003967</td><td>-0.330933303</td><td> 0.08511975</td><td>-0.603650451</td><td>-0.17050716</td><td> 0.39811954</td><td>1.140112281</td><td> 0.8282863</td></tr>\n",
       "\t<tr><th scope=row>beleidsvoorbereiding</th><td> 0.69157010</td><td> 0.8914108</td><td> 1.54092062</td><td>-1.6148713</td><td> 0.18280762</td><td>2.0051777</td><td> 6.414331e-01</td><td>2.215252</td><td> 0.69328946</td><td> 0.96956444</td><td>⋯</td><td> 0.81440079</td><td> 0.39561373</td><td> 0.81458676</td><td>-0.489740878</td><td> 0.67774147</td><td>-0.589456856</td><td> 0.47673514</td><td> 0.64517659</td><td>1.140199184</td><td> 0.8673493</td></tr>\n",
       "\t<tr><th scope=row>friesland</th><td>-0.02377643</td><td> 0.3793087</td><td> 0.77057242</td><td>-0.4222968</td><td>-0.41279480</td><td>2.6110904</td><td> 5.332016e-01</td><td>2.787721</td><td>-0.15720813</td><td> 0.25151995</td><td>⋯</td><td> 0.02306008</td><td>-0.11042733</td><td> 0.06773035</td><td> 0.020731833</td><td> 0.35679784</td><td>-0.081945956</td><td> 0.36093605</td><td> 0.99069893</td><td>1.147270203</td><td> 0.9235236</td></tr>\n",
       "\t<tr><th scope=row>zeescheepvaart</th><td> 0.94096160</td><td> 0.7255874</td><td> 1.18398535</td><td>-1.4494793</td><td>-0.03760428</td><td>1.1779733</td><td> 4.167903e-01</td><td>1.332158</td><td>-0.04201071</td><td> 0.37619084</td><td>⋯</td><td> 0.28012878</td><td> 0.90329182</td><td> 0.80620515</td><td>-0.007764224</td><td> 0.74989474</td><td> 0.040811550</td><td> 0.22102599</td><td> 0.95793253</td><td>1.224843264</td><td> 1.4363594</td></tr>\n",
       "\t<tr><th scope=row>investeringsklimaat</th><td> 0.48698521</td><td>-0.4742367</td><td> 1.01935053</td><td>-1.6920604</td><td>-0.05192250</td><td>0.9991694</td><td> 6.182206e-02</td><td>2.223262</td><td> 0.74993598</td><td> 0.74122059</td><td>⋯</td><td> 0.20499389</td><td> 0.26349169</td><td> 1.17972660</td><td> 0.471795976</td><td> 0.30091402</td><td> 0.203594685</td><td> 0.08060329</td><td>-0.12739153</td><td>1.579845786</td><td> 1.0953737</td></tr>\n",
       "\t<tr><th scope=row>grondstoffenovereenkomsten</th><td> 1.12445343</td><td> 1.9199166</td><td> 1.77263522</td><td>-1.1147400</td><td>-0.32577872</td><td>1.4535446</td><td> 5.954862e-01</td><td>2.598578</td><td> 1.13633585</td><td>-0.19943790</td><td>⋯</td><td> 1.66687763</td><td> 0.11921345</td><td> 0.94866514</td><td>-0.636667907</td><td> 0.77411515</td><td> 0.117313512</td><td> 0.22988588</td><td> 0.34902078</td><td>0.271103829</td><td> 0.7761267</td></tr>\n",
       "</tbody>\n",
       "</table>\n"
      ],
      "text/latex": [
       "A matrix: 4173 × 100 of type dbl\n",
       "\\begin{tabular}{r|lllllllllllllllllllll}\n",
       "\tsprak &  1.6895074844 & -0.3049538 &  0.7992749 & -1.19430888 & -0.05998137 &  0.6480411 & -0.353177726 &  0.2854177 &  0.3527364 &  0.21527527 & ⋯ &  1.0497183 &  1.4837081 &  1.97292316 &  0.987822115 &  0.46581200 & -0.63987803 &  0.441580951 &  0.04310448 &  1.17390406 &  0.28912398\\\\\n",
       "\ttarieven &  0.1134191379 & -0.3133795 &  1.0116490 & -0.95502204 & -0.18923515 &  2.4212852 &  0.347695023 &  2.6307766 & -0.7694862 & -0.61722642 & ⋯ &  0.1428748 & -0.9192319 &  1.11465704 & -0.179196998 &  1.53936982 &  0.34327701 &  0.430707425 &  0.29155922 &  0.20490949 &  0.14746314\\\\\n",
       "\tgebruik &  0.2082796842 &  1.9369949 &  0.1543762 &  1.01854002 &  2.65894198 &  2.2024477 &  0.780832171 &  0.6542004 &  0.7787566 & -0.18213955 & ⋯ &  0.5589374 & -0.4375039 &  1.52190578 & -0.689588606 &  0.47653908 & -0.97079819 & -0.204285085 & -0.48810673 & -0.00346033 &  1.99237478\\\\\n",
       "\t30 & -0.3592257798 &  0.6148372 & -0.6816726 & -0.01972839 &  1.26008332 &  2.4771092 & -0.477232486 &  0.5160176 &  0.1214462 &  0.04689427 & ⋯ & -0.5092092 &  1.3989733 & -0.07416808 &  0.279601514 &  0.31446660 & -0.78547078 & -0.683434606 & -0.38642606 &  2.08995247 &  0.45364502\\\\\n",
       "\thuurkoop & -1.9383014441 &  1.9777148 & -0.7506567 &  0.50910383 &  0.71064645 &  1.1432127 & -0.029393898 &  0.6665856 &  0.8242266 &  0.45940346 & ⋯ & -1.0920838 &  1.7663448 & -0.58709246 & -0.101813734 &  0.68781734 & -0.17954105 & -0.604528010 & -1.20141602 &  1.84600604 &  1.26940644\\\\\n",
       "\twillen &  0.1815943122 &  0.3760585 &  0.7204036 & -1.43610430 & -0.06186096 &  1.2716085 & -0.505957127 &  0.8406082 &  1.0850146 & -0.85426307 & ⋯ &  1.1993363 & -0.5152828 &  0.85265219 &  0.057697829 & -0.28664151 & -0.33733347 & -0.399435490 & -1.01830900 &  0.73339587 &  0.17694303\\\\\n",
       "\tdesbetreffende &  0.8228499293 &  2.6637669 &  0.2451945 & -0.93743801 & -0.26783091 &  1.1488528 &  0.320683837 &  1.3972664 &  0.1861908 &  0.77852672 & ⋯ &  1.6453627 &  2.2142165 &  1.46010613 & -0.632818401 & -0.37192553 & -0.96936828 & -0.142626747 & -0.27714828 &  2.12108111 &  1.00297284\\\\\n",
       "\tafkondiging &  0.8928880095 &  2.2723401 &  0.5245193 & -0.47357991 & -0.05464269 &  1.5428030 &  0.159050837 &  1.7456338 &  1.0218432 &  0.63860512 & ⋯ &  0.7020201 &  1.1809292 &  0.29988056 & -0.401873440 & -0.31395805 & -2.03503609 &  0.168372154 & -1.35371017 &  1.99417377 & -0.25728419\\\\\n",
       "\tgewerkt & -0.2727977633 &  0.6934506 &  0.4057146 & -1.20233035 & -0.53611195 &  1.7918028 & -0.295084119 &  2.0907114 & -0.1075582 &  0.42840800 & ⋯ &  0.6633239 &  0.9614517 &  1.60967493 & -0.003441013 &  0.15196329 & -0.33089539 & -0.286553442 &  0.09344649 &  1.39818382 &  0.02799989\\\\\n",
       "\tstukje &  1.2968661785 &  2.5409546 & -0.5085130 & -0.63394105 &  0.60670853 &  1.7961717 &  1.391381979 &  1.2619343 &  0.5206074 &  0.22453748 & ⋯ &  0.7407854 &  1.0758219 &  0.87230015 & -0.157078251 &  0.79378933 &  0.49520701 &  0.435784072 &  0.23471779 &  1.36931121 &  1.69155931\\\\\n",
       "\tgemeenteraad &  0.5763347149 &  3.3280799 & -0.1454001 & -0.71432424 &  0.68386406 &  1.6136292 &  0.942135274 &  1.0299740 &  0.6157511 &  0.16709122 & ⋯ &  0.7526657 &  2.1862836 & -0.14218086 & -0.222233027 & -0.08487649 & -0.05140645 & -0.580581009 &  0.06847167 &  1.80929494 &  1.38462627\\\\\n",
       "\tvlucht &  0.3725880384 &  2.1435199 & -0.6235576 & -0.43642193 &  1.07116771 &  1.3507386 &  0.573688388 &  1.7871926 &  0.9967036 &  0.43051347 & ⋯ &  0.7207535 &  0.9021819 &  0.72520560 &  0.261857033 &  0.82276738 & -0.23441190 &  0.299625099 & -1.33900654 &  1.42169106 &  1.67046821\\\\\n",
       "\twilt &  1.5493083000 &  2.6576238 &  0.3690809 & -1.56090498 &  0.89685059 &  1.2312015 &  0.886386752 &  1.5076964 &  2.2360954 & -0.23840694 & ⋯ &  0.9931226 &  0.7063625 &  2.06858349 & -0.833400786 &  1.30682254 & -0.12031613 &  0.698985159 & -1.03035557 &  0.33709490 &  1.49414432\\\\\n",
       "\targumenten &  1.4915473461 &  1.5276624 &  1.0741408 & -1.62342966 & -0.08683827 & -0.4674474 &  0.310147405 &  2.4612875 &  1.2688392 & -0.51695436 & ⋯ &  1.7799165 &  0.6300165 &  1.04336560 & -0.590974748 &  0.04318683 & -0.43130067 & -1.006394506 &  0.30200177 & -0.47447193 &  0.94908786\\\\\n",
       "\tterug &  0.8133580089 &  2.0360780 &  0.8136109 & -1.02640152 & -0.17450748 &  1.0001317 & -0.279980242 &  1.9462745 &  1.6771837 & -0.55768490 & ⋯ & -0.4410455 & -1.8592818 &  1.02352893 &  0.249589413 &  0.76105875 &  0.33204806 & -0.897264898 & -0.31765619 & -0.38583183 &  0.47076550\\\\\n",
       "\taanstonds &  1.3226492405 &  2.4388030 &  0.9845515 & -0.49217048 &  0.40867853 &  1.6742558 &  0.828185022 &  0.8770901 &  1.1342547 &  0.41480112 & ⋯ &  0.3330843 &  0.9997330 &  0.44571650 & -0.081017978 & -0.30078658 & -0.06945886 & -0.433410704 &  0.86342341 &  1.18169987 &  1.14480901\\\\\n",
       "\tlaatste &  0.6536431313 &  0.9137798 &  0.2309753 & -1.13887143 & -0.83861035 &  0.1323316 &  0.678582132 &  0.6285897 &  0.9232220 &  1.24692142 & ⋯ &  0.3433167 &  0.8419452 &  1.94154203 &  1.533136010 &  0.75248057 &  0.84798485 & -0.041802913 & -0.06308054 &  1.01718235 &  1.43443680\\\\\n",
       "\trechterkolom & -0.2813569307 &  1.3030494 & -0.4127769 &  0.44837040 &  0.18085276 &  1.5548484 &  0.464117169 &  1.5238960 &  0.6920568 & -1.07997084 & ⋯ &  0.5989897 &  0.9499401 &  0.45435500 & -0.122282058 &  0.47908521 &  0.10916522 & -1.317876697 &  0.58042353 &  0.78147435 &  1.80373085\\\\\n",
       "\tweer &  1.2650600672 &  1.8659981 &  1.0747868 & -2.04702449 &  0.23855892 &  1.4187531 & -0.516548693 &  3.3143353 &  0.5920128 & -0.16244768 & ⋯ &  1.1793698 &  0.3492955 &  2.07760906 &  0.128229246 &  0.96484894 &  0.32753399 &  0.206716403 & -1.08504951 & -0.87090087 &  0.83682650\\\\\n",
       "\tbeperkingen & -0.5778756738 &  1.0536649 &  0.8006212 & -1.12731707 & -0.10916074 &  1.4118832 & -0.335569024 &  0.5474648 &  1.4057019 &  0.57603586 & ⋯ & -0.1845539 &  1.1333601 &  0.42389360 & -0.332693756 & -1.07994723 & -0.11553950 & -0.518910706 &  0.79772586 &  1.13647974 &  1.44274032\\\\\n",
       "\t4 & -0.4716817439 &  1.1023746 & -0.8574600 &  0.53461438 &  0.38937712 &  1.4626848 &  0.005869661 &  0.6638515 &  1.1626741 & -0.96733791 & ⋯ &  0.1318980 &  0.7466898 & -0.50593573 &  0.438299477 &  0.45033127 &  0.34907731 & -1.097455144 & -0.23275062 &  1.15775204 &  1.46719885\\\\\n",
       "\tplaatsvinden &  1.4612451792 &  1.7186282 &  0.1372257 & -0.58556265 & -0.90572649 &  0.5671372 &  1.072651625 &  1.9621540 &  0.7538905 &  0.95161968 & ⋯ &  0.4136922 &  0.6532348 & -0.37009367 &  0.381717622 &  0.12076596 & -0.41407934 & -1.082565069 & -1.20176923 &  1.38428330 &  1.56581151\\\\\n",
       "\twet &  1.4867053032 &  0.8420942 &  0.4604000 &  0.74989420 & -0.88436884 &  1.2520270 & -1.197207332 & -0.1101131 &  1.3409958 & -0.57822680 & ⋯ & -0.5767802 &  0.7140344 &  0.02280977 &  1.272775173 & -1.24506032 & -0.73893106 & -1.674482346 & -1.67315388 &  1.59086800 & -0.38480121\\\\\n",
       "\tcategorieã«n &  0.0003994888 &  1.8309084 & -0.3118100 & -0.73269242 & -0.12513593 &  0.8108722 &  0.953645468 &  1.4309294 & -0.6193238 &  0.60875803 & ⋯ & -0.8308735 &  1.1287361 &  0.15667357 &  0.510070086 &  0.08411678 & -0.51022136 &  0.006490601 & -1.64816415 &  2.06106615 &  1.37978387\\\\\n",
       "\tin & -0.2041336745 &  0.2815526 & -0.6954233 &  0.24871004 &  0.30235732 &  1.6427448 &  0.938093185 &  1.0206423 & -0.3684002 &  0.16034207 & ⋯ &  0.6077635 & -0.6115836 &  1.42758214 & -0.187923625 &  1.41298783 &  0.68071157 & -0.338470519 &  0.93247986 &  0.26923168 &  0.99277371\\\\\n",
       "\tregering &  0.2814955413 &  0.7226364 &  1.2798568 & -1.53410602 & -0.76842654 &  1.1102474 &  0.428667575 &  1.5592736 &  1.2812328 &  0.80769652 & ⋯ &  0.8977546 &  0.1409153 &  0.25958401 & -0.702126741 & -1.15779924 & -0.97129261 &  0.261602461 &  1.04539764 &  1.86413574 & -0.83485657\\\\\n",
       "\twaarin & -0.4548277557 & -0.6271952 & -0.8072867 &  1.39946604 &  0.64994246 &  1.4280035 &  0.624550164 &  0.3990379 &  0.6420692 &  0.03328312 & ⋯ &  0.1619336 &  2.3294928 & -0.00929367 &  0.542881608 &  0.46804577 & -0.40483201 & -0.180018082 &  0.64333242 &  2.37916231 & -0.61105913\\\\\n",
       "\tdele & -0.4184679091 &  0.8173309 &  0.9587032 & -1.58093548 &  0.43942264 &  1.8146117 &  0.601664245 &  1.8844265 &  0.4467868 &  0.80260265 & ⋯ &  0.6002490 &  0.9177978 &  0.69054765 & -0.374800771 &  0.38975582 &  0.46545455 & -0.121163741 &  0.35939908 &  0.75685483 &  1.12353504\\\\\n",
       "\tmachtiging & -0.3042625189 &  3.2910388 & -0.4591317 & -0.39020145 &  1.05911660 &  0.7089548 &  0.918583751 &  0.4251570 &  1.3077408 & -0.35666654 & ⋯ &  0.2804176 &  1.7208952 & -0.20832494 &  0.413032949 &  0.21142431 & -0.05355086 & -1.196124077 & -0.93004560 &  1.73739529 &  1.72372675\\\\\n",
       "\tomdat &  0.9704630971 &  2.2467034 & -0.1067680 & -0.65411115 & -0.23712522 &  1.9087899 &  0.590213716 &  1.7447883 &  1.4713236 & -0.39761618 & ⋯ &  1.0270276 &  1.0806535 &  1.32490122 & -0.621141911 & -0.09435851 & -0.34940466 &  0.251185268 &  0.81809103 & -0.02582305 & -0.12632628\\\\\n",
       "\t⋮ & ⋮ & ⋮ & ⋮ & ⋮ & ⋮ & ⋮ & ⋮ & ⋮ & ⋮ & ⋮ & ⋱ & ⋮ & ⋮ & ⋮ & ⋮ & ⋮ & ⋮ & ⋮ & ⋮ & ⋮ & ⋮\\\\\n",
       "\tkijkers & -0.31820855 &  1.8546709 & -0.51541734 & -1.7106713 &  0.16650280 & 1.2530636 &  3.873124e-01 & 2.315020 &  1.08204198 &  0.38323200 & ⋯ &  0.08701382 &  0.43486184 &  0.26397598 &  0.095867701 &  1.31856167 & -0.156820893 &  0.21356283 & -1.33094370 & 1.044731617 &  0.5061103\\\\\n",
       "\tcq & -0.47931972 &  0.9878666 &  0.48735747 & -0.9128976 &  0.19259311 & 1.9037960 & -5.263489e-01 & 1.611716 &  1.09876943 &  0.20970534 & ⋯ & -0.20610932 &  0.69399887 &  0.07180115 &  0.275664806 &  0.05613890 & -0.442090899 & -0.12226637 & -0.61529970 & 1.499845147 &  0.6508808\\\\\n",
       "\tdilemma &  0.75546843 &  2.7611735 &  1.14847207 & -1.4564794 &  0.50890124 & 2.1861446 &  1.111928e+00 & 1.398682 &  1.39133632 &  0.63913000 & ⋯ &  1.40646636 &  0.43190879 &  1.58185196 & -1.125834584 &  0.47358349 & -1.076803684 & -0.69800252 & -0.05622850 & 1.461315274 &  1.1834898\\\\\n",
       "\treces &  0.22192329 &  1.2140008 & -0.08972252 & -0.1714780 & -0.45345250 & 2.3653677 & -5.892551e-02 & 1.681224 &  0.62477016 & -1.05260599 & ⋯ &  0.60507131 &  0.54093868 &  1.12737548 &  0.025178567 & -0.15651029 & -0.897826254 & -0.04189505 &  0.55131924 & 0.998499990 &  0.2370302\\\\\n",
       "\tsoelaas &  0.13918692 &  2.7526915 & -0.57311016 & -0.1959895 &  0.38675097 & 2.0913749 &  1.441544e+00 & 1.291207 &  1.14126599 & -0.47498313 & ⋯ &  0.06887046 &  0.91715193 &  0.63954908 & -0.398106903 &  1.13355672 & -0.237036571 & -0.87154359 & -0.41404265 & 1.461600304 &  1.3970920\\\\\n",
       "\tindeling &  0.39279112 &  2.3066201 &  0.65217197 & -1.0210682 &  0.22086850 & 1.4438286 &  1.148143e+00 & 2.741446 &  1.95843470 &  0.46473503 & ⋯ &  0.63114846 &  1.16531479 &  0.34125623 & -0.467212737 &  0.07908826 &  0.124790534 & -0.06622035 & -0.15545169 & 0.661477506 &  0.9659006\\\\\n",
       "\tadministraties &  0.65271026 &  3.0921769 & -0.24335812 & -1.0810848 & -0.69782263 & 1.2897565 &  9.103477e-01 & 2.078982 &  0.45020971 & -0.05666351 & ⋯ &  0.36129701 &  1.20475435 &  1.20853817 & -0.511801481 &  0.18569411 & -0.485783815 &  0.10672078 & -0.83789039 & 0.724432290 &  0.3556376\\\\\n",
       "\tafbetalingsregeling &  0.79481930 &  2.4659884 &  1.24103463 & -0.9605960 &  1.30975902 & 1.8342144 &  4.799765e-01 & 1.201989 &  0.78066421 &  1.26713347 & ⋯ &  0.52875888 &  1.04433382 &  0.65586239 &  0.971888900 &  0.42422655 & -1.531576395 &  0.33814397 & -0.84724385 & 2.355955124 &  1.4014857\\\\\n",
       "\tonderwijsbijdrage & -0.17816991 &  0.9904271 & -0.49588332 &  0.1396856 & -0.12117232 & 2.1476433 & -4.687544e-02 & 1.434282 &  0.01045863 & -0.99394739 & ⋯ & -0.11559957 &  0.80661875 & -0.04596450 &  0.696531892 &  0.80945385 & -0.477734834 & -0.03839044 &  0.22861509 & 1.163024783 &  0.1460826\\\\\n",
       "\t35 &  0.19234331 &  1.2990510 &  0.35224780 & -0.7052296 &  0.35769129 & 2.2777152 & -3.152446e-01 & 2.174794 &  0.91444367 &  0.28882277 & ⋯ &  0.32675105 &  0.99514157 &  0.38720021 & -0.094083019 &  0.16041510 & -0.091098182 &  0.67170936 &  0.51453608 & 1.310553908 &  1.4510773\\\\\n",
       "\toneens &  1.48478186 &  1.7187845 &  1.05472457 & -1.7218965 & -0.51604265 & 1.9998888 &  6.824517e-01 & 1.808748 &  1.51819968 & -0.17443602 & ⋯ &  1.37709534 &  0.51023519 &  1.68953443 & -0.100372769 &  0.24128109 & -0.672089994 & -0.05229897 &  0.82805282 & 0.280808002 & -0.1363491\\\\\n",
       "\tincidenteel &  0.02406551 &  0.8354843 &  0.37020069 & -0.9315535 & -0.61082596 & 2.0679727 &  4.005925e-01 & 2.231819 &  0.63798767 &  0.26648211 & ⋯ &  0.91744655 &  1.09822142 &  0.65835249 & -0.376306295 &  0.50461358 & -0.637980103 &  0.36851591 &  0.40020981 & 1.333967447 &  0.6717649\\\\\n",
       "\tkopenhagen & -0.34802166 &  0.8069553 & -0.52879083 & -0.9369835 & -0.13136719 & 2.5134387 &  8.313065e-01 & 2.620642 &  0.03735875 & -0.53442603 & ⋯ &  0.60316229 &  0.50475043 &  1.51731157 & -0.302484334 &  2.07124877 &  0.300693095 & -0.14472151 & -0.10541210 & 1.087455988 &  1.6528722\\\\\n",
       "\tonmogelijkheid &  0.33398220 &  1.9361254 &  0.34460932 & -1.5264654 &  0.84658664 & 0.9721938 &  6.039611e-01 & 2.154086 &  1.55812442 &  0.08112829 & ⋯ &  0.44945437 &  0.47383001 &  0.49762389 & -0.012258852 &  0.96417964 & -0.211840391 & -0.13146672 & -1.09916818 & 1.367742300 &  1.5828654\\\\\n",
       "\tafzienbare & -1.10236800 &  0.9826941 & -0.41826016 & -0.9680180 & -0.57111090 & 2.0117457 & -6.097465e-01 & 2.263266 &  0.93633890 & -0.53814763 & ⋯ & -0.60954821 &  0.02657958 &  0.76226974 &  0.033001155 &  0.62337351 & -1.475551486 &  0.12159722 & -1.27469814 & 0.926683784 &  0.5000724\\\\\n",
       "\tdeden &  0.55650783 &  1.8499612 &  1.22005939 & -1.4819527 & -0.15928262 & 0.6531189 & -2.441490e-01 & 2.487537 &  0.60686612 &  1.08687127 & ⋯ &  0.56259388 &  0.87066191 & -0.07869190 &  0.149923638 &  0.70303625 &  0.115867801 &  0.71684259 & -0.11934769 & 1.282594442 &  0.9807752\\\\\n",
       "\tlandgenoten &  0.72408563 &  1.9611945 &  0.87100852 & -2.1368945 &  0.80651081 & 1.3652221 &  9.153143e-01 & 1.862205 &  1.37862098 &  0.26316461 & ⋯ &  0.47123745 & -0.47104764 &  0.85586494 & -0.168651029 &  0.23274939 & -0.585099518 & -0.45095983 & -0.66071439 & 0.788897455 &  1.1258090\\\\\n",
       "\tveronicaformule &  0.96062040 &  1.9721920 &  0.10780978 & -0.9612426 &  0.04058551 & 2.0962305 &  9.105119e-01 & 3.052279 &  1.31737173 & -0.45790169 & ⋯ &  1.48338139 &  0.08545686 &  0.62415576 & -0.351025075 & -0.52919406 & -0.656739712 &  0.21790989 &  0.02152728 & 0.800789237 &  0.2753731\\\\\n",
       "\tzuinig &  0.79254812 &  1.7447227 &  0.88489646 & -1.8661519 & -0.08476640 & 1.8782014 &  9.682072e-01 & 1.706800 &  1.35796237 &  0.83336443 & ⋯ &  1.35579419 &  0.72688895 &  1.54953027 & -0.539655209 &  0.66186744 & -0.562279165 & -0.17684716 &  0.81180137 & 0.423579216 &  0.3556570\\\\\n",
       "\tkamerverhoging & -0.54146427 &  1.4686495 & -1.11171925 &  0.1139729 &  0.04426470 & 1.9579463 & -4.968875e-02 & 1.350924 &  0.16040520 & -0.84407961 & ⋯ &  0.04331403 &  1.11443651 &  0.10692091 &  0.278961241 &  0.93074679 & -0.532558799 & -0.04271167 & -0.21566443 & 0.903216302 &  0.2025898\\\\\n",
       "\tlokale &  0.43684694 &  1.0374402 &  0.76705897 & -1.4782734 & -0.26529112 & 1.9708581 &  3.039563e-01 & 2.812430 &  1.09305620 & -0.11694997 & ⋯ &  0.79485708 & -0.35565796 &  1.51807094 & -0.015833115 &  1.25326741 & -0.281322479 &  0.65088665 & -0.44239482 & 0.008289064 &  0.3439741\\\\\n",
       "\tovergeplaatst &  0.69638902 &  0.7619874 &  1.01715267 & -1.1394073 & -0.49552131 & 1.5674306 &  5.918056e-01 & 2.764983 &  0.36128524 & -0.09148135 & ⋯ &  0.78786981 & -0.38767257 &  1.01308358 & -0.221597970 &  0.55362880 & -0.165887862 &  0.67599708 &  0.42317674 & 0.825392485 &  1.0660225\\\\\n",
       "\tlief &  0.45852461 &  2.2639959 &  1.34989917 & -1.9210485 &  0.17847320 & 0.8850971 &  2.661419e-01 & 2.421771 &  2.20054936 &  0.22259280 & ⋯ &  1.18746758 &  0.72498572 &  0.76997256 & -0.205872282 &  0.17378569 & -0.572857261 & -0.31974441 & -0.11478014 & 0.560640574 &  0.5813744\\\\\n",
       "\tverouderd &  0.10441342 &  2.2370572 &  0.08368732 & -1.4258622 &  0.37637126 & 1.3092222 &  3.024606e-01 & 2.169107 &  0.87677884 &  0.13245927 & ⋯ &  1.09576547 &  1.09910333 &  0.92519188 &  0.085173406 &  0.94929016 &  0.006049901 & -0.01321995 & -0.71416825 & 0.866041303 &  1.4125530\\\\\n",
       "\tfouten &  0.08308948 &  1.4631743 &  0.60215521 & -1.8795218 & -0.02511777 & 2.0188227 & -8.623504e-05 & 1.089987 &  0.64166343 &  0.03265324 & ⋯ &  0.44420645 &  1.53120637 &  1.53003967 & -0.330933303 &  0.08511975 & -0.603650451 & -0.17050716 &  0.39811954 & 1.140112281 &  0.8282863\\\\\n",
       "\tbeleidsvoorbereiding &  0.69157010 &  0.8914108 &  1.54092062 & -1.6148713 &  0.18280762 & 2.0051777 &  6.414331e-01 & 2.215252 &  0.69328946 &  0.96956444 & ⋯ &  0.81440079 &  0.39561373 &  0.81458676 & -0.489740878 &  0.67774147 & -0.589456856 &  0.47673514 &  0.64517659 & 1.140199184 &  0.8673493\\\\\n",
       "\tfriesland & -0.02377643 &  0.3793087 &  0.77057242 & -0.4222968 & -0.41279480 & 2.6110904 &  5.332016e-01 & 2.787721 & -0.15720813 &  0.25151995 & ⋯ &  0.02306008 & -0.11042733 &  0.06773035 &  0.020731833 &  0.35679784 & -0.081945956 &  0.36093605 &  0.99069893 & 1.147270203 &  0.9235236\\\\\n",
       "\tzeescheepvaart &  0.94096160 &  0.7255874 &  1.18398535 & -1.4494793 & -0.03760428 & 1.1779733 &  4.167903e-01 & 1.332158 & -0.04201071 &  0.37619084 & ⋯ &  0.28012878 &  0.90329182 &  0.80620515 & -0.007764224 &  0.74989474 &  0.040811550 &  0.22102599 &  0.95793253 & 1.224843264 &  1.4363594\\\\\n",
       "\tinvesteringsklimaat &  0.48698521 & -0.4742367 &  1.01935053 & -1.6920604 & -0.05192250 & 0.9991694 &  6.182206e-02 & 2.223262 &  0.74993598 &  0.74122059 & ⋯ &  0.20499389 &  0.26349169 &  1.17972660 &  0.471795976 &  0.30091402 &  0.203594685 &  0.08060329 & -0.12739153 & 1.579845786 &  1.0953737\\\\\n",
       "\tgrondstoffenovereenkomsten &  1.12445343 &  1.9199166 &  1.77263522 & -1.1147400 & -0.32577872 & 1.4535446 &  5.954862e-01 & 2.598578 &  1.13633585 & -0.19943790 & ⋯ &  1.66687763 &  0.11921345 &  0.94866514 & -0.636667907 &  0.77411515 &  0.117313512 &  0.22988588 &  0.34902078 & 0.271103829 &  0.7761267\\\\\n",
       "\\end{tabular}\n"
      ],
      "text/markdown": [
       "\n",
       "A matrix: 4173 × 100 of type dbl\n",
       "\n",
       "| sprak |  1.6895074844 | -0.3049538 |  0.7992749 | -1.19430888 | -0.05998137 |  0.6480411 | -0.353177726 |  0.2854177 |  0.3527364 |  0.21527527 | ⋯ |  1.0497183 |  1.4837081 |  1.97292316 |  0.987822115 |  0.46581200 | -0.63987803 |  0.441580951 |  0.04310448 |  1.17390406 |  0.28912398 |\n",
       "| tarieven |  0.1134191379 | -0.3133795 |  1.0116490 | -0.95502204 | -0.18923515 |  2.4212852 |  0.347695023 |  2.6307766 | -0.7694862 | -0.61722642 | ⋯ |  0.1428748 | -0.9192319 |  1.11465704 | -0.179196998 |  1.53936982 |  0.34327701 |  0.430707425 |  0.29155922 |  0.20490949 |  0.14746314 |\n",
       "| gebruik |  0.2082796842 |  1.9369949 |  0.1543762 |  1.01854002 |  2.65894198 |  2.2024477 |  0.780832171 |  0.6542004 |  0.7787566 | -0.18213955 | ⋯ |  0.5589374 | -0.4375039 |  1.52190578 | -0.689588606 |  0.47653908 | -0.97079819 | -0.204285085 | -0.48810673 | -0.00346033 |  1.99237478 |\n",
       "| 30 | -0.3592257798 |  0.6148372 | -0.6816726 | -0.01972839 |  1.26008332 |  2.4771092 | -0.477232486 |  0.5160176 |  0.1214462 |  0.04689427 | ⋯ | -0.5092092 |  1.3989733 | -0.07416808 |  0.279601514 |  0.31446660 | -0.78547078 | -0.683434606 | -0.38642606 |  2.08995247 |  0.45364502 |\n",
       "| huurkoop | -1.9383014441 |  1.9777148 | -0.7506567 |  0.50910383 |  0.71064645 |  1.1432127 | -0.029393898 |  0.6665856 |  0.8242266 |  0.45940346 | ⋯ | -1.0920838 |  1.7663448 | -0.58709246 | -0.101813734 |  0.68781734 | -0.17954105 | -0.604528010 | -1.20141602 |  1.84600604 |  1.26940644 |\n",
       "| willen |  0.1815943122 |  0.3760585 |  0.7204036 | -1.43610430 | -0.06186096 |  1.2716085 | -0.505957127 |  0.8406082 |  1.0850146 | -0.85426307 | ⋯ |  1.1993363 | -0.5152828 |  0.85265219 |  0.057697829 | -0.28664151 | -0.33733347 | -0.399435490 | -1.01830900 |  0.73339587 |  0.17694303 |\n",
       "| desbetreffende |  0.8228499293 |  2.6637669 |  0.2451945 | -0.93743801 | -0.26783091 |  1.1488528 |  0.320683837 |  1.3972664 |  0.1861908 |  0.77852672 | ⋯ |  1.6453627 |  2.2142165 |  1.46010613 | -0.632818401 | -0.37192553 | -0.96936828 | -0.142626747 | -0.27714828 |  2.12108111 |  1.00297284 |\n",
       "| afkondiging |  0.8928880095 |  2.2723401 |  0.5245193 | -0.47357991 | -0.05464269 |  1.5428030 |  0.159050837 |  1.7456338 |  1.0218432 |  0.63860512 | ⋯ |  0.7020201 |  1.1809292 |  0.29988056 | -0.401873440 | -0.31395805 | -2.03503609 |  0.168372154 | -1.35371017 |  1.99417377 | -0.25728419 |\n",
       "| gewerkt | -0.2727977633 |  0.6934506 |  0.4057146 | -1.20233035 | -0.53611195 |  1.7918028 | -0.295084119 |  2.0907114 | -0.1075582 |  0.42840800 | ⋯ |  0.6633239 |  0.9614517 |  1.60967493 | -0.003441013 |  0.15196329 | -0.33089539 | -0.286553442 |  0.09344649 |  1.39818382 |  0.02799989 |\n",
       "| stukje |  1.2968661785 |  2.5409546 | -0.5085130 | -0.63394105 |  0.60670853 |  1.7961717 |  1.391381979 |  1.2619343 |  0.5206074 |  0.22453748 | ⋯ |  0.7407854 |  1.0758219 |  0.87230015 | -0.157078251 |  0.79378933 |  0.49520701 |  0.435784072 |  0.23471779 |  1.36931121 |  1.69155931 |\n",
       "| gemeenteraad |  0.5763347149 |  3.3280799 | -0.1454001 | -0.71432424 |  0.68386406 |  1.6136292 |  0.942135274 |  1.0299740 |  0.6157511 |  0.16709122 | ⋯ |  0.7526657 |  2.1862836 | -0.14218086 | -0.222233027 | -0.08487649 | -0.05140645 | -0.580581009 |  0.06847167 |  1.80929494 |  1.38462627 |\n",
       "| vlucht |  0.3725880384 |  2.1435199 | -0.6235576 | -0.43642193 |  1.07116771 |  1.3507386 |  0.573688388 |  1.7871926 |  0.9967036 |  0.43051347 | ⋯ |  0.7207535 |  0.9021819 |  0.72520560 |  0.261857033 |  0.82276738 | -0.23441190 |  0.299625099 | -1.33900654 |  1.42169106 |  1.67046821 |\n",
       "| wilt |  1.5493083000 |  2.6576238 |  0.3690809 | -1.56090498 |  0.89685059 |  1.2312015 |  0.886386752 |  1.5076964 |  2.2360954 | -0.23840694 | ⋯ |  0.9931226 |  0.7063625 |  2.06858349 | -0.833400786 |  1.30682254 | -0.12031613 |  0.698985159 | -1.03035557 |  0.33709490 |  1.49414432 |\n",
       "| argumenten |  1.4915473461 |  1.5276624 |  1.0741408 | -1.62342966 | -0.08683827 | -0.4674474 |  0.310147405 |  2.4612875 |  1.2688392 | -0.51695436 | ⋯ |  1.7799165 |  0.6300165 |  1.04336560 | -0.590974748 |  0.04318683 | -0.43130067 | -1.006394506 |  0.30200177 | -0.47447193 |  0.94908786 |\n",
       "| terug |  0.8133580089 |  2.0360780 |  0.8136109 | -1.02640152 | -0.17450748 |  1.0001317 | -0.279980242 |  1.9462745 |  1.6771837 | -0.55768490 | ⋯ | -0.4410455 | -1.8592818 |  1.02352893 |  0.249589413 |  0.76105875 |  0.33204806 | -0.897264898 | -0.31765619 | -0.38583183 |  0.47076550 |\n",
       "| aanstonds |  1.3226492405 |  2.4388030 |  0.9845515 | -0.49217048 |  0.40867853 |  1.6742558 |  0.828185022 |  0.8770901 |  1.1342547 |  0.41480112 | ⋯ |  0.3330843 |  0.9997330 |  0.44571650 | -0.081017978 | -0.30078658 | -0.06945886 | -0.433410704 |  0.86342341 |  1.18169987 |  1.14480901 |\n",
       "| laatste |  0.6536431313 |  0.9137798 |  0.2309753 | -1.13887143 | -0.83861035 |  0.1323316 |  0.678582132 |  0.6285897 |  0.9232220 |  1.24692142 | ⋯ |  0.3433167 |  0.8419452 |  1.94154203 |  1.533136010 |  0.75248057 |  0.84798485 | -0.041802913 | -0.06308054 |  1.01718235 |  1.43443680 |\n",
       "| rechterkolom | -0.2813569307 |  1.3030494 | -0.4127769 |  0.44837040 |  0.18085276 |  1.5548484 |  0.464117169 |  1.5238960 |  0.6920568 | -1.07997084 | ⋯ |  0.5989897 |  0.9499401 |  0.45435500 | -0.122282058 |  0.47908521 |  0.10916522 | -1.317876697 |  0.58042353 |  0.78147435 |  1.80373085 |\n",
       "| weer |  1.2650600672 |  1.8659981 |  1.0747868 | -2.04702449 |  0.23855892 |  1.4187531 | -0.516548693 |  3.3143353 |  0.5920128 | -0.16244768 | ⋯ |  1.1793698 |  0.3492955 |  2.07760906 |  0.128229246 |  0.96484894 |  0.32753399 |  0.206716403 | -1.08504951 | -0.87090087 |  0.83682650 |\n",
       "| beperkingen | -0.5778756738 |  1.0536649 |  0.8006212 | -1.12731707 | -0.10916074 |  1.4118832 | -0.335569024 |  0.5474648 |  1.4057019 |  0.57603586 | ⋯ | -0.1845539 |  1.1333601 |  0.42389360 | -0.332693756 | -1.07994723 | -0.11553950 | -0.518910706 |  0.79772586 |  1.13647974 |  1.44274032 |\n",
       "| 4 | -0.4716817439 |  1.1023746 | -0.8574600 |  0.53461438 |  0.38937712 |  1.4626848 |  0.005869661 |  0.6638515 |  1.1626741 | -0.96733791 | ⋯ |  0.1318980 |  0.7466898 | -0.50593573 |  0.438299477 |  0.45033127 |  0.34907731 | -1.097455144 | -0.23275062 |  1.15775204 |  1.46719885 |\n",
       "| plaatsvinden |  1.4612451792 |  1.7186282 |  0.1372257 | -0.58556265 | -0.90572649 |  0.5671372 |  1.072651625 |  1.9621540 |  0.7538905 |  0.95161968 | ⋯ |  0.4136922 |  0.6532348 | -0.37009367 |  0.381717622 |  0.12076596 | -0.41407934 | -1.082565069 | -1.20176923 |  1.38428330 |  1.56581151 |\n",
       "| wet |  1.4867053032 |  0.8420942 |  0.4604000 |  0.74989420 | -0.88436884 |  1.2520270 | -1.197207332 | -0.1101131 |  1.3409958 | -0.57822680 | ⋯ | -0.5767802 |  0.7140344 |  0.02280977 |  1.272775173 | -1.24506032 | -0.73893106 | -1.674482346 | -1.67315388 |  1.59086800 | -0.38480121 |\n",
       "| categorieã«n |  0.0003994888 |  1.8309084 | -0.3118100 | -0.73269242 | -0.12513593 |  0.8108722 |  0.953645468 |  1.4309294 | -0.6193238 |  0.60875803 | ⋯ | -0.8308735 |  1.1287361 |  0.15667357 |  0.510070086 |  0.08411678 | -0.51022136 |  0.006490601 | -1.64816415 |  2.06106615 |  1.37978387 |\n",
       "| in | -0.2041336745 |  0.2815526 | -0.6954233 |  0.24871004 |  0.30235732 |  1.6427448 |  0.938093185 |  1.0206423 | -0.3684002 |  0.16034207 | ⋯ |  0.6077635 | -0.6115836 |  1.42758214 | -0.187923625 |  1.41298783 |  0.68071157 | -0.338470519 |  0.93247986 |  0.26923168 |  0.99277371 |\n",
       "| regering |  0.2814955413 |  0.7226364 |  1.2798568 | -1.53410602 | -0.76842654 |  1.1102474 |  0.428667575 |  1.5592736 |  1.2812328 |  0.80769652 | ⋯ |  0.8977546 |  0.1409153 |  0.25958401 | -0.702126741 | -1.15779924 | -0.97129261 |  0.261602461 |  1.04539764 |  1.86413574 | -0.83485657 |\n",
       "| waarin | -0.4548277557 | -0.6271952 | -0.8072867 |  1.39946604 |  0.64994246 |  1.4280035 |  0.624550164 |  0.3990379 |  0.6420692 |  0.03328312 | ⋯ |  0.1619336 |  2.3294928 | -0.00929367 |  0.542881608 |  0.46804577 | -0.40483201 | -0.180018082 |  0.64333242 |  2.37916231 | -0.61105913 |\n",
       "| dele | -0.4184679091 |  0.8173309 |  0.9587032 | -1.58093548 |  0.43942264 |  1.8146117 |  0.601664245 |  1.8844265 |  0.4467868 |  0.80260265 | ⋯ |  0.6002490 |  0.9177978 |  0.69054765 | -0.374800771 |  0.38975582 |  0.46545455 | -0.121163741 |  0.35939908 |  0.75685483 |  1.12353504 |\n",
       "| machtiging | -0.3042625189 |  3.2910388 | -0.4591317 | -0.39020145 |  1.05911660 |  0.7089548 |  0.918583751 |  0.4251570 |  1.3077408 | -0.35666654 | ⋯ |  0.2804176 |  1.7208952 | -0.20832494 |  0.413032949 |  0.21142431 | -0.05355086 | -1.196124077 | -0.93004560 |  1.73739529 |  1.72372675 |\n",
       "| omdat |  0.9704630971 |  2.2467034 | -0.1067680 | -0.65411115 | -0.23712522 |  1.9087899 |  0.590213716 |  1.7447883 |  1.4713236 | -0.39761618 | ⋯ |  1.0270276 |  1.0806535 |  1.32490122 | -0.621141911 | -0.09435851 | -0.34940466 |  0.251185268 |  0.81809103 | -0.02582305 | -0.12632628 |\n",
       "| ⋮ | ⋮ | ⋮ | ⋮ | ⋮ | ⋮ | ⋮ | ⋮ | ⋮ | ⋮ | ⋮ | ⋱ | ⋮ | ⋮ | ⋮ | ⋮ | ⋮ | ⋮ | ⋮ | ⋮ | ⋮ | ⋮ |\n",
       "| kijkers | -0.31820855 |  1.8546709 | -0.51541734 | -1.7106713 |  0.16650280 | 1.2530636 |  3.873124e-01 | 2.315020 |  1.08204198 |  0.38323200 | ⋯ |  0.08701382 |  0.43486184 |  0.26397598 |  0.095867701 |  1.31856167 | -0.156820893 |  0.21356283 | -1.33094370 | 1.044731617 |  0.5061103 |\n",
       "| cq | -0.47931972 |  0.9878666 |  0.48735747 | -0.9128976 |  0.19259311 | 1.9037960 | -5.263489e-01 | 1.611716 |  1.09876943 |  0.20970534 | ⋯ | -0.20610932 |  0.69399887 |  0.07180115 |  0.275664806 |  0.05613890 | -0.442090899 | -0.12226637 | -0.61529970 | 1.499845147 |  0.6508808 |\n",
       "| dilemma |  0.75546843 |  2.7611735 |  1.14847207 | -1.4564794 |  0.50890124 | 2.1861446 |  1.111928e+00 | 1.398682 |  1.39133632 |  0.63913000 | ⋯ |  1.40646636 |  0.43190879 |  1.58185196 | -1.125834584 |  0.47358349 | -1.076803684 | -0.69800252 | -0.05622850 | 1.461315274 |  1.1834898 |\n",
       "| reces |  0.22192329 |  1.2140008 | -0.08972252 | -0.1714780 | -0.45345250 | 2.3653677 | -5.892551e-02 | 1.681224 |  0.62477016 | -1.05260599 | ⋯ |  0.60507131 |  0.54093868 |  1.12737548 |  0.025178567 | -0.15651029 | -0.897826254 | -0.04189505 |  0.55131924 | 0.998499990 |  0.2370302 |\n",
       "| soelaas |  0.13918692 |  2.7526915 | -0.57311016 | -0.1959895 |  0.38675097 | 2.0913749 |  1.441544e+00 | 1.291207 |  1.14126599 | -0.47498313 | ⋯ |  0.06887046 |  0.91715193 |  0.63954908 | -0.398106903 |  1.13355672 | -0.237036571 | -0.87154359 | -0.41404265 | 1.461600304 |  1.3970920 |\n",
       "| indeling |  0.39279112 |  2.3066201 |  0.65217197 | -1.0210682 |  0.22086850 | 1.4438286 |  1.148143e+00 | 2.741446 |  1.95843470 |  0.46473503 | ⋯ |  0.63114846 |  1.16531479 |  0.34125623 | -0.467212737 |  0.07908826 |  0.124790534 | -0.06622035 | -0.15545169 | 0.661477506 |  0.9659006 |\n",
       "| administraties |  0.65271026 |  3.0921769 | -0.24335812 | -1.0810848 | -0.69782263 | 1.2897565 |  9.103477e-01 | 2.078982 |  0.45020971 | -0.05666351 | ⋯ |  0.36129701 |  1.20475435 |  1.20853817 | -0.511801481 |  0.18569411 | -0.485783815 |  0.10672078 | -0.83789039 | 0.724432290 |  0.3556376 |\n",
       "| afbetalingsregeling |  0.79481930 |  2.4659884 |  1.24103463 | -0.9605960 |  1.30975902 | 1.8342144 |  4.799765e-01 | 1.201989 |  0.78066421 |  1.26713347 | ⋯ |  0.52875888 |  1.04433382 |  0.65586239 |  0.971888900 |  0.42422655 | -1.531576395 |  0.33814397 | -0.84724385 | 2.355955124 |  1.4014857 |\n",
       "| onderwijsbijdrage | -0.17816991 |  0.9904271 | -0.49588332 |  0.1396856 | -0.12117232 | 2.1476433 | -4.687544e-02 | 1.434282 |  0.01045863 | -0.99394739 | ⋯ | -0.11559957 |  0.80661875 | -0.04596450 |  0.696531892 |  0.80945385 | -0.477734834 | -0.03839044 |  0.22861509 | 1.163024783 |  0.1460826 |\n",
       "| 35 |  0.19234331 |  1.2990510 |  0.35224780 | -0.7052296 |  0.35769129 | 2.2777152 | -3.152446e-01 | 2.174794 |  0.91444367 |  0.28882277 | ⋯ |  0.32675105 |  0.99514157 |  0.38720021 | -0.094083019 |  0.16041510 | -0.091098182 |  0.67170936 |  0.51453608 | 1.310553908 |  1.4510773 |\n",
       "| oneens |  1.48478186 |  1.7187845 |  1.05472457 | -1.7218965 | -0.51604265 | 1.9998888 |  6.824517e-01 | 1.808748 |  1.51819968 | -0.17443602 | ⋯ |  1.37709534 |  0.51023519 |  1.68953443 | -0.100372769 |  0.24128109 | -0.672089994 | -0.05229897 |  0.82805282 | 0.280808002 | -0.1363491 |\n",
       "| incidenteel |  0.02406551 |  0.8354843 |  0.37020069 | -0.9315535 | -0.61082596 | 2.0679727 |  4.005925e-01 | 2.231819 |  0.63798767 |  0.26648211 | ⋯ |  0.91744655 |  1.09822142 |  0.65835249 | -0.376306295 |  0.50461358 | -0.637980103 |  0.36851591 |  0.40020981 | 1.333967447 |  0.6717649 |\n",
       "| kopenhagen | -0.34802166 |  0.8069553 | -0.52879083 | -0.9369835 | -0.13136719 | 2.5134387 |  8.313065e-01 | 2.620642 |  0.03735875 | -0.53442603 | ⋯ |  0.60316229 |  0.50475043 |  1.51731157 | -0.302484334 |  2.07124877 |  0.300693095 | -0.14472151 | -0.10541210 | 1.087455988 |  1.6528722 |\n",
       "| onmogelijkheid |  0.33398220 |  1.9361254 |  0.34460932 | -1.5264654 |  0.84658664 | 0.9721938 |  6.039611e-01 | 2.154086 |  1.55812442 |  0.08112829 | ⋯ |  0.44945437 |  0.47383001 |  0.49762389 | -0.012258852 |  0.96417964 | -0.211840391 | -0.13146672 | -1.09916818 | 1.367742300 |  1.5828654 |\n",
       "| afzienbare | -1.10236800 |  0.9826941 | -0.41826016 | -0.9680180 | -0.57111090 | 2.0117457 | -6.097465e-01 | 2.263266 |  0.93633890 | -0.53814763 | ⋯ | -0.60954821 |  0.02657958 |  0.76226974 |  0.033001155 |  0.62337351 | -1.475551486 |  0.12159722 | -1.27469814 | 0.926683784 |  0.5000724 |\n",
       "| deden |  0.55650783 |  1.8499612 |  1.22005939 | -1.4819527 | -0.15928262 | 0.6531189 | -2.441490e-01 | 2.487537 |  0.60686612 |  1.08687127 | ⋯ |  0.56259388 |  0.87066191 | -0.07869190 |  0.149923638 |  0.70303625 |  0.115867801 |  0.71684259 | -0.11934769 | 1.282594442 |  0.9807752 |\n",
       "| landgenoten |  0.72408563 |  1.9611945 |  0.87100852 | -2.1368945 |  0.80651081 | 1.3652221 |  9.153143e-01 | 1.862205 |  1.37862098 |  0.26316461 | ⋯ |  0.47123745 | -0.47104764 |  0.85586494 | -0.168651029 |  0.23274939 | -0.585099518 | -0.45095983 | -0.66071439 | 0.788897455 |  1.1258090 |\n",
       "| veronicaformule |  0.96062040 |  1.9721920 |  0.10780978 | -0.9612426 |  0.04058551 | 2.0962305 |  9.105119e-01 | 3.052279 |  1.31737173 | -0.45790169 | ⋯ |  1.48338139 |  0.08545686 |  0.62415576 | -0.351025075 | -0.52919406 | -0.656739712 |  0.21790989 |  0.02152728 | 0.800789237 |  0.2753731 |\n",
       "| zuinig |  0.79254812 |  1.7447227 |  0.88489646 | -1.8661519 | -0.08476640 | 1.8782014 |  9.682072e-01 | 1.706800 |  1.35796237 |  0.83336443 | ⋯ |  1.35579419 |  0.72688895 |  1.54953027 | -0.539655209 |  0.66186744 | -0.562279165 | -0.17684716 |  0.81180137 | 0.423579216 |  0.3556570 |\n",
       "| kamerverhoging | -0.54146427 |  1.4686495 | -1.11171925 |  0.1139729 |  0.04426470 | 1.9579463 | -4.968875e-02 | 1.350924 |  0.16040520 | -0.84407961 | ⋯ |  0.04331403 |  1.11443651 |  0.10692091 |  0.278961241 |  0.93074679 | -0.532558799 | -0.04271167 | -0.21566443 | 0.903216302 |  0.2025898 |\n",
       "| lokale |  0.43684694 |  1.0374402 |  0.76705897 | -1.4782734 | -0.26529112 | 1.9708581 |  3.039563e-01 | 2.812430 |  1.09305620 | -0.11694997 | ⋯ |  0.79485708 | -0.35565796 |  1.51807094 | -0.015833115 |  1.25326741 | -0.281322479 |  0.65088665 | -0.44239482 | 0.008289064 |  0.3439741 |\n",
       "| overgeplaatst |  0.69638902 |  0.7619874 |  1.01715267 | -1.1394073 | -0.49552131 | 1.5674306 |  5.918056e-01 | 2.764983 |  0.36128524 | -0.09148135 | ⋯ |  0.78786981 | -0.38767257 |  1.01308358 | -0.221597970 |  0.55362880 | -0.165887862 |  0.67599708 |  0.42317674 | 0.825392485 |  1.0660225 |\n",
       "| lief |  0.45852461 |  2.2639959 |  1.34989917 | -1.9210485 |  0.17847320 | 0.8850971 |  2.661419e-01 | 2.421771 |  2.20054936 |  0.22259280 | ⋯ |  1.18746758 |  0.72498572 |  0.76997256 | -0.205872282 |  0.17378569 | -0.572857261 | -0.31974441 | -0.11478014 | 0.560640574 |  0.5813744 |\n",
       "| verouderd |  0.10441342 |  2.2370572 |  0.08368732 | -1.4258622 |  0.37637126 | 1.3092222 |  3.024606e-01 | 2.169107 |  0.87677884 |  0.13245927 | ⋯ |  1.09576547 |  1.09910333 |  0.92519188 |  0.085173406 |  0.94929016 |  0.006049901 | -0.01321995 | -0.71416825 | 0.866041303 |  1.4125530 |\n",
       "| fouten |  0.08308948 |  1.4631743 |  0.60215521 | -1.8795218 | -0.02511777 | 2.0188227 | -8.623504e-05 | 1.089987 |  0.64166343 |  0.03265324 | ⋯ |  0.44420645 |  1.53120637 |  1.53003967 | -0.330933303 |  0.08511975 | -0.603650451 | -0.17050716 |  0.39811954 | 1.140112281 |  0.8282863 |\n",
       "| beleidsvoorbereiding |  0.69157010 |  0.8914108 |  1.54092062 | -1.6148713 |  0.18280762 | 2.0051777 |  6.414331e-01 | 2.215252 |  0.69328946 |  0.96956444 | ⋯ |  0.81440079 |  0.39561373 |  0.81458676 | -0.489740878 |  0.67774147 | -0.589456856 |  0.47673514 |  0.64517659 | 1.140199184 |  0.8673493 |\n",
       "| friesland | -0.02377643 |  0.3793087 |  0.77057242 | -0.4222968 | -0.41279480 | 2.6110904 |  5.332016e-01 | 2.787721 | -0.15720813 |  0.25151995 | ⋯ |  0.02306008 | -0.11042733 |  0.06773035 |  0.020731833 |  0.35679784 | -0.081945956 |  0.36093605 |  0.99069893 | 1.147270203 |  0.9235236 |\n",
       "| zeescheepvaart |  0.94096160 |  0.7255874 |  1.18398535 | -1.4494793 | -0.03760428 | 1.1779733 |  4.167903e-01 | 1.332158 | -0.04201071 |  0.37619084 | ⋯ |  0.28012878 |  0.90329182 |  0.80620515 | -0.007764224 |  0.74989474 |  0.040811550 |  0.22102599 |  0.95793253 | 1.224843264 |  1.4363594 |\n",
       "| investeringsklimaat |  0.48698521 | -0.4742367 |  1.01935053 | -1.6920604 | -0.05192250 | 0.9991694 |  6.182206e-02 | 2.223262 |  0.74993598 |  0.74122059 | ⋯ |  0.20499389 |  0.26349169 |  1.17972660 |  0.471795976 |  0.30091402 |  0.203594685 |  0.08060329 | -0.12739153 | 1.579845786 |  1.0953737 |\n",
       "| grondstoffenovereenkomsten |  1.12445343 |  1.9199166 |  1.77263522 | -1.1147400 | -0.32577872 | 1.4535446 |  5.954862e-01 | 2.598578 |  1.13633585 | -0.19943790 | ⋯ |  1.66687763 |  0.11921345 |  0.94866514 | -0.636667907 |  0.77411515 |  0.117313512 |  0.22988588 |  0.34902078 | 0.271103829 |  0.7761267 |\n",
       "\n"
      ],
      "text/plain": [
       "                           [,1]          [,2]       [,3]        [,4]       \n",
       "sprak                       1.6895074844 -0.3049538  0.7992749  -1.19430888\n",
       "tarieven                    0.1134191379 -0.3133795  1.0116490  -0.95502204\n",
       "gebruik                     0.2082796842  1.9369949  0.1543762   1.01854002\n",
       "30                         -0.3592257798  0.6148372 -0.6816726  -0.01972839\n",
       "huurkoop                   -1.9383014441  1.9777148 -0.7506567   0.50910383\n",
       "willen                      0.1815943122  0.3760585  0.7204036  -1.43610430\n",
       "desbetreffende              0.8228499293  2.6637669  0.2451945  -0.93743801\n",
       "afkondiging                 0.8928880095  2.2723401  0.5245193  -0.47357991\n",
       "gewerkt                    -0.2727977633  0.6934506  0.4057146  -1.20233035\n",
       "stukje                      1.2968661785  2.5409546 -0.5085130  -0.63394105\n",
       "gemeenteraad                0.5763347149  3.3280799 -0.1454001  -0.71432424\n",
       "vlucht                      0.3725880384  2.1435199 -0.6235576  -0.43642193\n",
       "wilt                        1.5493083000  2.6576238  0.3690809  -1.56090498\n",
       "argumenten                  1.4915473461  1.5276624  1.0741408  -1.62342966\n",
       "terug                       0.8133580089  2.0360780  0.8136109  -1.02640152\n",
       "aanstonds                   1.3226492405  2.4388030  0.9845515  -0.49217048\n",
       "laatste                     0.6536431313  0.9137798  0.2309753  -1.13887143\n",
       "rechterkolom               -0.2813569307  1.3030494 -0.4127769   0.44837040\n",
       "weer                        1.2650600672  1.8659981  1.0747868  -2.04702449\n",
       "beperkingen                -0.5778756738  1.0536649  0.8006212  -1.12731707\n",
       "4                          -0.4716817439  1.1023746 -0.8574600   0.53461438\n",
       "plaatsvinden                1.4612451792  1.7186282  0.1372257  -0.58556265\n",
       "wet                         1.4867053032  0.8420942  0.4604000   0.74989420\n",
       "categorieã«n                0.0003994888  1.8309084 -0.3118100  -0.73269242\n",
       "in                         -0.2041336745  0.2815526 -0.6954233   0.24871004\n",
       "regering                    0.2814955413  0.7226364  1.2798568  -1.53410602\n",
       "waarin                     -0.4548277557 -0.6271952 -0.8072867   1.39946604\n",
       "dele                       -0.4184679091  0.8173309  0.9587032  -1.58093548\n",
       "machtiging                 -0.3042625189  3.2910388 -0.4591317  -0.39020145\n",
       "omdat                       0.9704630971  2.2467034 -0.1067680  -0.65411115\n",
       "⋮                          ⋮             ⋮          ⋮           ⋮          \n",
       "kijkers                    -0.31820855    1.8546709 -0.51541734 -1.7106713 \n",
       "cq                         -0.47931972    0.9878666  0.48735747 -0.9128976 \n",
       "dilemma                     0.75546843    2.7611735  1.14847207 -1.4564794 \n",
       "reces                       0.22192329    1.2140008 -0.08972252 -0.1714780 \n",
       "soelaas                     0.13918692    2.7526915 -0.57311016 -0.1959895 \n",
       "indeling                    0.39279112    2.3066201  0.65217197 -1.0210682 \n",
       "administraties              0.65271026    3.0921769 -0.24335812 -1.0810848 \n",
       "afbetalingsregeling         0.79481930    2.4659884  1.24103463 -0.9605960 \n",
       "onderwijsbijdrage          -0.17816991    0.9904271 -0.49588332  0.1396856 \n",
       "35                          0.19234331    1.2990510  0.35224780 -0.7052296 \n",
       "oneens                      1.48478186    1.7187845  1.05472457 -1.7218965 \n",
       "incidenteel                 0.02406551    0.8354843  0.37020069 -0.9315535 \n",
       "kopenhagen                 -0.34802166    0.8069553 -0.52879083 -0.9369835 \n",
       "onmogelijkheid              0.33398220    1.9361254  0.34460932 -1.5264654 \n",
       "afzienbare                 -1.10236800    0.9826941 -0.41826016 -0.9680180 \n",
       "deden                       0.55650783    1.8499612  1.22005939 -1.4819527 \n",
       "landgenoten                 0.72408563    1.9611945  0.87100852 -2.1368945 \n",
       "veronicaformule             0.96062040    1.9721920  0.10780978 -0.9612426 \n",
       "zuinig                      0.79254812    1.7447227  0.88489646 -1.8661519 \n",
       "kamerverhoging             -0.54146427    1.4686495 -1.11171925  0.1139729 \n",
       "lokale                      0.43684694    1.0374402  0.76705897 -1.4782734 \n",
       "overgeplaatst               0.69638902    0.7619874  1.01715267 -1.1394073 \n",
       "lief                        0.45852461    2.2639959  1.34989917 -1.9210485 \n",
       "verouderd                   0.10441342    2.2370572  0.08368732 -1.4258622 \n",
       "fouten                      0.08308948    1.4631743  0.60215521 -1.8795218 \n",
       "beleidsvoorbereiding        0.69157010    0.8914108  1.54092062 -1.6148713 \n",
       "friesland                  -0.02377643    0.3793087  0.77057242 -0.4222968 \n",
       "zeescheepvaart              0.94096160    0.7255874  1.18398535 -1.4494793 \n",
       "investeringsklimaat         0.48698521   -0.4742367  1.01935053 -1.6920604 \n",
       "grondstoffenovereenkomsten  1.12445343    1.9199166  1.77263522 -1.1147400 \n",
       "                           [,5]        [,6]       [,7]          [,8]      \n",
       "sprak                      -0.05998137  0.6480411 -0.353177726   0.2854177\n",
       "tarieven                   -0.18923515  2.4212852  0.347695023   2.6307766\n",
       "gebruik                     2.65894198  2.2024477  0.780832171   0.6542004\n",
       "30                          1.26008332  2.4771092 -0.477232486   0.5160176\n",
       "huurkoop                    0.71064645  1.1432127 -0.029393898   0.6665856\n",
       "willen                     -0.06186096  1.2716085 -0.505957127   0.8406082\n",
       "desbetreffende             -0.26783091  1.1488528  0.320683837   1.3972664\n",
       "afkondiging                -0.05464269  1.5428030  0.159050837   1.7456338\n",
       "gewerkt                    -0.53611195  1.7918028 -0.295084119   2.0907114\n",
       "stukje                      0.60670853  1.7961717  1.391381979   1.2619343\n",
       "gemeenteraad                0.68386406  1.6136292  0.942135274   1.0299740\n",
       "vlucht                      1.07116771  1.3507386  0.573688388   1.7871926\n",
       "wilt                        0.89685059  1.2312015  0.886386752   1.5076964\n",
       "argumenten                 -0.08683827 -0.4674474  0.310147405   2.4612875\n",
       "terug                      -0.17450748  1.0001317 -0.279980242   1.9462745\n",
       "aanstonds                   0.40867853  1.6742558  0.828185022   0.8770901\n",
       "laatste                    -0.83861035  0.1323316  0.678582132   0.6285897\n",
       "rechterkolom                0.18085276  1.5548484  0.464117169   1.5238960\n",
       "weer                        0.23855892  1.4187531 -0.516548693   3.3143353\n",
       "beperkingen                -0.10916074  1.4118832 -0.335569024   0.5474648\n",
       "4                           0.38937712  1.4626848  0.005869661   0.6638515\n",
       "plaatsvinden               -0.90572649  0.5671372  1.072651625   1.9621540\n",
       "wet                        -0.88436884  1.2520270 -1.197207332  -0.1101131\n",
       "categorieã«n               -0.12513593  0.8108722  0.953645468   1.4309294\n",
       "in                          0.30235732  1.6427448  0.938093185   1.0206423\n",
       "regering                   -0.76842654  1.1102474  0.428667575   1.5592736\n",
       "waarin                      0.64994246  1.4280035  0.624550164   0.3990379\n",
       "dele                        0.43942264  1.8146117  0.601664245   1.8844265\n",
       "machtiging                  1.05911660  0.7089548  0.918583751   0.4251570\n",
       "omdat                      -0.23712522  1.9087899  0.590213716   1.7447883\n",
       "⋮                          ⋮           ⋮          ⋮             ⋮         \n",
       "kijkers                     0.16650280 1.2530636   3.873124e-01 2.315020  \n",
       "cq                          0.19259311 1.9037960  -5.263489e-01 1.611716  \n",
       "dilemma                     0.50890124 2.1861446   1.111928e+00 1.398682  \n",
       "reces                      -0.45345250 2.3653677  -5.892551e-02 1.681224  \n",
       "soelaas                     0.38675097 2.0913749   1.441544e+00 1.291207  \n",
       "indeling                    0.22086850 1.4438286   1.148143e+00 2.741446  \n",
       "administraties             -0.69782263 1.2897565   9.103477e-01 2.078982  \n",
       "afbetalingsregeling         1.30975902 1.8342144   4.799765e-01 1.201989  \n",
       "onderwijsbijdrage          -0.12117232 2.1476433  -4.687544e-02 1.434282  \n",
       "35                          0.35769129 2.2777152  -3.152446e-01 2.174794  \n",
       "oneens                     -0.51604265 1.9998888   6.824517e-01 1.808748  \n",
       "incidenteel                -0.61082596 2.0679727   4.005925e-01 2.231819  \n",
       "kopenhagen                 -0.13136719 2.5134387   8.313065e-01 2.620642  \n",
       "onmogelijkheid              0.84658664 0.9721938   6.039611e-01 2.154086  \n",
       "afzienbare                 -0.57111090 2.0117457  -6.097465e-01 2.263266  \n",
       "deden                      -0.15928262 0.6531189  -2.441490e-01 2.487537  \n",
       "landgenoten                 0.80651081 1.3652221   9.153143e-01 1.862205  \n",
       "veronicaformule             0.04058551 2.0962305   9.105119e-01 3.052279  \n",
       "zuinig                     -0.08476640 1.8782014   9.682072e-01 1.706800  \n",
       "kamerverhoging              0.04426470 1.9579463  -4.968875e-02 1.350924  \n",
       "lokale                     -0.26529112 1.9708581   3.039563e-01 2.812430  \n",
       "overgeplaatst              -0.49552131 1.5674306   5.918056e-01 2.764983  \n",
       "lief                        0.17847320 0.8850971   2.661419e-01 2.421771  \n",
       "verouderd                   0.37637126 1.3092222   3.024606e-01 2.169107  \n",
       "fouten                     -0.02511777 2.0188227  -8.623504e-05 1.089987  \n",
       "beleidsvoorbereiding        0.18280762 2.0051777   6.414331e-01 2.215252  \n",
       "friesland                  -0.41279480 2.6110904   5.332016e-01 2.787721  \n",
       "zeescheepvaart             -0.03760428 1.1779733   4.167903e-01 1.332158  \n",
       "investeringsklimaat        -0.05192250 0.9991694   6.182206e-02 2.223262  \n",
       "grondstoffenovereenkomsten -0.32577872 1.4535446   5.954862e-01 2.598578  \n",
       "                           [,9]        [,10]       [,11] [,12]      \n",
       "sprak                       0.3527364   0.21527527 ⋯      1.0497183 \n",
       "tarieven                   -0.7694862  -0.61722642 ⋯      0.1428748 \n",
       "gebruik                     0.7787566  -0.18213955 ⋯      0.5589374 \n",
       "30                          0.1214462   0.04689427 ⋯     -0.5092092 \n",
       "huurkoop                    0.8242266   0.45940346 ⋯     -1.0920838 \n",
       "willen                      1.0850146  -0.85426307 ⋯      1.1993363 \n",
       "desbetreffende              0.1861908   0.77852672 ⋯      1.6453627 \n",
       "afkondiging                 1.0218432   0.63860512 ⋯      0.7020201 \n",
       "gewerkt                    -0.1075582   0.42840800 ⋯      0.6633239 \n",
       "stukje                      0.5206074   0.22453748 ⋯      0.7407854 \n",
       "gemeenteraad                0.6157511   0.16709122 ⋯      0.7526657 \n",
       "vlucht                      0.9967036   0.43051347 ⋯      0.7207535 \n",
       "wilt                        2.2360954  -0.23840694 ⋯      0.9931226 \n",
       "argumenten                  1.2688392  -0.51695436 ⋯      1.7799165 \n",
       "terug                       1.6771837  -0.55768490 ⋯     -0.4410455 \n",
       "aanstonds                   1.1342547   0.41480112 ⋯      0.3330843 \n",
       "laatste                     0.9232220   1.24692142 ⋯      0.3433167 \n",
       "rechterkolom                0.6920568  -1.07997084 ⋯      0.5989897 \n",
       "weer                        0.5920128  -0.16244768 ⋯      1.1793698 \n",
       "beperkingen                 1.4057019   0.57603586 ⋯     -0.1845539 \n",
       "4                           1.1626741  -0.96733791 ⋯      0.1318980 \n",
       "plaatsvinden                0.7538905   0.95161968 ⋯      0.4136922 \n",
       "wet                         1.3409958  -0.57822680 ⋯     -0.5767802 \n",
       "categorieã«n               -0.6193238   0.60875803 ⋯     -0.8308735 \n",
       "in                         -0.3684002   0.16034207 ⋯      0.6077635 \n",
       "regering                    1.2812328   0.80769652 ⋯      0.8977546 \n",
       "waarin                      0.6420692   0.03328312 ⋯      0.1619336 \n",
       "dele                        0.4467868   0.80260265 ⋯      0.6002490 \n",
       "machtiging                  1.3077408  -0.35666654 ⋯      0.2804176 \n",
       "omdat                       1.4713236  -0.39761618 ⋯      1.0270276 \n",
       "⋮                          ⋮           ⋮           ⋱     ⋮          \n",
       "kijkers                     1.08204198  0.38323200 ⋯      0.08701382\n",
       "cq                          1.09876943  0.20970534 ⋯     -0.20610932\n",
       "dilemma                     1.39133632  0.63913000 ⋯      1.40646636\n",
       "reces                       0.62477016 -1.05260599 ⋯      0.60507131\n",
       "soelaas                     1.14126599 -0.47498313 ⋯      0.06887046\n",
       "indeling                    1.95843470  0.46473503 ⋯      0.63114846\n",
       "administraties              0.45020971 -0.05666351 ⋯      0.36129701\n",
       "afbetalingsregeling         0.78066421  1.26713347 ⋯      0.52875888\n",
       "onderwijsbijdrage           0.01045863 -0.99394739 ⋯     -0.11559957\n",
       "35                          0.91444367  0.28882277 ⋯      0.32675105\n",
       "oneens                      1.51819968 -0.17443602 ⋯      1.37709534\n",
       "incidenteel                 0.63798767  0.26648211 ⋯      0.91744655\n",
       "kopenhagen                  0.03735875 -0.53442603 ⋯      0.60316229\n",
       "onmogelijkheid              1.55812442  0.08112829 ⋯      0.44945437\n",
       "afzienbare                  0.93633890 -0.53814763 ⋯     -0.60954821\n",
       "deden                       0.60686612  1.08687127 ⋯      0.56259388\n",
       "landgenoten                 1.37862098  0.26316461 ⋯      0.47123745\n",
       "veronicaformule             1.31737173 -0.45790169 ⋯      1.48338139\n",
       "zuinig                      1.35796237  0.83336443 ⋯      1.35579419\n",
       "kamerverhoging              0.16040520 -0.84407961 ⋯      0.04331403\n",
       "lokale                      1.09305620 -0.11694997 ⋯      0.79485708\n",
       "overgeplaatst               0.36128524 -0.09148135 ⋯      0.78786981\n",
       "lief                        2.20054936  0.22259280 ⋯      1.18746758\n",
       "verouderd                   0.87677884  0.13245927 ⋯      1.09576547\n",
       "fouten                      0.64166343  0.03265324 ⋯      0.44420645\n",
       "beleidsvoorbereiding        0.69328946  0.96956444 ⋯      0.81440079\n",
       "friesland                  -0.15720813  0.25151995 ⋯      0.02306008\n",
       "zeescheepvaart             -0.04201071  0.37619084 ⋯      0.28012878\n",
       "investeringsklimaat         0.74993598  0.74122059 ⋯      0.20499389\n",
       "grondstoffenovereenkomsten  1.13633585 -0.19943790 ⋯      1.66687763\n",
       "                           [,13]       [,14]       [,15]        [,16]      \n",
       "sprak                       1.4837081   1.97292316  0.987822115  0.46581200\n",
       "tarieven                   -0.9192319   1.11465704 -0.179196998  1.53936982\n",
       "gebruik                    -0.4375039   1.52190578 -0.689588606  0.47653908\n",
       "30                          1.3989733  -0.07416808  0.279601514  0.31446660\n",
       "huurkoop                    1.7663448  -0.58709246 -0.101813734  0.68781734\n",
       "willen                     -0.5152828   0.85265219  0.057697829 -0.28664151\n",
       "desbetreffende              2.2142165   1.46010613 -0.632818401 -0.37192553\n",
       "afkondiging                 1.1809292   0.29988056 -0.401873440 -0.31395805\n",
       "gewerkt                     0.9614517   1.60967493 -0.003441013  0.15196329\n",
       "stukje                      1.0758219   0.87230015 -0.157078251  0.79378933\n",
       "gemeenteraad                2.1862836  -0.14218086 -0.222233027 -0.08487649\n",
       "vlucht                      0.9021819   0.72520560  0.261857033  0.82276738\n",
       "wilt                        0.7063625   2.06858349 -0.833400786  1.30682254\n",
       "argumenten                  0.6300165   1.04336560 -0.590974748  0.04318683\n",
       "terug                      -1.8592818   1.02352893  0.249589413  0.76105875\n",
       "aanstonds                   0.9997330   0.44571650 -0.081017978 -0.30078658\n",
       "laatste                     0.8419452   1.94154203  1.533136010  0.75248057\n",
       "rechterkolom                0.9499401   0.45435500 -0.122282058  0.47908521\n",
       "weer                        0.3492955   2.07760906  0.128229246  0.96484894\n",
       "beperkingen                 1.1333601   0.42389360 -0.332693756 -1.07994723\n",
       "4                           0.7466898  -0.50593573  0.438299477  0.45033127\n",
       "plaatsvinden                0.6532348  -0.37009367  0.381717622  0.12076596\n",
       "wet                         0.7140344   0.02280977  1.272775173 -1.24506032\n",
       "categorieã«n                1.1287361   0.15667357  0.510070086  0.08411678\n",
       "in                         -0.6115836   1.42758214 -0.187923625  1.41298783\n",
       "regering                    0.1409153   0.25958401 -0.702126741 -1.15779924\n",
       "waarin                      2.3294928  -0.00929367  0.542881608  0.46804577\n",
       "dele                        0.9177978   0.69054765 -0.374800771  0.38975582\n",
       "machtiging                  1.7208952  -0.20832494  0.413032949  0.21142431\n",
       "omdat                       1.0806535   1.32490122 -0.621141911 -0.09435851\n",
       "⋮                          ⋮           ⋮           ⋮            ⋮          \n",
       "kijkers                     0.43486184  0.26397598  0.095867701  1.31856167\n",
       "cq                          0.69399887  0.07180115  0.275664806  0.05613890\n",
       "dilemma                     0.43190879  1.58185196 -1.125834584  0.47358349\n",
       "reces                       0.54093868  1.12737548  0.025178567 -0.15651029\n",
       "soelaas                     0.91715193  0.63954908 -0.398106903  1.13355672\n",
       "indeling                    1.16531479  0.34125623 -0.467212737  0.07908826\n",
       "administraties              1.20475435  1.20853817 -0.511801481  0.18569411\n",
       "afbetalingsregeling         1.04433382  0.65586239  0.971888900  0.42422655\n",
       "onderwijsbijdrage           0.80661875 -0.04596450  0.696531892  0.80945385\n",
       "35                          0.99514157  0.38720021 -0.094083019  0.16041510\n",
       "oneens                      0.51023519  1.68953443 -0.100372769  0.24128109\n",
       "incidenteel                 1.09822142  0.65835249 -0.376306295  0.50461358\n",
       "kopenhagen                  0.50475043  1.51731157 -0.302484334  2.07124877\n",
       "onmogelijkheid              0.47383001  0.49762389 -0.012258852  0.96417964\n",
       "afzienbare                  0.02657958  0.76226974  0.033001155  0.62337351\n",
       "deden                       0.87066191 -0.07869190  0.149923638  0.70303625\n",
       "landgenoten                -0.47104764  0.85586494 -0.168651029  0.23274939\n",
       "veronicaformule             0.08545686  0.62415576 -0.351025075 -0.52919406\n",
       "zuinig                      0.72688895  1.54953027 -0.539655209  0.66186744\n",
       "kamerverhoging              1.11443651  0.10692091  0.278961241  0.93074679\n",
       "lokale                     -0.35565796  1.51807094 -0.015833115  1.25326741\n",
       "overgeplaatst              -0.38767257  1.01308358 -0.221597970  0.55362880\n",
       "lief                        0.72498572  0.76997256 -0.205872282  0.17378569\n",
       "verouderd                   1.09910333  0.92519188  0.085173406  0.94929016\n",
       "fouten                      1.53120637  1.53003967 -0.330933303  0.08511975\n",
       "beleidsvoorbereiding        0.39561373  0.81458676 -0.489740878  0.67774147\n",
       "friesland                  -0.11042733  0.06773035  0.020731833  0.35679784\n",
       "zeescheepvaart              0.90329182  0.80620515 -0.007764224  0.74989474\n",
       "investeringsklimaat         0.26349169  1.17972660  0.471795976  0.30091402\n",
       "grondstoffenovereenkomsten  0.11921345  0.94866514 -0.636667907  0.77411515\n",
       "                           [,17]        [,18]        [,19]       [,20]      \n",
       "sprak                      -0.63987803   0.441580951  0.04310448  1.17390406\n",
       "tarieven                    0.34327701   0.430707425  0.29155922  0.20490949\n",
       "gebruik                    -0.97079819  -0.204285085 -0.48810673 -0.00346033\n",
       "30                         -0.78547078  -0.683434606 -0.38642606  2.08995247\n",
       "huurkoop                   -0.17954105  -0.604528010 -1.20141602  1.84600604\n",
       "willen                     -0.33733347  -0.399435490 -1.01830900  0.73339587\n",
       "desbetreffende             -0.96936828  -0.142626747 -0.27714828  2.12108111\n",
       "afkondiging                -2.03503609   0.168372154 -1.35371017  1.99417377\n",
       "gewerkt                    -0.33089539  -0.286553442  0.09344649  1.39818382\n",
       "stukje                      0.49520701   0.435784072  0.23471779  1.36931121\n",
       "gemeenteraad               -0.05140645  -0.580581009  0.06847167  1.80929494\n",
       "vlucht                     -0.23441190   0.299625099 -1.33900654  1.42169106\n",
       "wilt                       -0.12031613   0.698985159 -1.03035557  0.33709490\n",
       "argumenten                 -0.43130067  -1.006394506  0.30200177 -0.47447193\n",
       "terug                       0.33204806  -0.897264898 -0.31765619 -0.38583183\n",
       "aanstonds                  -0.06945886  -0.433410704  0.86342341  1.18169987\n",
       "laatste                     0.84798485  -0.041802913 -0.06308054  1.01718235\n",
       "rechterkolom                0.10916522  -1.317876697  0.58042353  0.78147435\n",
       "weer                        0.32753399   0.206716403 -1.08504951 -0.87090087\n",
       "beperkingen                -0.11553950  -0.518910706  0.79772586  1.13647974\n",
       "4                           0.34907731  -1.097455144 -0.23275062  1.15775204\n",
       "plaatsvinden               -0.41407934  -1.082565069 -1.20176923  1.38428330\n",
       "wet                        -0.73893106  -1.674482346 -1.67315388  1.59086800\n",
       "categorieã«n               -0.51022136   0.006490601 -1.64816415  2.06106615\n",
       "in                          0.68071157  -0.338470519  0.93247986  0.26923168\n",
       "regering                   -0.97129261   0.261602461  1.04539764  1.86413574\n",
       "waarin                     -0.40483201  -0.180018082  0.64333242  2.37916231\n",
       "dele                        0.46545455  -0.121163741  0.35939908  0.75685483\n",
       "machtiging                 -0.05355086  -1.196124077 -0.93004560  1.73739529\n",
       "omdat                      -0.34940466   0.251185268  0.81809103 -0.02582305\n",
       "⋮                          ⋮            ⋮            ⋮           ⋮          \n",
       "kijkers                    -0.156820893  0.21356283  -1.33094370 1.044731617\n",
       "cq                         -0.442090899 -0.12226637  -0.61529970 1.499845147\n",
       "dilemma                    -1.076803684 -0.69800252  -0.05622850 1.461315274\n",
       "reces                      -0.897826254 -0.04189505   0.55131924 0.998499990\n",
       "soelaas                    -0.237036571 -0.87154359  -0.41404265 1.461600304\n",
       "indeling                    0.124790534 -0.06622035  -0.15545169 0.661477506\n",
       "administraties             -0.485783815  0.10672078  -0.83789039 0.724432290\n",
       "afbetalingsregeling        -1.531576395  0.33814397  -0.84724385 2.355955124\n",
       "onderwijsbijdrage          -0.477734834 -0.03839044   0.22861509 1.163024783\n",
       "35                         -0.091098182  0.67170936   0.51453608 1.310553908\n",
       "oneens                     -0.672089994 -0.05229897   0.82805282 0.280808002\n",
       "incidenteel                -0.637980103  0.36851591   0.40020981 1.333967447\n",
       "kopenhagen                  0.300693095 -0.14472151  -0.10541210 1.087455988\n",
       "onmogelijkheid             -0.211840391 -0.13146672  -1.09916818 1.367742300\n",
       "afzienbare                 -1.475551486  0.12159722  -1.27469814 0.926683784\n",
       "deden                       0.115867801  0.71684259  -0.11934769 1.282594442\n",
       "landgenoten                -0.585099518 -0.45095983  -0.66071439 0.788897455\n",
       "veronicaformule            -0.656739712  0.21790989   0.02152728 0.800789237\n",
       "zuinig                     -0.562279165 -0.17684716   0.81180137 0.423579216\n",
       "kamerverhoging             -0.532558799 -0.04271167  -0.21566443 0.903216302\n",
       "lokale                     -0.281322479  0.65088665  -0.44239482 0.008289064\n",
       "overgeplaatst              -0.165887862  0.67599708   0.42317674 0.825392485\n",
       "lief                       -0.572857261 -0.31974441  -0.11478014 0.560640574\n",
       "verouderd                   0.006049901 -0.01321995  -0.71416825 0.866041303\n",
       "fouten                     -0.603650451 -0.17050716   0.39811954 1.140112281\n",
       "beleidsvoorbereiding       -0.589456856  0.47673514   0.64517659 1.140199184\n",
       "friesland                  -0.081945956  0.36093605   0.99069893 1.147270203\n",
       "zeescheepvaart              0.040811550  0.22102599   0.95793253 1.224843264\n",
       "investeringsklimaat         0.203594685  0.08060329  -0.12739153 1.579845786\n",
       "grondstoffenovereenkomsten  0.117313512  0.22988588   0.34902078 0.271103829\n",
       "                           [,21]      \n",
       "sprak                       0.28912398\n",
       "tarieven                    0.14746314\n",
       "gebruik                     1.99237478\n",
       "30                          0.45364502\n",
       "huurkoop                    1.26940644\n",
       "willen                      0.17694303\n",
       "desbetreffende              1.00297284\n",
       "afkondiging                -0.25728419\n",
       "gewerkt                     0.02799989\n",
       "stukje                      1.69155931\n",
       "gemeenteraad                1.38462627\n",
       "vlucht                      1.67046821\n",
       "wilt                        1.49414432\n",
       "argumenten                  0.94908786\n",
       "terug                       0.47076550\n",
       "aanstonds                   1.14480901\n",
       "laatste                     1.43443680\n",
       "rechterkolom                1.80373085\n",
       "weer                        0.83682650\n",
       "beperkingen                 1.44274032\n",
       "4                           1.46719885\n",
       "plaatsvinden                1.56581151\n",
       "wet                        -0.38480121\n",
       "categorieã«n                1.37978387\n",
       "in                          0.99277371\n",
       "regering                   -0.83485657\n",
       "waarin                     -0.61105913\n",
       "dele                        1.12353504\n",
       "machtiging                  1.72372675\n",
       "omdat                      -0.12632628\n",
       "⋮                          ⋮          \n",
       "kijkers                     0.5061103 \n",
       "cq                          0.6508808 \n",
       "dilemma                     1.1834898 \n",
       "reces                       0.2370302 \n",
       "soelaas                     1.3970920 \n",
       "indeling                    0.9659006 \n",
       "administraties              0.3556376 \n",
       "afbetalingsregeling         1.4014857 \n",
       "onderwijsbijdrage           0.1460826 \n",
       "35                          1.4510773 \n",
       "oneens                     -0.1363491 \n",
       "incidenteel                 0.6717649 \n",
       "kopenhagen                  1.6528722 \n",
       "onmogelijkheid              1.5828654 \n",
       "afzienbare                  0.5000724 \n",
       "deden                       0.9807752 \n",
       "landgenoten                 1.1258090 \n",
       "veronicaformule             0.2753731 \n",
       "zuinig                      0.3556570 \n",
       "kamerverhoging              0.2025898 \n",
       "lokale                      0.3439741 \n",
       "overgeplaatst               1.0660225 \n",
       "lief                        0.5813744 \n",
       "verouderd                   1.4125530 \n",
       "fouten                      0.8282863 \n",
       "beleidsvoorbereiding        0.8673493 \n",
       "friesland                   0.9235236 \n",
       "zeescheepvaart              1.4363594 \n",
       "investeringsklimaat         1.0953737 \n",
       "grondstoffenovereenkomsten  0.7761267 "
      ]
     },
     "metadata": {},
     "output_type": "display_data"
    }
   ],
   "source": [
    "emb.vvd.7075"
   ]
  },
  {
   "cell_type": "markdown",
   "metadata": {},
   "source": [
    "PvdA"
   ]
  },
  {
   "cell_type": "code",
   "execution_count": 13,
   "metadata": {},
   "outputs": [],
   "source": [
    "# Subset specific year, set as character vector to serve as input for word2vec package\n",
    "files2 %>%\n",
    "  filter(str_detect(doc_id, \"pvda\")) -> pvda.7075"
   ]
  },
  {
   "cell_type": "code",
   "execution_count": 14,
   "metadata": {},
   "outputs": [],
   "source": [
    "# set as character\n",
    "pvda.7075 <- as.character(pvda.7075$text)"
   ]
  },
  {
   "cell_type": "code",
   "execution_count": 15,
   "metadata": {},
   "outputs": [
    {
     "name": "stderr",
     "output_type": "stream",
     "text": [
      "Warning message in writeLines(text = x, con = filehandle_train):\n",
      "“chaîne de caractères incorrecte dans la conversion de la sortie”\n",
      "Warning message in writeLines(text = x, con = filehandle_train):\n",
      "“chaîne de caractères incorrecte dans la conversion de la sortie”\n",
      "Warning message in writeLines(text = x, con = filehandle_train):\n",
      "“chaîne de caractères incorrecte dans la conversion de la sortie”\n",
      "Warning message in writeLines(text = x, con = filehandle_train):\n",
      "“chaîne de caractères incorrecte dans la conversion de la sortie”\n"
     ]
    }
   ],
   "source": [
    "# train model train word2vec\n",
    "model.pvda.7075 <- word2vec(x = pvda.7075, min_count = 5, threads = 4, type = \"skip-gram\",\n",
    "    dim = 100)"
   ]
  },
  {
   "cell_type": "code",
   "execution_count": 16,
   "metadata": {},
   "outputs": [],
   "source": [
    "# create matrix\n",
    "emb.pvda.7075 <- as.matrix(model.pvda.7075)"
   ]
  },
  {
   "cell_type": "code",
   "execution_count": 17,
   "metadata": {},
   "outputs": [],
   "source": [
    "# CDA\n",
    "# Subset specific year, set as character vector to serve as input for word2vec package\n",
    "files2 %>%\n",
    "  filter(str_detect(doc_id, \"cda\")) -> cda.7075"
   ]
  },
  {
   "cell_type": "code",
   "execution_count": 18,
   "metadata": {},
   "outputs": [],
   "source": [
    "# set as character\n",
    "cda.7075 <- as.character(cda.7075$text)"
   ]
  },
  {
   "cell_type": "code",
   "execution_count": 19,
   "metadata": {},
   "outputs": [],
   "source": [
    "# train model train word2vec\n",
    "model.cda.7075 <- word2vec(x = cda.7075, min_count = 5, threads = 4, type = \"skip-gram\",\n",
    "    dim = 100)"
   ]
  },
  {
   "cell_type": "code",
   "execution_count": 20,
   "metadata": {},
   "outputs": [],
   "source": [
    "# create matrix\n",
    "emb.cda.7075 <- as.matrix(model.cda.7075)"
   ]
  },
  {
   "cell_type": "markdown",
   "metadata": {},
   "source": [
    "Training complete, go to analysis in next script 2_analyse_plot_7075_parties.R (see below)"
   ]
  },
  {
   "cell_type": "markdown",
   "metadata": {},
   "source": [
    "Script 2 \n",
    "This script analyses and plots the data prepared in 1_load_train.R\n",
    "Dialects of Discord, Milan van Lange and Ralf Futselaar, 2021"
   ]
  },
  {
   "cell_type": "markdown",
   "metadata": {},
   "source": [
    "Create variables per party ----------------------------------------------------------------"
   ]
  },
  {
   "cell_type": "code",
   "execution_count": 13,
   "metadata": {},
   "outputs": [],
   "source": [
    "# Create the word lists (they are generic as they are not party-specific)\n",
    "words.weapon <- c(\"kernwapen\", \"kernwapens\", \"atoomwapen\", \"atoomwapens\", \"kruisraket\",\n",
    "    \"kruisraketten\", \"kruisvluchtwapen\", \"kruisvluchtwapens\", \"lanceraket\", \"lanceraketten\",\n",
    "    \"navokernwapen\", \"navokernwapens\")\n",
    "words.prol <- c(\"afschrikking\", \"tactischnucleaire\", \"proliferatieverdrag\", \"strategischnucleaire\",\n",
    "    \"proliferatie\", \"afschrikkingsevenwicht\", \"afschrikkingsstrategie\", \"atoomparaplu\",\n",
    "    \"waarborgenstelsel\", \"kernwapenstrategie\", \"afschrikwekkende\", \"afschrikkingstheorie\",\n",
    "    \"deterrent\", \"afschrikkingsfunctie\", \"afschrikkingspolitiek\", \"afschrikkingsrol\",\n",
    "    \"afschrikkingswapen\", \"afschrikkingswapens\", \"afschrikkingsmacht\")\n",
    "words.nonprol <- c(\"ontwapening\", \"nonproliferatieverdrag\", \"kernwapenvrije\", \"kernwapenvrij\",\n",
    "    \"denuclearisatie\", \"atoomvrije\", \"nonproliferatie\", \"wapenbeperking\", \"wapenbeheersingsbesprekingen\",\n",
    "    \"ontwapeningsbesprekingen\", \"kernstop\", \"ontwapeningsoverleg\", \"denuclearisering\",\n",
    "    \"atoomvrij\", \"gedenucleariseerd\", \"wapenbeheersing\", \"ontwapeningsonderhandelingen\",\n",
    "    \"wapenbeheersingsonderhandelingen\", \"wapenvermindering\")"
   ]
  },
  {
   "cell_type": "code",
   "execution_count": 25,
   "metadata": {},
   "outputs": [],
   "source": [
    "# CPN Create 'kernwapen' vector\n",
    "wv.cpn <- predict(model.cpn.7075, newdata = words.weapon, type = \"embedding\")\n",
    "wv.cpn <- na.omit(wv.cpn)\n",
    "comb.wv.cpn <- colMeans(wv.cpn)  # this seems to work good, but there is an alternative approach: comb.wv <- wv['kernwapen', ] + wv['kernwapens', ]  + wv['atoomwapens', ] + wv['atoomwapen', ] #+ wv['kruisraket', ] + wv['kruisraketten', ] + wv['kruisvluchtwapen', ]+ wv['kruisvluchtwapens', ]"
   ]
  },
  {
   "cell_type": "code",
   "execution_count": 26,
   "metadata": {},
   "outputs": [],
   "source": [
    "# Extract 100 nearest neighbours from 'kernwapen' in vector space\n",
    "nns_wv.cpn <- predict(model.cpn.7075, newdata = comb.wv.cpn, type = \"nearest\", top_n = 100)\n",
    "vecs_nns_nuc.100.cpn <- emb.cpn.7075[nns_wv.cpn$term, ]"
   ]
  },
  {
   "cell_type": "code",
   "execution_count": 27,
   "metadata": {},
   "outputs": [],
   "source": [
    "# Create 'proliferation' vector\n",
    "pv.cpn <- predict(model.cpn.7075, newdata = words.prol, type = \"embedding\")\n",
    "pv.cpn <- na.omit(pv.cpn)\n",
    "comb.pv.cpn <- colMeans(pv.cpn) "
   ]
  },
  {
   "cell_type": "code",
   "execution_count": 28,
   "metadata": {},
   "outputs": [],
   "source": [
    "# Create 'non-proliferation' vector\n",
    "nv.cpn <- predict(model.cpn.7075, newdata = words.nonprol, type = \"embedding\")\n",
    "nv.cpn <- na.omit(nv.cpn)\n",
    "comb.nv.cpn <- colMeans(nv.cpn) "
   ]
  },
  {
   "cell_type": "markdown",
   "metadata": {},
   "source": [
    "Calculate distance (cosine similarity) to plot results  ---------------------------------"
   ]
  },
  {
   "cell_type": "code",
   "execution_count": 29,
   "metadata": {},
   "outputs": [],
   "source": [
    "# Create scores for plotting by comparing vectors of 'kernwapen' and viewpoints\n",
    "score_prol.cpn <- as.data.frame(word2vec_similarity(vecs_nns_nuc.100.cpn, comb.pv.cpn))\n",
    "score_nonprol.cpn <- as.data.frame(word2vec_similarity(vecs_nns_nuc.100.cpn, comb.nv.cpn))"
   ]
  },
  {
   "cell_type": "code",
   "execution_count": 14,
   "metadata": {},
   "outputs": [],
   "source": [
    "# VVD Create 'kernwapen' vector\n",
    "wv.vvd <- predict(model.vvd.7075, newdata = words.weapon, type = \"embedding\")\n",
    "wv.vvd <- na.omit(wv.vvd)\n",
    "comb.wv.vvd <- colMeans(wv.vvd)  # this seems to work good, but there is an alternative approach: comb.wv <- wv['kernwapen', ] + wv['kernwapens', ]  + wv['atoomwapens', ] + wv['atoomwapen', ] #+ wv['kruisraket', ] + wv['kruisraketten', ] + wv['kruisvluchtwapen', ]+ wv['kruisvluchtwapens', ]"
   ]
  },
  {
   "cell_type": "code",
   "execution_count": 23,
   "metadata": {},
   "outputs": [
    {
     "data": {
      "text/html": [
       "<table class=\"dataframe\">\n",
       "<caption>A data.frame: 0 × 3</caption>\n",
       "<thead>\n",
       "\t<tr><th scope=col>term</th><th scope=col>similarity</th><th scope=col>rank</th></tr>\n",
       "\t<tr><th scope=col>&lt;chr&gt;</th><th scope=col>&lt;dbl&gt;</th><th scope=col>&lt;int&gt;</th></tr>\n",
       "</thead>\n",
       "<tbody>\n",
       "</tbody>\n",
       "</table>\n"
      ],
      "text/latex": [
       "A data.frame: 0 × 3\n",
       "\\begin{tabular}{lll}\n",
       " term & similarity & rank\\\\\n",
       " <chr> & <dbl> & <int>\\\\\n",
       "\\hline\n",
       "\\end{tabular}\n"
      ],
      "text/markdown": [
       "\n",
       "A data.frame: 0 × 3\n",
       "\n",
       "| term &lt;chr&gt; | similarity &lt;dbl&gt; | rank &lt;int&gt; |\n",
       "|---|---|---|\n",
       "\n"
      ],
      "text/plain": [
       "     term similarity rank"
      ]
     },
     "metadata": {},
     "output_type": "display_data"
    }
   ],
   "source": [
    "nns_wv.vvd"
   ]
  },
  {
   "cell_type": "code",
   "execution_count": 30,
   "metadata": {},
   "outputs": [
    {
     "data": {
      "text/html": [
       "<table class=\"dataframe\">\n",
       "<caption>A data.frame: 100 × 3</caption>\n",
       "<thead>\n",
       "\t<tr><th scope=col>term</th><th scope=col>similarity</th><th scope=col>rank</th></tr>\n",
       "\t<tr><th scope=col>&lt;chr&gt;</th><th scope=col>&lt;dbl&gt;</th><th scope=col>&lt;int&gt;</th></tr>\n",
       "</thead>\n",
       "<tbody>\n",
       "\t<tr><td>kernwapens        </td><td>0.8793719</td><td> 1</td></tr>\n",
       "\t<tr><td>atoomwapens       </td><td>0.8793719</td><td> 2</td></tr>\n",
       "\t<tr><td>atoombewapening   </td><td>0.7482964</td><td> 3</td></tr>\n",
       "\t<tr><td>verdrag           </td><td>0.7469243</td><td> 4</td></tr>\n",
       "\t<tr><td>navo              </td><td>0.7284189</td><td> 5</td></tr>\n",
       "\t<tr><td>amerikaanse       </td><td>0.7281588</td><td> 6</td></tr>\n",
       "\t<tr><td>europa            </td><td>0.7276795</td><td> 7</td></tr>\n",
       "\t<tr><td>grondgebied       </td><td>0.7236148</td><td> 8</td></tr>\n",
       "\t<tr><td>israã«l           </td><td>0.7208442</td><td> 9</td></tr>\n",
       "\t<tr><td>opslag            </td><td>0.7151110</td><td>10</td></tr>\n",
       "\t<tr><td>duitse            </td><td>0.7131622</td><td>11</td></tr>\n",
       "\t<tr><td>verspreiding      </td><td>0.7084840</td><td>12</td></tr>\n",
       "\t<tr><td>kernmacht         </td><td>0.7043979</td><td>13</td></tr>\n",
       "\t<tr><td>nederland         </td><td>0.7038867</td><td>14</td></tr>\n",
       "\t<tr><td>nucleair          </td><td>0.7027670</td><td>15</td></tr>\n",
       "\t<tr><td>verenigde         </td><td>0.6984132</td><td>16</td></tr>\n",
       "\t<tr><td>unie              </td><td>0.6969562</td><td>17</td></tr>\n",
       "\t<tr><td>conventionele     </td><td>0.6952820</td><td>18</td></tr>\n",
       "\t<tr><td>europese          </td><td>0.6913452</td><td>19</td></tr>\n",
       "\t<tr><td>bewapeningswedloop</td><td>0.6910500</td><td>20</td></tr>\n",
       "\t<tr><td>strijdkrachten    </td><td>0.6906704</td><td>21</td></tr>\n",
       "\t<tr><td>bondsrepubliek    </td><td>0.6863135</td><td>22</td></tr>\n",
       "\t<tr><td>eenwording        </td><td>0.6853186</td><td>23</td></tr>\n",
       "\t<tr><td>sovjet            </td><td>0.6851781</td><td>24</td></tr>\n",
       "\t<tr><td>vs                </td><td>0.6839511</td><td>25</td></tr>\n",
       "\t<tr><td>militaire         </td><td>0.6808465</td><td>26</td></tr>\n",
       "\t<tr><td>almelo            </td><td>0.6800058</td><td>27</td></tr>\n",
       "\t<tr><td>bases             </td><td>0.6787240</td><td>28</td></tr>\n",
       "\t<tr><td>atoomkoppen       </td><td>0.6771492</td><td>29</td></tr>\n",
       "\t<tr><td>bewapening        </td><td>0.6754230</td><td>30</td></tr>\n",
       "\t<tr><td>⋮</td><td>⋮</td><td>⋮</td></tr>\n",
       "\t<tr><td>atoomvrij          </td><td>0.6353545</td><td> 71</td></tr>\n",
       "\t<tr><td>engeland           </td><td>0.6348878</td><td> 72</td></tr>\n",
       "\t<tr><td>rivalen            </td><td>0.6348742</td><td> 73</td></tr>\n",
       "\t<tr><td>proliferatieverdrag</td><td>0.6347522</td><td> 74</td></tr>\n",
       "\t<tr><td>duits              </td><td>0.6342082</td><td> 75</td></tr>\n",
       "\t<tr><td>integratie         </td><td>0.6330864</td><td> 76</td></tr>\n",
       "\t<tr><td>vrede              </td><td>0.6329146</td><td> 77</td></tr>\n",
       "\t<tr><td>republiek          </td><td>0.6325772</td><td> 78</td></tr>\n",
       "\t<tr><td>britse             </td><td>0.6306154</td><td> 79</td></tr>\n",
       "\t<tr><td>leger              </td><td>0.6292732</td><td> 80</td></tr>\n",
       "\t<tr><td>strategische       </td><td>0.6286839</td><td> 81</td></tr>\n",
       "\t<tr><td>satellieten        </td><td>0.6275560</td><td> 82</td></tr>\n",
       "\t<tr><td>verwijderd         </td><td>0.6274915</td><td> 83</td></tr>\n",
       "\t<tr><td>aziã«              </td><td>0.6249687</td><td> 84</td></tr>\n",
       "\t<tr><td>luchtmacht         </td><td>0.6243291</td><td> 85</td></tr>\n",
       "\t<tr><td>turkije            </td><td>0.6242456</td><td> 86</td></tr>\n",
       "\t<tr><td>non                </td><td>0.6238719</td><td> 87</td></tr>\n",
       "\t<tr><td>krachtsverhoudingen</td><td>0.6236723</td><td> 88</td></tr>\n",
       "\t<tr><td>strauss            </td><td>0.6233326</td><td> 89</td></tr>\n",
       "\t<tr><td>vliegvelden        </td><td>0.6231056</td><td> 90</td></tr>\n",
       "\t<tr><td>veiligheid         </td><td>0.6229903</td><td> 91</td></tr>\n",
       "\t<tr><td>uitgerust          </td><td>0.6224539</td><td> 92</td></tr>\n",
       "\t<tr><td>raketten           </td><td>0.6219230</td><td> 93</td></tr>\n",
       "\t<tr><td>noorwegen          </td><td>0.6214653</td><td> 94</td></tr>\n",
       "\t<tr><td>europees           </td><td>0.6197343</td><td> 95</td></tr>\n",
       "\t<tr><td>revanchisme        </td><td>0.6194449</td><td> 96</td></tr>\n",
       "\t<tr><td>chili              </td><td>0.6192076</td><td> 97</td></tr>\n",
       "\t<tr><td>munitie            </td><td>0.6186382</td><td> 98</td></tr>\n",
       "\t<tr><td>overeenkomst       </td><td>0.6182587</td><td> 99</td></tr>\n",
       "\t<tr><td>strafwet           </td><td>0.6180306</td><td>100</td></tr>\n",
       "</tbody>\n",
       "</table>\n"
      ],
      "text/latex": [
       "A data.frame: 100 × 3\n",
       "\\begin{tabular}{lll}\n",
       " term & similarity & rank\\\\\n",
       " <chr> & <dbl> & <int>\\\\\n",
       "\\hline\n",
       "\t kernwapens         & 0.8793719 &  1\\\\\n",
       "\t atoomwapens        & 0.8793719 &  2\\\\\n",
       "\t atoombewapening    & 0.7482964 &  3\\\\\n",
       "\t verdrag            & 0.7469243 &  4\\\\\n",
       "\t navo               & 0.7284189 &  5\\\\\n",
       "\t amerikaanse        & 0.7281588 &  6\\\\\n",
       "\t europa             & 0.7276795 &  7\\\\\n",
       "\t grondgebied        & 0.7236148 &  8\\\\\n",
       "\t israã«l            & 0.7208442 &  9\\\\\n",
       "\t opslag             & 0.7151110 & 10\\\\\n",
       "\t duitse             & 0.7131622 & 11\\\\\n",
       "\t verspreiding       & 0.7084840 & 12\\\\\n",
       "\t kernmacht          & 0.7043979 & 13\\\\\n",
       "\t nederland          & 0.7038867 & 14\\\\\n",
       "\t nucleair           & 0.7027670 & 15\\\\\n",
       "\t verenigde          & 0.6984132 & 16\\\\\n",
       "\t unie               & 0.6969562 & 17\\\\\n",
       "\t conventionele      & 0.6952820 & 18\\\\\n",
       "\t europese           & 0.6913452 & 19\\\\\n",
       "\t bewapeningswedloop & 0.6910500 & 20\\\\\n",
       "\t strijdkrachten     & 0.6906704 & 21\\\\\n",
       "\t bondsrepubliek     & 0.6863135 & 22\\\\\n",
       "\t eenwording         & 0.6853186 & 23\\\\\n",
       "\t sovjet             & 0.6851781 & 24\\\\\n",
       "\t vs                 & 0.6839511 & 25\\\\\n",
       "\t militaire          & 0.6808465 & 26\\\\\n",
       "\t almelo             & 0.6800058 & 27\\\\\n",
       "\t bases              & 0.6787240 & 28\\\\\n",
       "\t atoomkoppen        & 0.6771492 & 29\\\\\n",
       "\t bewapening         & 0.6754230 & 30\\\\\n",
       "\t ⋮ & ⋮ & ⋮\\\\\n",
       "\t atoomvrij           & 0.6353545 &  71\\\\\n",
       "\t engeland            & 0.6348878 &  72\\\\\n",
       "\t rivalen             & 0.6348742 &  73\\\\\n",
       "\t proliferatieverdrag & 0.6347522 &  74\\\\\n",
       "\t duits               & 0.6342082 &  75\\\\\n",
       "\t integratie          & 0.6330864 &  76\\\\\n",
       "\t vrede               & 0.6329146 &  77\\\\\n",
       "\t republiek           & 0.6325772 &  78\\\\\n",
       "\t britse              & 0.6306154 &  79\\\\\n",
       "\t leger               & 0.6292732 &  80\\\\\n",
       "\t strategische        & 0.6286839 &  81\\\\\n",
       "\t satellieten         & 0.6275560 &  82\\\\\n",
       "\t verwijderd          & 0.6274915 &  83\\\\\n",
       "\t aziã«               & 0.6249687 &  84\\\\\n",
       "\t luchtmacht          & 0.6243291 &  85\\\\\n",
       "\t turkije             & 0.6242456 &  86\\\\\n",
       "\t non                 & 0.6238719 &  87\\\\\n",
       "\t krachtsverhoudingen & 0.6236723 &  88\\\\\n",
       "\t strauss             & 0.6233326 &  89\\\\\n",
       "\t vliegvelden         & 0.6231056 &  90\\\\\n",
       "\t veiligheid          & 0.6229903 &  91\\\\\n",
       "\t uitgerust           & 0.6224539 &  92\\\\\n",
       "\t raketten            & 0.6219230 &  93\\\\\n",
       "\t noorwegen           & 0.6214653 &  94\\\\\n",
       "\t europees            & 0.6197343 &  95\\\\\n",
       "\t revanchisme         & 0.6194449 &  96\\\\\n",
       "\t chili               & 0.6192076 &  97\\\\\n",
       "\t munitie             & 0.6186382 &  98\\\\\n",
       "\t overeenkomst        & 0.6182587 &  99\\\\\n",
       "\t strafwet            & 0.6180306 & 100\\\\\n",
       "\\end{tabular}\n"
      ],
      "text/markdown": [
       "\n",
       "A data.frame: 100 × 3\n",
       "\n",
       "| term &lt;chr&gt; | similarity &lt;dbl&gt; | rank &lt;int&gt; |\n",
       "|---|---|---|\n",
       "| kernwapens         | 0.8793719 |  1 |\n",
       "| atoomwapens        | 0.8793719 |  2 |\n",
       "| atoombewapening    | 0.7482964 |  3 |\n",
       "| verdrag            | 0.7469243 |  4 |\n",
       "| navo               | 0.7284189 |  5 |\n",
       "| amerikaanse        | 0.7281588 |  6 |\n",
       "| europa             | 0.7276795 |  7 |\n",
       "| grondgebied        | 0.7236148 |  8 |\n",
       "| israã«l            | 0.7208442 |  9 |\n",
       "| opslag             | 0.7151110 | 10 |\n",
       "| duitse             | 0.7131622 | 11 |\n",
       "| verspreiding       | 0.7084840 | 12 |\n",
       "| kernmacht          | 0.7043979 | 13 |\n",
       "| nederland          | 0.7038867 | 14 |\n",
       "| nucleair           | 0.7027670 | 15 |\n",
       "| verenigde          | 0.6984132 | 16 |\n",
       "| unie               | 0.6969562 | 17 |\n",
       "| conventionele      | 0.6952820 | 18 |\n",
       "| europese           | 0.6913452 | 19 |\n",
       "| bewapeningswedloop | 0.6910500 | 20 |\n",
       "| strijdkrachten     | 0.6906704 | 21 |\n",
       "| bondsrepubliek     | 0.6863135 | 22 |\n",
       "| eenwording         | 0.6853186 | 23 |\n",
       "| sovjet             | 0.6851781 | 24 |\n",
       "| vs                 | 0.6839511 | 25 |\n",
       "| militaire          | 0.6808465 | 26 |\n",
       "| almelo             | 0.6800058 | 27 |\n",
       "| bases              | 0.6787240 | 28 |\n",
       "| atoomkoppen        | 0.6771492 | 29 |\n",
       "| bewapening         | 0.6754230 | 30 |\n",
       "| ⋮ | ⋮ | ⋮ |\n",
       "| atoomvrij           | 0.6353545 |  71 |\n",
       "| engeland            | 0.6348878 |  72 |\n",
       "| rivalen             | 0.6348742 |  73 |\n",
       "| proliferatieverdrag | 0.6347522 |  74 |\n",
       "| duits               | 0.6342082 |  75 |\n",
       "| integratie          | 0.6330864 |  76 |\n",
       "| vrede               | 0.6329146 |  77 |\n",
       "| republiek           | 0.6325772 |  78 |\n",
       "| britse              | 0.6306154 |  79 |\n",
       "| leger               | 0.6292732 |  80 |\n",
       "| strategische        | 0.6286839 |  81 |\n",
       "| satellieten         | 0.6275560 |  82 |\n",
       "| verwijderd          | 0.6274915 |  83 |\n",
       "| aziã«               | 0.6249687 |  84 |\n",
       "| luchtmacht          | 0.6243291 |  85 |\n",
       "| turkije             | 0.6242456 |  86 |\n",
       "| non                 | 0.6238719 |  87 |\n",
       "| krachtsverhoudingen | 0.6236723 |  88 |\n",
       "| strauss             | 0.6233326 |  89 |\n",
       "| vliegvelden         | 0.6231056 |  90 |\n",
       "| veiligheid          | 0.6229903 |  91 |\n",
       "| uitgerust           | 0.6224539 |  92 |\n",
       "| raketten            | 0.6219230 |  93 |\n",
       "| noorwegen           | 0.6214653 |  94 |\n",
       "| europees            | 0.6197343 |  95 |\n",
       "| revanchisme         | 0.6194449 |  96 |\n",
       "| chili               | 0.6192076 |  97 |\n",
       "| munitie             | 0.6186382 |  98 |\n",
       "| overeenkomst        | 0.6182587 |  99 |\n",
       "| strafwet            | 0.6180306 | 100 |\n",
       "\n"
      ],
      "text/plain": [
       "    term                similarity rank\n",
       "1   kernwapens          0.8793719   1  \n",
       "2   atoomwapens         0.8793719   2  \n",
       "3   atoombewapening     0.7482964   3  \n",
       "4   verdrag             0.7469243   4  \n",
       "5   navo                0.7284189   5  \n",
       "6   amerikaanse         0.7281588   6  \n",
       "7   europa              0.7276795   7  \n",
       "8   grondgebied         0.7236148   8  \n",
       "9   israã«l             0.7208442   9  \n",
       "10  opslag              0.7151110  10  \n",
       "11  duitse              0.7131622  11  \n",
       "12  verspreiding        0.7084840  12  \n",
       "13  kernmacht           0.7043979  13  \n",
       "14  nederland           0.7038867  14  \n",
       "15  nucleair            0.7027670  15  \n",
       "16  verenigde           0.6984132  16  \n",
       "17  unie                0.6969562  17  \n",
       "18  conventionele       0.6952820  18  \n",
       "19  europese            0.6913452  19  \n",
       "20  bewapeningswedloop  0.6910500  20  \n",
       "21  strijdkrachten      0.6906704  21  \n",
       "22  bondsrepubliek      0.6863135  22  \n",
       "23  eenwording          0.6853186  23  \n",
       "24  sovjet              0.6851781  24  \n",
       "25  vs                  0.6839511  25  \n",
       "26  militaire           0.6808465  26  \n",
       "27  almelo              0.6800058  27  \n",
       "28  bases               0.6787240  28  \n",
       "29  atoomkoppen         0.6771492  29  \n",
       "30  bewapening          0.6754230  30  \n",
       "⋮   ⋮                   ⋮          ⋮   \n",
       "71  atoomvrij           0.6353545   71 \n",
       "72  engeland            0.6348878   72 \n",
       "73  rivalen             0.6348742   73 \n",
       "74  proliferatieverdrag 0.6347522   74 \n",
       "75  duits               0.6342082   75 \n",
       "76  integratie          0.6330864   76 \n",
       "77  vrede               0.6329146   77 \n",
       "78  republiek           0.6325772   78 \n",
       "79  britse              0.6306154   79 \n",
       "80  leger               0.6292732   80 \n",
       "81  strategische        0.6286839   81 \n",
       "82  satellieten         0.6275560   82 \n",
       "83  verwijderd          0.6274915   83 \n",
       "84  aziã«               0.6249687   84 \n",
       "85  luchtmacht          0.6243291   85 \n",
       "86  turkije             0.6242456   86 \n",
       "87  non                 0.6238719   87 \n",
       "88  krachtsverhoudingen 0.6236723   88 \n",
       "89  strauss             0.6233326   89 \n",
       "90  vliegvelden         0.6231056   90 \n",
       "91  veiligheid          0.6229903   91 \n",
       "92  uitgerust           0.6224539   92 \n",
       "93  raketten            0.6219230   93 \n",
       "94  noorwegen           0.6214653   94 \n",
       "95  europees            0.6197343   95 \n",
       "96  revanchisme         0.6194449   96 \n",
       "97  chili               0.6192076   97 \n",
       "98  munitie             0.6186382   98 \n",
       "99  overeenkomst        0.6182587   99 \n",
       "100 strafwet            0.6180306  100 "
      ]
     },
     "metadata": {},
     "output_type": "display_data"
    }
   ],
   "source": [
    "nns_wv.cpn"
   ]
  },
  {
   "cell_type": "code",
   "execution_count": 15,
   "metadata": {},
   "outputs": [],
   "source": [
    "# Extract 100 nearest neighbours from 'kernwapen' in vector space\n",
    "nns_wv.vvd <- predict(model.vvd.7075, newdata = comb.wv.vvd, type = \"nearest\", top_n = 100)\n",
    "vecs_nns_nuc.100.vvd <- emb.vvd.7075[nns_wv.vvd$term, ]"
   ]
  },
  {
   "cell_type": "code",
   "execution_count": 16,
   "metadata": {},
   "outputs": [],
   "source": [
    "# Create 'proliferation' vector\n",
    "pv.vvd <- predict(model.vvd.7075, newdata = words.prol, type = \"embedding\")\n",
    "pv.vvd <- na.omit(pv.vvd)\n",
    "comb.pv.vvd <- colMeans(pv.vvd) "
   ]
  },
  {
   "cell_type": "code",
   "execution_count": 17,
   "metadata": {},
   "outputs": [],
   "source": [
    "# Create 'non-proliferation' vector\n",
    "nv.vvd <- predict(model.vvd.7075, newdata = words.nonprol, type = \"embedding\")\n",
    "nv.vvd <- na.omit(nv.vvd)\n",
    "comb.nv.vvd <- colMeans(nv.vvd) "
   ]
  },
  {
   "cell_type": "code",
   "execution_count": 21,
   "metadata": {},
   "outputs": [
    {
     "name": "stderr",
     "output_type": "stream",
     "text": [
      "Warning message in cbind(parts$left, ellip_h, parts$right, deparse.level = 0L):\n",
      "“number of rows of result is not a multiple of vector length (arg 2)”\n"
     ]
    },
    {
     "data": {
      "text/html": [],
      "text/latex": [],
      "text/markdown": [],
      "text/plain": [
       "     [,1] [,2] [,3] [,4] [,5] [,6] [,7] [,8] [,9] [,10] [,11] [,12] [,13] [,14]\n",
       "     [,15] [,16] [,17] [,18] [,19] [,20] [,21]"
      ]
     },
     "metadata": {},
     "output_type": "display_data"
    }
   ],
   "source": [
    "nv.vvd"
   ]
  },
  {
   "cell_type": "markdown",
   "metadata": {},
   "source": [
    "Calculate distance (cosine similarity) to plot results  ---------------------------------"
   ]
  },
  {
   "cell_type": "code",
   "execution_count": 18,
   "metadata": {},
   "outputs": [],
   "source": [
    "# Create scores for plotting by comparing vectors of 'kernwapen' and viewpoints\n",
    "score_prol.vvd <- as.data.frame(word2vec_similarity(vecs_nns_nuc.100.vvd, comb.pv.vvd))\n",
    "score_nonprol.vvd <- as.data.frame(word2vec_similarity(vecs_nns_nuc.100.vvd, comb.nv.vvd))"
   ]
  },
  {
   "cell_type": "code",
   "execution_count": 32,
   "metadata": {},
   "outputs": [],
   "source": [
    "# PvdA Create 'kernwapen' vector\n",
    "wv.pvda <- predict(model.pvda.7075, newdata = words.weapon, type = \"embedding\")\n",
    "wv.pvda <- na.omit(wv.pvda)\n",
    "comb.wv.pvda <- colMeans(wv.pvda)  # this seems to work good, but there is an alternative approach: comb.wv <- wv['kernwapen', ] + wv['kernwapens', ]  + wv['atoomwapens', ] + wv['atoomwapen', ] #+ wv['kruisraket', ] + wv['kruisraketten', ] + wv['kruisvluchtwapen', ]+ wv['kruisvluchtwapens', ]"
   ]
  },
  {
   "cell_type": "code",
   "execution_count": 19,
   "metadata": {},
   "outputs": [
    {
     "data": {
      "text/html": [
       "<table class=\"dataframe\">\n",
       "<caption>A data.frame: 0 × 1</caption>\n",
       "<thead>\n",
       "\t<tr><th scope=col>V1</th></tr>\n",
       "\t<tr><th scope=col>&lt;dbl&gt;</th></tr>\n",
       "</thead>\n",
       "<tbody>\n",
       "</tbody>\n",
       "</table>\n"
      ],
      "text/latex": [
       "A data.frame: 0 × 1\n",
       "\\begin{tabular}{l}\n",
       " V1\\\\\n",
       " <dbl>\\\\\n",
       "\\hline\n",
       "\\end{tabular}\n"
      ],
      "text/markdown": [
       "\n",
       "A data.frame: 0 × 1\n",
       "\n",
       "| V1 &lt;dbl&gt; |\n",
       "|---|\n",
       "\n"
      ],
      "text/plain": [
       "     V1"
      ]
     },
     "metadata": {},
     "output_type": "display_data"
    }
   ],
   "source": [
    "score_prol.vvd"
   ]
  },
  {
   "cell_type": "code",
   "execution_count": 20,
   "metadata": {},
   "outputs": [
    {
     "data": {
      "text/html": [
       "<table class=\"dataframe\">\n",
       "<caption>A data.frame: 0 × 1</caption>\n",
       "<thead>\n",
       "\t<tr><th scope=col>V1</th></tr>\n",
       "\t<tr><th scope=col>&lt;dbl&gt;</th></tr>\n",
       "</thead>\n",
       "<tbody>\n",
       "</tbody>\n",
       "</table>\n"
      ],
      "text/latex": [
       "A data.frame: 0 × 1\n",
       "\\begin{tabular}{l}\n",
       " V1\\\\\n",
       " <dbl>\\\\\n",
       "\\hline\n",
       "\\end{tabular}\n"
      ],
      "text/markdown": [
       "\n",
       "A data.frame: 0 × 1\n",
       "\n",
       "| V1 &lt;dbl&gt; |\n",
       "|---|\n",
       "\n"
      ],
      "text/plain": [
       "     V1"
      ]
     },
     "metadata": {},
     "output_type": "display_data"
    }
   ],
   "source": [
    "score_nonprol.vvd"
   ]
  },
  {
   "cell_type": "code",
   "execution_count": 33,
   "metadata": {},
   "outputs": [],
   "source": [
    "# Extract 100 nearest neighbours from 'kernwapen' in vector space\n",
    "nns_wv.pvda <- predict(model.pvda.7075, newdata = comb.wv.pvda, type=\"nearest\", top_n=100)\n",
    "vecs_nns_nuc.100.pvda <- emb.pvda.7075[nns_wv.pvda$term,]"
   ]
  },
  {
   "cell_type": "code",
   "execution_count": 34,
   "metadata": {},
   "outputs": [],
   "source": [
    "# Create 'proliferation' vector\n",
    "pv.pvda <- predict(model.pvda.7075, newdata = words.prol, type = \"embedding\")\n",
    "pv.pvda <- na.omit(pv.pvda)\n",
    "comb.pv.pvda <- colMeans(pv.pvda) "
   ]
  },
  {
   "cell_type": "code",
   "execution_count": 35,
   "metadata": {},
   "outputs": [],
   "source": [
    "# Create 'non-proliferation' vector\n",
    "nv.pvda <- predict(model.pvda.7075, newdata = words.nonprol, type = \"embedding\")\n",
    "nv.pvda <- na.omit(nv.pvda)\n",
    "comb.nv.pvda <- colMeans(nv.pvda) "
   ]
  },
  {
   "cell_type": "markdown",
   "metadata": {},
   "source": [
    "Calculate distance (cosine similarity) to plot results  ---------------------------------"
   ]
  },
  {
   "cell_type": "code",
   "execution_count": 36,
   "metadata": {},
   "outputs": [],
   "source": [
    "# Create scores for plotting by comparing vectors of 'kernwapen' and viewpoints\n",
    "score_prol.pvda <- as.data.frame(word2vec_similarity(vecs_nns_nuc.100.pvda, comb.pv.pvda))\n",
    "score_nonprol.pvda <- as.data.frame(word2vec_similarity(vecs_nns_nuc.100.pvda, comb.nv.pvda))"
   ]
  },
  {
   "cell_type": "code",
   "execution_count": 37,
   "metadata": {},
   "outputs": [],
   "source": [
    "# CDA Create 'kernwapen' vector\n",
    "wv.cda <- predict(model.cda.7075, newdata = words.weapon, type = \"embedding\")\n",
    "wv.cda <- na.omit(wv.cda)\n",
    "comb.wv.cda <- colMeans(wv.cda)  # this seems to work good, but there is an alternative approach: comb.wv <- wv['kernwapen', ] + wv['kernwapens', ]  + wv['atoomwapens', ] + wv['atoomwapen', ] #+ wv['kruisraket', ] + wv['kruisraketten', ] + wv['kruisvluchtwapen', ]+ wv['kruisvluchtwapens', ]"
   ]
  },
  {
   "cell_type": "code",
   "execution_count": 38,
   "metadata": {},
   "outputs": [],
   "source": [
    "# Extract 100 nearest neighbours from 'kernwapen' in vector space\n",
    "nns_wv.cda <- predict(model.cda.7075, newdata = comb.wv.cda, type=\"nearest\", top_n=100)\n",
    "vecs_nns_nuc.100.cda <- emb.cda.7075[nns_wv.cda$term,]"
   ]
  },
  {
   "cell_type": "code",
   "execution_count": 39,
   "metadata": {},
   "outputs": [],
   "source": [
    "# Create 'proliferation' vector\n",
    "pv.cda <- predict(model.cda.7075, newdata = words.prol, type = \"embedding\")\n",
    "pv.cda <- na.omit(pv.cda)\n",
    "comb.pv.cda <- colMeans(pv.cda)"
   ]
  },
  {
   "cell_type": "code",
   "execution_count": 40,
   "metadata": {},
   "outputs": [],
   "source": [
    "# Create 'non-proliferation' vector\n",
    "nv.cda <- predict(model.cda.7075, newdata = words.nonprol, type = \"embedding\")\n",
    "nv.cda <- na.omit(nv.cda)\n",
    "comb.nv.cda <- colMeans(nv.cda)"
   ]
  },
  {
   "cell_type": "code",
   "execution_count": 41,
   "metadata": {},
   "outputs": [],
   "source": [
    "# Calculate distance (cosine similarity) to plot results\n",
    "# --------------------------------- Create scores for plotting by comparing\n",
    "# vectors of 'kernwapen' and viewpoints\n",
    "score_prol.cda <- as.data.frame(word2vec_similarity(vecs_nns_nuc.100.cda, comb.pv.cda))\n",
    "score_nonprol.cda <- as.data.frame(word2vec_similarity(vecs_nns_nuc.100.cda, comb.nv.cda))"
   ]
  },
  {
   "cell_type": "markdown",
   "metadata": {},
   "source": [
    "Plotting ----------------------------------------------------------------"
   ]
  },
  {
   "cell_type": "code",
   "execution_count": 42,
   "metadata": {},
   "outputs": [],
   "source": [
    "setwd(here(\"output\"))"
   ]
  },
  {
   "cell_type": "code",
   "execution_count": 43,
   "metadata": {},
   "outputs": [],
   "source": [
    "pdf('plot_7075_parties.pdf', width=8, height=8)"
   ]
  },
  {
   "cell_type": "code",
   "execution_count": 44,
   "metadata": {},
   "outputs": [
    {
     "data": {
      "image/png": "[encoded data removed]",
      "text/plain": [
       "Plot with title “\n",
       "     Party-specific nuclear weapon vocabularies plotted by their\n",
       "     similarity to proliferation words(x) and non-proliferation words(y) 1970-1975”"
      ]
     },
     "metadata": {
      "image/png": {
       "height": 420,
       "width": 420
      }
     },
     "output_type": "display_data"
    }
   ],
   "source": [
    "plot(score_prol.pvda$V1, score_nonprol.pvda$V1, ylim = c(0, 1), xlim = c(0, 1), xlab = \"Proliferation\",\n",
    "    ylab = \"Non-proliferation\", type = \"p\", pch = 16, col = c(\"blue\"), main = \"\n",
    "     Party-specific nuclear weapon vocabularies plotted by their\n",
    "     similarity to proliferation words(x) and non-proliferation words(y) 1970-1975\")\n",
    "points(score_prol.cpn$V1, score_nonprol.cpn$V1, pch = 16, col = c(\"red\"))\n",
    "points(score_prol.vvd$V1, score_nonprol.vvd$V1, pch = 16, col = c(\"black\"))\n",
    "# points(score_prol.cda$V1, score_nonprol.cda$V1, pch=16, col=c('green'))\n",
    "abline(a = 0, b = 1)\n",
    "legend(\"bottomright\", legend = c(\"CPN\", \"VVD\", \"PvdA\"), col = c(\"red\", \"black\", \"blue\"),\n",
    "    lwd = 11, cex = 0.8)"
   ]
  },
  {
   "cell_type": "code",
   "execution_count": 45,
   "metadata": {
    "lines_to_next_cell": 2
   },
   "outputs": [
    {
     "data": {
      "text/html": [
       "<strong>pdf:</strong> 3"
      ],
      "text/latex": [
       "\\textbf{pdf:} 3"
      ],
      "text/markdown": [
       "**pdf:** 3"
      ],
      "text/plain": [
       "pdf \n",
       "  3 "
      ]
     },
     "metadata": {},
     "output_type": "display_data"
    }
   ],
   "source": [
    "# turn off\n",
    "dev.off()"
   ]
  },
  {
   "cell_type": "markdown",
   "metadata": {},
   "source": [
    "The End "
   ]
  },
  {
   "cell_type": "code",
   "execution_count": null,
   "metadata": {
    "lines_to_next_cell": 2
   },
   "outputs": [],
   "source": []
  },
  {
   "cell_type": "code",
   "execution_count": null,
   "metadata": {},
   "outputs": [],
   "source": []
  }
 ],
 "metadata": {
  "jupytext": {
   "cell_metadata_filter": "-all",
   "notebook_metadata_filter": "-all",
   "text_representation": {
    "extension": ".R",
    "format_name": "light"
   }
  },
  "kernelspec": {
   "display_name": "R",
   "language": "R",
   "name": "ir"
  },
  "language_info": {
   "codemirror_mode": "r",
   "file_extension": ".r",
   "mimetype": "text/x-r-source",
   "name": "R",
   "pygments_lexer": "r",
   "version": "4.1.1"
  },
  "toc": {
   "base_numbering": 1,
   "nav_menu": {},
   "number_sections": true,
   "sideBar": true,
   "skip_h1_title": false,
   "title_cell": "Table of Contents",
   "title_sidebar": "Contents",
   "toc_cell": false,
   "toc_position": {},
   "toc_section_display": true,
   "toc_window_display": false
  }
 },
 "nbformat": 4,
 "nbformat_minor": 4
}
