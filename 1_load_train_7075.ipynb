{
 "cells": [
  {
   "cell_type": "markdown",
   "metadata": {},
   "source": [
    "This script tries to use Word2Vec technique on Handelingen data\n",
    "For Dialects of Discord on the party level\n",
    "Milan van Lange, June 2021"
   ]
  },
  {
   "cell_type": "code",
   "execution_count": 1,
   "metadata": {},
   "outputs": [
    {
     "name": "stderr",
     "output_type": "stream",
     "text": [
      "Le chargement a nécessité le package : NLP\n",
      "\n",
      "Skipping install of 'word2vec' from a github remote, the SHA1 (12b015e5) has not changed since last install.\n",
      "  Use `force = TRUE` to force installation\n",
      "\n",
      "Le chargement a nécessité le package : qdapDictionaries\n",
      "\n",
      "Le chargement a nécessité le package : qdapRegex\n",
      "\n",
      "Le chargement a nécessité le package : qdapTools\n",
      "\n",
      "Le chargement a nécessité le package : RColorBrewer\n",
      "\n",
      "\n",
      "Attachement du package : ‘qdap’\n",
      "\n",
      "\n",
      "Les objets suivants sont masqués depuis ‘package:tm’:\n",
      "\n",
      "    as.DocumentTermMatrix, as.TermDocumentMatrix\n",
      "\n",
      "\n",
      "L'objet suivant est masqué depuis ‘package:NLP’:\n",
      "\n",
      "    ngrams\n",
      "\n",
      "\n",
      "Les objets suivants sont masqués depuis ‘package:base’:\n",
      "\n",
      "    Filter, proportions\n",
      "\n",
      "\n",
      "\n",
      "Attachement du package : ‘dplyr’\n",
      "\n",
      "\n",
      "L'objet suivant est masqué depuis ‘package:qdapTools’:\n",
      "\n",
      "    id\n",
      "\n",
      "\n",
      "L'objet suivant est masqué depuis ‘package:qdapRegex’:\n",
      "\n",
      "    explain\n",
      "\n",
      "\n",
      "Les objets suivants sont masqués depuis ‘package:stats’:\n",
      "\n",
      "    filter, lag\n",
      "\n",
      "\n",
      "Les objets suivants sont masqués depuis ‘package:base’:\n",
      "\n",
      "    intersect, setdiff, setequal, union\n",
      "\n",
      "\n",
      "here() starts at /Users/elisabeth.guerard/Desktop/JDH001/jdh001-9HcfToh7EYm8-missile\n",
      "\n"
     ]
    }
   ],
   "source": [
    "library(magrittr)\n",
    "library(tm)\n",
    "remotes::install_github(\"bnosac/word2vec\")\n",
    "library(word2vec)\n",
    "library(XML)\n",
    "library(qdap)\n",
    "library(stringr)\n",
    "library(dplyr)\n",
    "library(readtext)\n",
    "library(readr)\n",
    "library(here)"
   ]
  },
  {
   "cell_type": "markdown",
   "metadata": {},
   "source": [
    "Load the text data\n",
    "Pre-processed .txt files are used (without interpunction, stowords removed, all letters to lower case, etc.)"
   ]
  },
  {
   "cell_type": "code",
   "execution_count": 2,
   "metadata": {},
   "outputs": [
    {
     "name": "stderr",
     "output_type": "stream",
     "text": [
      "Warning message in readRDS(\"stuff.RDS\"):\n",
      "“la chaîne de caractères en entrée 'mijnheer voorzitter de begroting defensie nederlandse leger belangrijke mate bepaald beslissingen elders de hoogte bedrag eigen behoeften navo bepaald er alleen achteraf goedkeuring bedrag mogelijk wijziging totale defensiebeleid huidige verhoudingen uitgeslotenmet navo bepaalde politieke economische doeleinden nagestreefd bestaande maatschappelijke verhoudingen moeten dienen namelijk eerstezitting 1969-1970 eerste kamer280 9de vergadering 13 januari 70 vaststelling hfdst x defensie staatsbedr artillerie-inrichtingen 1970ijmkers plaats handhaven maatschappelijke verhoudingen aangesloten landen handhaving heerschappij bezittende klasse in tweede plaats middel hoge defensie-uitgaven groep bezitters grote winstgevende orders helpen dat begrip veiligheid navo dienendat eigenlijk begrip „veiligheid brandkast winsten privilegesdit natuurlijk zaak openlijk verkopen bevolking defensielasten betalen daarom verhaal wereld gebracht russische dreiging opleve […tronqué]”\n",
      "Warning message in readRDS(\"stuff.RDS\"):\n",
      "“la chaîne de caractères en entrée 'mijnheer voorzitter ik dank medewerking kamer toestemming beide wetsontwerpen samen mogen sprekende materie welke wij middel beide wetsontwerpen willen regelen instemming fractie ter zake wetsontwerp nr 9597 zien wij verandering beroepsprocedure verbetering verschaffing rechtszekerheid stukevenmin vele anderen overkant binnenhof verleiding weerstaan paar opmerkingen maken enkele algemene aspecten geneesmiddelenvoorziening tijdens behandeling wetsontwerp overzijde staatssecretaris cijfers genoemd aantal registratie-aanvragen periode v<e3><b3><e3><b3>r inwerkingtreding wet eerste vijf jaar inwerkingtreding 1 oktober 1963 1 oktober 1968 uit gegevens blijkt ruim 4600 zogenaamd oude verpakte geneesmiddelen aangemeld inwerkingtreding wet handel hiervan inmiddels 1300 afgehandeld waarvan zover nagaan 27 wel 2 pet afgewezen uit dezelfde gegevens blijkt aantal afgewezen geneesmiddelen periode 1 oktober 1963 1 oktober 1968 tien bedraagt totaal aantal afgehandelde 651 aa […tronqué]”\n",
      "Warning message in readRDS(\"stuff.RDS\"):\n",
      "“la chaîne de caractères en entrée 'mijnheer voorzitter het eindverslag vaste commissies europese samenwerkingsorganisaties ontwikkelingssamenwerking omtrent wetsontwerpen blanco verslag de commissies verklaren verslag willen onthouden maken opmerkingen omtrent onderhavige wetsontwerpen wel behield openbare beraadslaging gaan wetsontwerpen samenhangende onderwerpende beraadslaging twee wetsontwerpen geopend burger\n",
      "mijnheer voorzitter ik mag misschien co<e3><af>ncidentie laatste vergadering lid kamer meemaak woord voeren gebruik maken dank spreken vriendelijke woorden juist gesproken bijval collegas daarop gevolgd ik verzekeren daarvoor uitermate gevoelig u hebt gegeven moment vraag gesteld voldoening parlementaire werkzaamheden terugzien wij weten allen wel politieke werkzaamheden gemengde gevoelens wekken men eenmaal bereiken ik verzekeren welke activiteit parlementari<e3><ab>r volksvertegenwoordiger bijzonder grote betekenis men mogelijkheid namens bevolking waarvoor opkomt overtuiging uitdruk […tronqué]”\n",
      "Warning message in readRDS(\"stuff.RDS\"):\n",
      "“la chaîne de caractères en entrée 'mijnheer voorzitter „samen waar mogelijk afzonderlijk waar nodig kenschetste mevrouw schouwenaar wetsontwerp behandel verband aanwezigheid new york vergaderingen vn situatie wetenschappelijk onderwijs sedert 1960 in bijdrage oud 75e verjaardag aangeboden „liberale gedachten voegde hieraan toe geen eindpunt wet 1960 „uitgangspunt nieuwe verdere ontwikkelingenvan dergelijk standpunt jaren her dateert begrijpelijk fractie vvd vandaag volkomen instemt liggende wetsontwerp juist gezien uiteraard bewindsman blijkens activiteiten laatste jaren duidelijk gevoelde behoefte voortgang wij vrede mee bekostigingsaspect wetenschappelijk onderwijs bevredigende wijze lossen oplossing gaat pas daarna feite moeilijker ingrijpender kwestie uiteraard relaties bestuurshervorming vatten wetsontwerp 10 636 komt weten eind jaar ordeik begrip enorme kosten zelfs wanneer slechts l i pet betreft particuliere organisaties gemeente amsterdam torsen last betekenen ik meen […tronqué]”\n",
      "Warning message in readRDS(\"stuff.RDS\"):\n",
      "“la chaîne de caractères en entrée 'mijnheer voorzitter bij algemene beschouwingen tweede kamer recht aandacht geschonken toekomstvisie gepubliceerd zogenaamde club rome daardoor sterk voorgrond gekomen vraagstukken grens onze economische groei uitputten wereldgrondstoffenvoorraden uitputten aarde verspilling milieuverontreiniging dood oceanen dergelijke het nodig mens voortdurend bezwaren bewust zullen geleerden meningen verkondigen het evenwel beter ergste voorbereid gevaren licht nemen die gevaren blijven twee ernstige uitdagingen waarvoor mensheid ziet geplaatst immers naast ondergang onze wereld chaotische economische groei gevolgen ervan dreigt ondergang onze wereld oorlog beide elkaar los zien milieubeheersing bewapeningsbeheersing beide evenzeer nodig in kamer punt milieubeheersing oog verliezen aandacht schenken tweede puntten aanzien daarvan moge beginnen wijzen sinds algemene beschouwingen tweede kamer twee gebeurtenissen voorgedaan wereldomvattende betekenis welen princip […tronqué]”\n",
      "Warning message in readRDS(\"stuff.RDS\"):\n",
      "“la chaîne de caractères en entrée 'dat geval wij tekorten melk boter\n",
      "neen\n",
      "heeft regelen manipulaties misschien gewerkt voordeel partij heer schwarz\n",
      "dat geloof ik ontken als heer schwarz mee gemanipuleerd partij minder zetels kamer gehad hij wiskundigen gaan vragen\n",
      "hebt enig bewijs talloze gevallen\n",
      "dat merkwaardig bewijs\n",
      "mijnheer voorzitter het spreekt wel vanzelf opvattingen houding fractie loop jaren gevolgd wij nieuwe kabinet harte verwelkomen kabinet volle vertrouwen dat wij daarbij paar onze eigen beste mensen mogen leveren zowel minister staatssecretaris stemt zekere particuliere voldoeningwel herinner vanavond uur grieks spreekwoord meteen nederlandse vertaling geven misschien ongerechtvaardigde verwijten onttrekken luidende o fir <e3><a8>ageic avgonog ov natdeverai het betekent degene stok gevild nimmer opgevoedzitting 1971-1972 eerste kameralgemene politieke beschouwingen rijksbegroting dienstjaar 1972 3de vergadering 23 november 71 4 5van riel mijnheer voorzitter ik ten aanzien m […tronqué]”\n",
      "Warning message in readRDS(\"stuff.RDS\"):\n",
      "“la chaîne de caractères en entrée 'mijnheer voorzitter ik graag beginnen sluiten woorden heren de vries zoutendijk betrekking betekenis steenbergen schriftelijk onderwijs ik opmerkingen maken mede namens fracties d66 pprmijnheer voorzitter als wij zien grote betekenis schriftelijk onderwijs vragen wij af betekenis wetsontwerp veld schriftelijk onderwijs het antwoord gaat regeling schriftelijk onderwijs wetsontwerp mikt erkenning instellingen schriftelijk onderwijs basis vrijwilligheid zij aanvaarden krijgen erkenning aantal voorwaarden waaraan moeten voldoen ik hoop stringente voorwaarden zullen ik meen bedoeling minister ligt <e3><89><e3><a9>n belangrijkste voorwaarden geheel aanvaarden toezicht rijksinspectie dat brengt ertoe punt betoog waardering spreken belangrijke werk stichting inspectie schriftelijk onderwijs afgelopen vijf twintig jaar terrein gedaan het namelijk geleid zekere regulering schriftelijk onderwijs voorafgaande stand komen wetsontwerp men mag mijns inziens volgt formuleren  […tronqué]”\n",
      "Warning message in readRDS(\"stuff.RDS\"):\n",
      "“la chaîne de caractères en entrée 'de heer piket stelde belangrijk rijke weinig gestolen laat heer piket omdraaien vindt onbelangrijk arme bijna gestolen\n",
      "dat juridisch antwoord u bent bezig jurist\n",
      "ik neem beide goed vindt u vindt stelen algemeen goed\n",
      "prachtig\n",
      "uiteraard ik vroeg echter stelling keren\n",
      "het gaat erom bepaalde omstandigheden zegt verschillend steelt rijke arme ik wel indenken ik vind erger gelijke waarde gestolen arme nauwelijks rijke ik best indenken daarmede rekening houdt rechter\n",
      "mijnheer voorzitter ik eer mede namens fracties ppr d66 woord voerenuit behandeling wetsontwerp blijkt wel toenemende belangstelling strafrechtelijke vragen vroeger onderwerp typisch terrein specialisten nu tweede kamer bewogenheid gedebatteerd er amendementen ingediend er grondige behandeling ik meen bijzonder verheugend feit het laat natuurlijk alleen wel minder bespreking kamer daarbij komt wij werkelijk uitstekende memorie antwoord minister gehad daarin vind aanleiding aantal punten voorl […tronqué]”\n"
     ]
    },
    {
     "name": "stderr",
     "output_type": "stream",
     "text": [
      "Warning message in readRDS(\"stuff.RDS\"):\n",
      "“la chaîne de caractères en entrée 'mijnheer voorzitter zoals vorige spreker inhoudsrijk betoog duidelijk uitkomen orde zijnde wetsontwerp groot belang als zovele belangrijke wetsontwerpen totstandkoming heel tijd gevergd de behandeling ervan althans dusverre schijnt gemakkelijker gaan zelfs uitzonderlijk moeizaam de commissie-feber commissie-duk geworden ontwerp gemaakt 1969 ingediend zeer ongunstig ontvangen tweede kamer deze minister zeer deskundig gebied strafprocesrecht ontwerp diverse onderdelen aanzienlijk gewijzigd dusdoende erken gaarne meeste onderdelen belangrijk verbeterdeen zeer uitgebreide gedetailleerde soms ge<e3><ab>motioneerde mondelinge behandeling tweede kamer gevolgd ware uitputtingsslag waarvan resultaat ligt erg enthousiast fractie daarover de minister noemt memorie antwoord kamer resultaat twee keer toe „aanvaardbaar uitdrukking blijk geeft grote voldoening uiteindelijke inhoud ontwerp hij tweede kamer aanneming amendement slechts weten voorkomen onaanvaardbaarhei […tronqué]”\n",
      "Warning message in readRDS(\"stuff.RDS\"):\n",
      "“la chaîne de caractères en entrée 'mijnheer voorzitter dit wetsontwerp tweede kamer bestrijding ondervonden eigenlijk toch tweede kamer zeer uitvoerig gesproken twee amendementen klein verschil stemmen verworpen de minister gezegd genoot behandeling fundamentele vragen gaat blijkbaar gewoonlijk fundamentele vragen bezig daarom lijkt passend kamer enige aandacht ontwerp geeft het uitbreiden openbaarheid uitbreiden afleggen verantwoording inlichtingen geven liberaal principe toejuichen tenminste verwant voelt thorbecke dat huidige liberalen hoge mate toch erkennen allerlei problemen rijzen vandaar minister sprak fundamentele vragen aan wetsontwer p uitbreiding verantwoordingsplichten liggen immers geheel opvattingen ten grondslag voorbeeld begrip medebewin d zelfbestuur indertijd makers provinciale wet later provinciewet huldigden dat geeft allicht moeilijkheden de eerste moeilijkheden rijzen commissaris koningin ik vind aardig heer boukema eraan herinnert grootvader janus twee aangez […tronqué]”\n"
     ]
    }
   ],
   "source": [
    "githubURL <- (\"https://github.com/MilanvanL/jdh001-9HcfToh7EYm8/raw/main/data/stuff.RDS\")\n",
    "download.file(githubURL, \"stuff.RDS\")\n",
    "files2 <- readRDS(\"stuff.RDS\")"
   ]
  },
  {
   "cell_type": "markdown",
   "metadata": {},
   "source": [
    "Train word2vec model --------------------------------------------------"
   ]
  },
  {
   "cell_type": "markdown",
   "metadata": {},
   "source": [
    "Train party specific models ---------------------------------------------"
   ]
  },
  {
   "cell_type": "code",
   "execution_count": 47,
   "metadata": {},
   "outputs": [],
   "source": [
    "# CPN\n",
    "# Subset specific year, set as character vector to serve as input for word2vec package\n",
    "files2 %>%\n",
    "  filter(str_detect(doc_id, \"cpn\")) -> cpn.7075"
   ]
  },
  {
   "cell_type": "code",
   "execution_count": 48,
   "metadata": {},
   "outputs": [],
   "source": [
    "# set as character\n",
    "cpn.7075 <- as.character(cpn.7075$text)"
   ]
  },
  {
   "cell_type": "code",
   "execution_count": 49,
   "metadata": {},
   "outputs": [
    {
     "name": "stderr",
     "output_type": "stream",
     "text": [
      "Warning message in writeLines(text = x, con = filehandle_train):\n",
      "“chaîne de caractères incorrecte dans la conversion de la sortie”\n"
     ]
    }
   ],
   "source": [
    "# train model\n",
    "# train word2vec\n",
    "model.cpn.7075 <- word2vec(x = cpn.7075, min_count = 5, threads = 4, type = 'skip-gram', dim = 100, iter = 20 )"
   ]
  },
  {
   "cell_type": "code",
   "execution_count": 50,
   "metadata": {},
   "outputs": [],
   "source": [
    "# create matrix\n",
    "emb.cpn.7075 <- as.matrix(model.cpn.7075)"
   ]
  },
  {
   "cell_type": "markdown",
   "metadata": {},
   "source": [
    "VVD"
   ]
  },
  {
   "cell_type": "code",
   "execution_count": 51,
   "metadata": {},
   "outputs": [],
   "source": [
    "# Subset specific year, set as character vector to serve as input for word2vec package\n",
    "files2 %>%\n",
    "  filter(str_detect(doc_id, \"vvd\")) -> vvd.7075"
   ]
  },
  {
   "cell_type": "code",
   "execution_count": 52,
   "metadata": {},
   "outputs": [],
   "source": [
    "# set as character\n",
    "vvd.7075 <- as.character(vvd.7075$text)"
   ]
  },
  {
   "cell_type": "code",
   "execution_count": 53,
   "metadata": {},
   "outputs": [
    {
     "name": "stderr",
     "output_type": "stream",
     "text": [
      "Warning message in writeLines(text = x, con = filehandle_train):\n",
      "“chaîne de caractères incorrecte dans la conversion de la sortie”\n",
      "Warning message in writeLines(text = x, con = filehandle_train):\n",
      "“chaîne de caractères incorrecte dans la conversion de la sortie”\n",
      "Warning message in writeLines(text = x, con = filehandle_train):\n",
      "“chaîne de caractères incorrecte dans la conversion de la sortie”\n",
      "Warning message in writeLines(text = x, con = filehandle_train):\n",
      "“chaîne de caractères incorrecte dans la conversion de la sortie”\n",
      "Warning message in writeLines(text = x, con = filehandle_train):\n",
      "“chaîne de caractères incorrecte dans la conversion de la sortie”\n"
     ]
    }
   ],
   "source": [
    "# train model\n",
    "# train word2vec\n",
    "model.vvd.7075 <- word2vec(x = vvd.7075, min_count = 5, threads = 4, type = 'skip-gram', dim = 100)"
   ]
  },
  {
   "cell_type": "code",
   "execution_count": 54,
   "metadata": {},
   "outputs": [],
   "source": [
    "# create matrix\n",
    "emb.vvd.7075 <- as.matrix(model.vvd.7075)"
   ]
  },
  {
   "cell_type": "markdown",
   "metadata": {},
   "source": [
    "PvdA"
   ]
  },
  {
   "cell_type": "code",
   "execution_count": 55,
   "metadata": {},
   "outputs": [],
   "source": [
    "# Subset specific year, set as character vector to serve as input for word2vec package\n",
    "files2 %>%\n",
    "  filter(str_detect(doc_id, \"pvda\")) -> pvda.7075"
   ]
  },
  {
   "cell_type": "code",
   "execution_count": 56,
   "metadata": {},
   "outputs": [],
   "source": [
    "# set as character\n",
    "pvda.7075 <- as.character(pvda.7075$text)"
   ]
  },
  {
   "cell_type": "code",
   "execution_count": 57,
   "metadata": {},
   "outputs": [
    {
     "name": "stderr",
     "output_type": "stream",
     "text": [
      "Warning message in writeLines(text = x, con = filehandle_train):\n",
      "“chaîne de caractères incorrecte dans la conversion de la sortie”\n",
      "Warning message in writeLines(text = x, con = filehandle_train):\n",
      "“chaîne de caractères incorrecte dans la conversion de la sortie”\n",
      "Warning message in writeLines(text = x, con = filehandle_train):\n",
      "“chaîne de caractères incorrecte dans la conversion de la sortie”\n",
      "Warning message in writeLines(text = x, con = filehandle_train):\n",
      "“chaîne de caractères incorrecte dans la conversion de la sortie”\n"
     ]
    }
   ],
   "source": [
    "# train model\n",
    "# train word2vec\n",
    "model.pvda.7075 <- word2vec(x = pvda.7075, min_count = 5, threads = 4, type = 'skip-gram', dim = 100)"
   ]
  },
  {
   "cell_type": "code",
   "execution_count": 58,
   "metadata": {},
   "outputs": [],
   "source": [
    "# create matrix\n",
    "emb.pvda.7075 <- as.matrix(model.pvda.7075)"
   ]
  },
  {
   "cell_type": "code",
   "execution_count": 59,
   "metadata": {},
   "outputs": [],
   "source": [
    "# CDA\n",
    "# Subset specific year, set as character vector to serve as input for word2vec package\n",
    "files2 %>%\n",
    "  filter(str_detect(doc_id, \"cda\")) -> cda.7075"
   ]
  },
  {
   "cell_type": "code",
   "execution_count": 60,
   "metadata": {},
   "outputs": [],
   "source": [
    "# set as character\n",
    "cda.7075 <- as.character(cda.7075$text)"
   ]
  },
  {
   "cell_type": "code",
   "execution_count": 61,
   "metadata": {},
   "outputs": [],
   "source": [
    "# train model\n",
    "# train word2vec\n",
    "model.cda.7075 <- word2vec(x = cda.7075, min_count = 5, threads = 4, type = 'skip-gram', dim = 100)"
   ]
  },
  {
   "cell_type": "code",
   "execution_count": 62,
   "metadata": {},
   "outputs": [],
   "source": [
    "# create matrix\n",
    "emb.cda.7075 <- as.matrix(model.cda.7075)"
   ]
  },
  {
   "cell_type": "markdown",
   "metadata": {},
   "source": [
    "Training complete, go to analysis in next script 2_analyse_plot_7075_parties.R (see below)"
   ]
  },
  {
   "cell_type": "markdown",
   "metadata": {},
   "source": [
    "Script 2 \n",
    "This script analyses and plots the data prepared in 1_load_train.R\n",
    "Dialects of Discord, Milan van Lange and Ralf Futselaar, 2021"
   ]
  },
  {
   "cell_type": "markdown",
   "metadata": {},
   "source": [
    "Create variables per party ----------------------------------------------------------------"
   ]
  },
  {
   "cell_type": "code",
   "execution_count": 63,
   "metadata": {},
   "outputs": [],
   "source": [
    "# Create the word lists (they are generic as they are not party-specific)\n",
    "words.weapon <-  c(\"kernwapen\", \"kernwapens\", \"atoomwapen\", \"atoomwapens\", \"kruisraket\", \"kruisraketten\", \"kruisvluchtwapen\", \"kruisvluchtwapens\", \"lanceraket\", \"lanceraketten\", \"navokernwapen\", \"navokernwapens\" )\n",
    "words.prol <- c(\"afschrikking\",  \"tactischnucleaire\",  \"proliferatieverdrag\",  \"strategischnucleaire\", \"proliferatie\", \"afschrikkingsevenwicht\",  \"afschrikkingsstrategie\", \"atoomparaplu\", \"waarborgenstelsel\", \"kernwapenstrategie\" , \"afschrikwekkende\", \"afschrikkingstheorie\", \"deterrent\", \"afschrikkingsfunctie\", \"afschrikkingspolitiek\", \"afschrikkingsrol\", \"afschrikkingswapen\", \"afschrikkingswapens\", \"afschrikkingsmacht\") \n",
    "words.nonprol <- c(\"ontwapening\", \"nonproliferatieverdrag\", \"kernwapenvrije\", \"kernwapenvrij\", \"denuclearisatie\", \"atoomvrije\", \"nonproliferatie\",  \"wapenbeperking\", \"wapenbeheersingsbesprekingen\", \"ontwapeningsbesprekingen\", \"kernstop\", \"ontwapeningsoverleg\", \"denuclearisering\", \"atoomvrij\",   \"gedenucleariseerd\", \"wapenbeheersing\", \"ontwapeningsonderhandelingen\", \"wapenbeheersingsonderhandelingen\", \"wapenvermindering\") "
   ]
  },
  {
   "cell_type": "code",
   "execution_count": 64,
   "metadata": {},
   "outputs": [],
   "source": [
    "# CPN\n",
    "# Create 'kernwapen' vector \n",
    "wv.cpn <- predict(model.cpn.7075, newdata = words.weapon, type = \"embedding\")\n",
    "wv.cpn <- na.omit(wv.cpn)\n",
    "comb.wv.cpn <- colMeans(wv.cpn) # this seems to work good, but there is an alternative approach: comb.wv <- wv[\"kernwapen\", ] + wv[\"kernwapens\", ]  + wv[\"atoomwapens\", ] + wv[\"atoomwapen\", ] #+ wv[\"kruisraket\", ] + wv[\"kruisraketten\", ] + wv[\"kruisvluchtwapen\", ]+ wv[\"kruisvluchtwapens\", ]"
   ]
  },
  {
   "cell_type": "code",
   "execution_count": 65,
   "metadata": {},
   "outputs": [],
   "source": [
    "# Extract 100 nearest neighbours from 'kernwapen' in vector space\n",
    "nns_wv.cpn <- predict(model.cpn.7075, newdata = comb.wv.cpn, type=\"nearest\", top_n=100)\n",
    "vecs_nns_nuc.100.cpn <- emb.cpn.7075[nns_wv.cpn$term,]"
   ]
  },
  {
   "cell_type": "code",
   "execution_count": 66,
   "metadata": {},
   "outputs": [],
   "source": [
    "# Create 'proliferation' vector\n",
    "pv.cpn <- predict(model.cpn.7075, newdata = words.prol, type = \"embedding\")\n",
    "pv.cpn <- na.omit(pv.cpn)\n",
    "comb.pv.cpn <- colMeans(pv.cpn) "
   ]
  },
  {
   "cell_type": "code",
   "execution_count": 67,
   "metadata": {},
   "outputs": [],
   "source": [
    "# Create 'non-proliferation' vector\n",
    "nv.cpn <- predict(model.cpn.7075, newdata = words.nonprol, type = \"embedding\")\n",
    "nv.cpn <- na.omit(nv.cpn)\n",
    "comb.nv.cpn <- colMeans(nv.cpn) "
   ]
  },
  {
   "cell_type": "markdown",
   "metadata": {},
   "source": [
    "Calculate distance (cosine similarity) to plot results  ---------------------------------"
   ]
  },
  {
   "cell_type": "code",
   "execution_count": 68,
   "metadata": {},
   "outputs": [],
   "source": [
    "# Create scores for plotting by comparing vectors of 'kernwapen' and viewpoints\n",
    "score_prol.cpn <- as.data.frame(word2vec_similarity(vecs_nns_nuc.100.cpn, comb.pv.cpn))\n",
    "score_nonprol.cpn <- as.data.frame(word2vec_similarity(vecs_nns_nuc.100.cpn, comb.nv.cpn))"
   ]
  },
  {
   "cell_type": "code",
   "execution_count": 69,
   "metadata": {},
   "outputs": [],
   "source": [
    "# VVD\n",
    "# Create 'kernwapen' vector \n",
    "wv.vvd <- predict(model.vvd.7075, newdata = words.weapon, type = \"embedding\")\n",
    "wv.vvd <- na.omit(wv.vvd)\n",
    "comb.wv.vvd <- colMeans(wv.vvd) # this seems to work good, but there is an alternative approach: comb.wv <- wv[\"kernwapen\", ] + wv[\"kernwapens\", ]  + wv[\"atoomwapens\", ] + wv[\"atoomwapen\", ] #+ wv[\"kruisraket\", ] + wv[\"kruisraketten\", ] + wv[\"kruisvluchtwapen\", ]+ wv[\"kruisvluchtwapens\", ]"
   ]
  },
  {
   "cell_type": "code",
   "execution_count": 70,
   "metadata": {},
   "outputs": [],
   "source": [
    "# Extract 100 nearest neighbours from 'kernwapen' in vector space\n",
    "nns_wv.vvd <- predict(model.vvd.7075, newdata = comb.wv.vvd, type=\"nearest\", top_n=100)\n",
    "vecs_nns_nuc.100.vvd <- emb.vvd.7075[nns_wv.vvd$term,]"
   ]
  },
  {
   "cell_type": "code",
   "execution_count": 71,
   "metadata": {},
   "outputs": [],
   "source": [
    "# Create 'proliferation' vector\n",
    "pv.vvd <- predict(model.vvd.7075, newdata = words.prol, type = \"embedding\")\n",
    "pv.vvd <- na.omit(pv.vvd)\n",
    "comb.pv.vvd <- colMeans(pv.vvd) "
   ]
  },
  {
   "cell_type": "code",
   "execution_count": 72,
   "metadata": {},
   "outputs": [],
   "source": [
    "# Create 'non-proliferation' vector\n",
    "nv.vvd <- predict(model.vvd.7075, newdata = words.nonprol, type = \"embedding\")\n",
    "nv.vvd <- na.omit(nv.vvd)\n",
    "comb.nv.vvd <- colMeans(nv.vvd) "
   ]
  },
  {
   "cell_type": "markdown",
   "metadata": {},
   "source": [
    "Calculate distance (cosine similarity) to plot results  ---------------------------------"
   ]
  },
  {
   "cell_type": "code",
   "execution_count": 73,
   "metadata": {},
   "outputs": [],
   "source": [
    "# Create scores for plotting by comparing vectors of 'kernwapen' and viewpoints\n",
    "score_prol.vvd <- as.data.frame(word2vec_similarity(vecs_nns_nuc.100.vvd, comb.pv.vvd))\n",
    "score_nonprol.vvd <- as.data.frame(word2vec_similarity(vecs_nns_nuc.100.vvd, comb.nv.vvd))"
   ]
  },
  {
   "cell_type": "code",
   "execution_count": 74,
   "metadata": {},
   "outputs": [],
   "source": [
    "# PvdA\n",
    "# Create 'kernwapen' vector \n",
    "wv.pvda <- predict(model.pvda.7075, newdata = words.weapon, type = \"embedding\")\n",
    "wv.pvda <- na.omit(wv.pvda)\n",
    "comb.wv.pvda <- colMeans(wv.pvda) # this seems to work good, but there is an alternative approach: comb.wv <- wv[\"kernwapen\", ] + wv[\"kernwapens\", ]  + wv[\"atoomwapens\", ] + wv[\"atoomwapen\", ] #+ wv[\"kruisraket\", ] + wv[\"kruisraketten\", ] + wv[\"kruisvluchtwapen\", ]+ wv[\"kruisvluchtwapens\", ]"
   ]
  },
  {
   "cell_type": "code",
   "execution_count": 75,
   "metadata": {},
   "outputs": [],
   "source": [
    "# Extract 100 nearest neighbours from 'kernwapen' in vector space\n",
    "nns_wv.pvda <- predict(model.pvda.7075, newdata = comb.wv.pvda, type=\"nearest\", top_n=100)\n",
    "vecs_nns_nuc.100.pvda <- emb.pvda.7075[nns_wv.pvda$term,]"
   ]
  },
  {
   "cell_type": "code",
   "execution_count": 76,
   "metadata": {},
   "outputs": [],
   "source": [
    "# Create 'proliferation' vector\n",
    "pv.pvda <- predict(model.pvda.7075, newdata = words.prol, type = \"embedding\")\n",
    "pv.pvda <- na.omit(pv.pvda)\n",
    "comb.pv.pvda <- colMeans(pv.pvda) "
   ]
  },
  {
   "cell_type": "code",
   "execution_count": 77,
   "metadata": {},
   "outputs": [],
   "source": [
    "# Create 'non-proliferation' vector\n",
    "nv.pvda <- predict(model.pvda.7075, newdata = words.nonprol, type = \"embedding\")\n",
    "nv.pvda <- na.omit(nv.pvda)\n",
    "comb.nv.pvda <- colMeans(nv.pvda) "
   ]
  },
  {
   "cell_type": "markdown",
   "metadata": {},
   "source": [
    "Calculate distance (cosine similarity) to plot results  ---------------------------------"
   ]
  },
  {
   "cell_type": "code",
   "execution_count": 78,
   "metadata": {},
   "outputs": [],
   "source": [
    "# Create scores for plotting by comparing vectors of 'kernwapen' and viewpoints\n",
    "score_prol.pvda <- as.data.frame(word2vec_similarity(vecs_nns_nuc.100.pvda, comb.pv.pvda))\n",
    "score_nonprol.pvda <- as.data.frame(word2vec_similarity(vecs_nns_nuc.100.pvda, comb.nv.pvda))"
   ]
  },
  {
   "cell_type": "code",
   "execution_count": 79,
   "metadata": {},
   "outputs": [],
   "source": [
    "# CDA\n",
    "# Create 'kernwapen' vector \n",
    "wv.cda <- predict(model.cda.7075, newdata = words.weapon, type = \"embedding\")\n",
    "wv.cda <- na.omit(wv.cda)\n",
    "comb.wv.cda <- colMeans(wv.cda) # this seems to work good, but there is an alternative approach: comb.wv <- wv[\"kernwapen\", ] + wv[\"kernwapens\", ]  + wv[\"atoomwapens\", ] + wv[\"atoomwapen\", ] #+ wv[\"kruisraket\", ] + wv[\"kruisraketten\", ] + wv[\"kruisvluchtwapen\", ]+ wv[\"kruisvluchtwapens\", ]"
   ]
  },
  {
   "cell_type": "code",
   "execution_count": 80,
   "metadata": {},
   "outputs": [],
   "source": [
    "# Extract 100 nearest neighbours from 'kernwapen' in vector space\n",
    "nns_wv.cda <- predict(model.cda.7075, newdata = comb.wv.cda, type=\"nearest\", top_n=100)\n",
    "vecs_nns_nuc.100.cda <- emb.cda.7075[nns_wv.cda$term,]"
   ]
  },
  {
   "cell_type": "code",
   "execution_count": 81,
   "metadata": {},
   "outputs": [],
   "source": [
    "# Create 'proliferation' vector\n",
    "pv.cda <- predict(model.cda.7075, newdata = words.prol, type = \"embedding\")\n",
    "pv.cda <- na.omit(pv.cda)\n",
    "comb.pv.cda <- colMeans(pv.cda) "
   ]
  },
  {
   "cell_type": "code",
   "execution_count": 82,
   "metadata": {},
   "outputs": [],
   "source": [
    "# Create 'non-proliferation' vector\n",
    "nv.cda <- predict(model.cda.7075, newdata = words.nonprol, type = \"embedding\")\n",
    "nv.cda <- na.omit(nv.cda)\n",
    "comb.nv.cda <- colMeans(nv.cda) "
   ]
  },
  {
   "cell_type": "code",
   "execution_count": 83,
   "metadata": {},
   "outputs": [],
   "source": [
    "# Calculate distance (cosine similarity) to plot results  ---------------------------------\n",
    "# Create scores for plotting by comparing vectors of 'kernwapen' and viewpoints\n",
    "score_prol.cda <- as.data.frame(word2vec_similarity(vecs_nns_nuc.100.cda, comb.pv.cda))\n",
    "score_nonprol.cda <- as.data.frame(word2vec_similarity(vecs_nns_nuc.100.cda, comb.nv.cda))"
   ]
  },
  {
   "cell_type": "markdown",
   "metadata": {},
   "source": [
    "Plotting ----------------------------------------------------------------"
   ]
  },
  {
   "cell_type": "code",
   "execution_count": 84,
   "metadata": {},
   "outputs": [],
   "source": [
    "setwd(here(\"output\"))"
   ]
  },
  {
   "cell_type": "code",
   "execution_count": 85,
   "metadata": {},
   "outputs": [],
   "source": [
    "pdf('plot_7075_parties.pdf', width=8, height=8)"
   ]
  },
  {
   "cell_type": "code",
   "execution_count": 86,
   "metadata": {},
   "outputs": [
    {
     "data": {
      "image/png": "[encoded data removed]",
      "text/plain": [
       "Plot with title “\n",
       "     Party-specific nuclear weapon vocabularies plotted by their\n",
       "     similarity to proliferation words(x) and non-proliferation words(y) 1970-1975”"
      ]
     },
     "metadata": {
      "image/png": {
       "height": 420,
       "width": 420
      }
     },
     "output_type": "display_data"
    }
   ],
   "source": [
    "plot(score_prol.pvda$V1, score_nonprol.pvda$V1,ylim=c(0, 1.0), xlim=c(0,1.0), xlab = \"Proliferation\", ylab = 'Non-proliferation',\n",
    "type='p', pch=16, col=c(\"blue\"),\n",
    "main=\"\n",
    "     Party-specific nuclear weapon vocabularies plotted by their\n",
    "     similarity to proliferation words(x) and non-proliferation words(y) 1970-1975\")\n",
    "points(score_prol.cpn$V1, score_nonprol.cpn$V1, pch=16, col=c(\"red\"))\n",
    "points(score_prol.vvd$V1, score_nonprol.vvd$V1, pch=16, col=c(\"black\"))\n",
    "#points(score_prol.cda$V1, score_nonprol.cda$V1, pch=16, col=c(\"green\"))\n",
    "abline(a=0,b=1)\n",
    "legend('bottomright', legend=c(\"CPN\", \"VVD\", \"PvdA\"),\n",
    "       col=c(\"red\", \"black\", \"blue\"), lwd=11, cex=0.8)"
   ]
  },
  {
   "cell_type": "code",
   "execution_count": 87,
   "metadata": {
    "lines_to_next_cell": 2
   },
   "outputs": [
    {
     "data": {
      "text/html": [
       "<strong>pdf:</strong> 3"
      ],
      "text/latex": [
       "\\textbf{pdf:} 3"
      ],
      "text/markdown": [
       "**pdf:** 3"
      ],
      "text/plain": [
       "pdf \n",
       "  3 "
      ]
     },
     "metadata": {},
     "output_type": "display_data"
    }
   ],
   "source": [
    "#turn off\n",
    "dev.off()"
   ]
  },
  {
   "cell_type": "markdown",
   "metadata": {},
   "source": [
    "The End "
   ]
  },
  {
   "cell_type": "code",
   "execution_count": null,
   "metadata": {
    "lines_to_next_cell": 2
   },
   "outputs": [],
   "source": []
  },
  {
   "cell_type": "code",
   "execution_count": null,
   "metadata": {},
   "outputs": [],
   "source": []
  }
 ],
 "metadata": {
  "jupytext": {
   "cell_metadata_filter": "-all",
   "notebook_metadata_filter": "-all",
   "text_representation": {
    "extension": ".R",
    "format_name": "light"
   }
  },
  "kernelspec": {
   "display_name": "R",
   "language": "R",
   "name": "ir"
  },
  "language_info": {
   "codemirror_mode": "r",
   "file_extension": ".r",
   "mimetype": "text/x-r-source",
   "name": "R",
   "pygments_lexer": "r",
   "version": "4.1.1"
  },
  "toc": {
   "base_numbering": 1,
   "nav_menu": {},
   "number_sections": true,
   "sideBar": true,
   "skip_h1_title": false,
   "title_cell": "Table of Contents",
   "title_sidebar": "Contents",
   "toc_cell": false,
   "toc_position": {},
   "toc_section_display": true,
   "toc_window_display": false
  }
 },
 "nbformat": 4,
 "nbformat_minor": 4
}
