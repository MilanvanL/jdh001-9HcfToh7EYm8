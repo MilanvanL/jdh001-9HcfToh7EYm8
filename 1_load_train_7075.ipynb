{
 "cells": [
  {
   "cell_type": "markdown",
   "metadata": {},
   "source": [
    "This script tries to use Word2Vec technique on Handelingen data\n",
    "For Dialects of Discord on the party level\n",
    "Milan van Lange, June 2021"
   ]
  },
  {
   "cell_type": "code",
   "execution_count": 1,
   "metadata": {},
   "outputs": [
    {
     "name": "stderr",
     "output_type": "stream",
     "text": [
      "Le chargement a nécessité le package : NLP\n",
      "\n",
      "Skipping install of 'word2vec' from a github remote, the SHA1 (12b015e5) has not changed since last install.\n",
      "  Use `force = TRUE` to force installation\n",
      "\n",
      "Le chargement a nécessité le package : qdapDictionaries\n",
      "\n",
      "Le chargement a nécessité le package : qdapRegex\n",
      "\n",
      "Le chargement a nécessité le package : qdapTools\n",
      "\n",
      "Le chargement a nécessité le package : RColorBrewer\n",
      "\n",
      "\n",
      "Attachement du package : ‘qdap’\n",
      "\n",
      "\n",
      "Les objets suivants sont masqués depuis ‘package:tm’:\n",
      "\n",
      "    as.DocumentTermMatrix, as.TermDocumentMatrix\n",
      "\n",
      "\n",
      "L'objet suivant est masqué depuis ‘package:NLP’:\n",
      "\n",
      "    ngrams\n",
      "\n",
      "\n",
      "Les objets suivants sont masqués depuis ‘package:base’:\n",
      "\n",
      "    Filter, proportions\n",
      "\n",
      "\n",
      "\n",
      "Attachement du package : ‘dplyr’\n",
      "\n",
      "\n",
      "L'objet suivant est masqué depuis ‘package:qdapTools’:\n",
      "\n",
      "    id\n",
      "\n",
      "\n",
      "L'objet suivant est masqué depuis ‘package:qdapRegex’:\n",
      "\n",
      "    explain\n",
      "\n",
      "\n",
      "Les objets suivants sont masqués depuis ‘package:stats’:\n",
      "\n",
      "    filter, lag\n",
      "\n",
      "\n",
      "Les objets suivants sont masqués depuis ‘package:base’:\n",
      "\n",
      "    intersect, setdiff, setequal, union\n",
      "\n",
      "\n",
      "here() starts at /Users/elisabeth.guerard/Desktop/JDH001/jdh001-9HcfToh7EYm8-missile\n",
      "\n"
     ]
    }
   ],
   "source": [
    "library(magrittr)\n",
    "library(tm)\n",
    "remotes::install_github(\"bnosac/word2vec\")\n",
    "library(word2vec)\n",
    "library(XML)\n",
    "library(qdap)\n",
    "library(stringr)\n",
    "library(dplyr)\n",
    "library(readtext)\n",
    "library(here)"
   ]
  },
  {
   "cell_type": "markdown",
   "metadata": {},
   "source": [
    "Load the text data\n",
    "Pre-processed .txt files are used (without interpunction, stowords removed, all letters to lower case, etc.)"
   ]
  },
  {
   "cell_type": "code",
   "execution_count": 3,
   "metadata": {},
   "outputs": [
    {
     "ename": "ERROR",
     "evalue": "Error in readRDS(\"parl_texts_7075b.RDS\"): erreur de lecture de la connexion\n",
     "output_type": "error",
     "traceback": [
      "Error in readRDS(\"parl_texts_7075b.RDS\"): erreur de lecture de la connexion\nTraceback:\n",
      "1. readRDS(\"parl_texts_7075b.RDS\")"
     ]
    }
   ],
   "source": [
    "githubURL <- (\"https://github.com/MilanvanL/jdh001-9HcfToh7EYm8/raw/main/data/parl_texts_7075b.RDS\")\n",
    "download.file(githubURL,destfile=\"parl_texts_7075b.RDS\")\n",
    "files2 <- readRDS(\"parl_texts_7075b.RDS\")"
   ]
  },
  {
   "cell_type": "markdown",
   "metadata": {},
   "source": [
    "Train word2vec model --------------------------------------------------"
   ]
  },
  {
   "cell_type": "markdown",
   "metadata": {},
   "source": [
    "Train party specific models ---------------------------------------------"
   ]
  },
  {
   "cell_type": "code",
   "execution_count": null,
   "metadata": {},
   "outputs": [],
   "source": [
    "# CPN\n",
    "# Subset specific year, set as character vector to serve as input for word2vec package\n",
    "files2 %>%\n",
    "  filter(str_detect(doc_id, \"cpn\")) -> cpn.7075"
   ]
  },
  {
   "cell_type": "code",
   "execution_count": null,
   "metadata": {},
   "outputs": [],
   "source": [
    "# set as character\n",
    "cpn.7075 <- as.character(cpn.7075$text)"
   ]
  },
  {
   "cell_type": "code",
   "execution_count": null,
   "metadata": {},
   "outputs": [],
   "source": [
    "# train model\n",
    "# train word2vec\n",
    "model.cpn.7075 <- word2vec(x = cpn.7075, min_count = 5, threads = 4, type = 'skip-gram', dim = 100, iter = 20 )"
   ]
  },
  {
   "cell_type": "code",
   "execution_count": null,
   "metadata": {},
   "outputs": [],
   "source": [
    "# create matrix\n",
    "emb.cpn.7075 <- as.matrix(model.cpn.7075)"
   ]
  },
  {
   "cell_type": "markdown",
   "metadata": {},
   "source": [
    "VVD"
   ]
  },
  {
   "cell_type": "code",
   "execution_count": null,
   "metadata": {},
   "outputs": [],
   "source": [
    "# Subset specific year, set as character vector to serve as input for word2vec package\n",
    "files2 %>%\n",
    "  filter(str_detect(doc_id, \"vvd\")) -> vvd.7075"
   ]
  },
  {
   "cell_type": "code",
   "execution_count": null,
   "metadata": {},
   "outputs": [],
   "source": [
    "# set as character\n",
    "vvd.7075 <- as.character(vvd.7075$text)"
   ]
  },
  {
   "cell_type": "code",
   "execution_count": null,
   "metadata": {},
   "outputs": [],
   "source": [
    "# train model\n",
    "# train word2vec\n",
    "model.vvd.7075 <- word2vec(x = vvd.7075, min_count = 5, threads = 4, type = 'skip-gram', dim = 100)"
   ]
  },
  {
   "cell_type": "code",
   "execution_count": null,
   "metadata": {},
   "outputs": [],
   "source": [
    "# create matrix\n",
    "emb.vvd.7075 <- as.matrix(model.vvd.7075)"
   ]
  },
  {
   "cell_type": "markdown",
   "metadata": {},
   "source": [
    "PvdA"
   ]
  },
  {
   "cell_type": "code",
   "execution_count": null,
   "metadata": {},
   "outputs": [],
   "source": [
    "# Subset specific year, set as character vector to serve as input for word2vec package\n",
    "files2 %>%\n",
    "  filter(str_detect(doc_id, \"pvda\")) -> pvda.7075"
   ]
  },
  {
   "cell_type": "code",
   "execution_count": null,
   "metadata": {},
   "outputs": [],
   "source": [
    "# set as character\n",
    "pvda.7075 <- as.character(pvda.7075$text)"
   ]
  },
  {
   "cell_type": "code",
   "execution_count": null,
   "metadata": {},
   "outputs": [],
   "source": [
    "# train model\n",
    "# train word2vec\n",
    "model.pvda.7075 <- word2vec(x = pvda.7075, min_count = 5, threads = 4, type = 'skip-gram', dim = 100)"
   ]
  },
  {
   "cell_type": "code",
   "execution_count": null,
   "metadata": {},
   "outputs": [],
   "source": [
    "# create matrix\n",
    "emb.pvda.7075 <- as.matrix(model.pvda.7075)"
   ]
  },
  {
   "cell_type": "code",
   "execution_count": null,
   "metadata": {},
   "outputs": [],
   "source": [
    "# CDA\n",
    "# Subset specific year, set as character vector to serve as input for word2vec package\n",
    "files2 %>%\n",
    "  filter(str_detect(doc_id, \"cda\")) -> cda.7075"
   ]
  },
  {
   "cell_type": "code",
   "execution_count": null,
   "metadata": {},
   "outputs": [],
   "source": [
    "# set as character\n",
    "cda.7075 <- as.character(cda.7075$text)"
   ]
  },
  {
   "cell_type": "code",
   "execution_count": null,
   "metadata": {},
   "outputs": [],
   "source": [
    "# train model\n",
    "# train word2vec\n",
    "model.cda.7075 <- word2vec(x = cda.7075, min_count = 5, threads = 4, type = 'skip-gram', dim = 100)"
   ]
  },
  {
   "cell_type": "code",
   "execution_count": null,
   "metadata": {},
   "outputs": [],
   "source": [
    "# create matrix\n",
    "emb.cda.7075 <- as.matrix(model.cda.7075)"
   ]
  },
  {
   "cell_type": "markdown",
   "metadata": {},
   "source": [
    "Training complete, go to analysis in next script 2_analyse_plot_7075_parties.R (see below)"
   ]
  },
  {
   "cell_type": "markdown",
   "metadata": {},
   "source": [
    "Script 2 \n",
    "This script analyses and plots the data prepared in 1_load_train.R\n",
    "Dialects of Discord, Milan van Lange and Ralf Futselaar, 2021"
   ]
  },
  {
   "cell_type": "markdown",
   "metadata": {},
   "source": [
    "Create variables per party ----------------------------------------------------------------"
   ]
  },
  {
   "cell_type": "code",
   "execution_count": null,
   "metadata": {},
   "outputs": [],
   "source": [
    "# Create the word lists (they are generic as they are not party-specific)\n",
    "words.weapon <-  c(\"kernwapen\", \"kernwapens\", \"atoomwapen\", \"atoomwapens\", \"kruisraket\", \"kruisraketten\", \"kruisvluchtwapen\", \"kruisvluchtwapens\", \"lanceraket\", \"lanceraketten\", \"navokernwapen\", \"navokernwapens\" )\n",
    "words.prol <- c(\"afschrikking\",  \"tactischnucleaire\",  \"proliferatieverdrag\",  \"strategischnucleaire\", \"proliferatie\", \"afschrikkingsevenwicht\",  \"afschrikkingsstrategie\", \"atoomparaplu\", \"waarborgenstelsel\", \"kernwapenstrategie\" , \"afschrikwekkende\", \"afschrikkingstheorie\", \"deterrent\", \"afschrikkingsfunctie\", \"afschrikkingspolitiek\", \"afschrikkingsrol\", \"afschrikkingswapen\", \"afschrikkingswapens\", \"afschrikkingsmacht\") \n",
    "words.nonprol <- c(\"ontwapening\", \"nonproliferatieverdrag\", \"kernwapenvrije\", \"kernwapenvrij\", \"denuclearisatie\", \"atoomvrije\", \"nonproliferatie\",  \"wapenbeperking\", \"wapenbeheersingsbesprekingen\", \"ontwapeningsbesprekingen\", \"kernstop\", \"ontwapeningsoverleg\", \"denuclearisering\", \"atoomvrij\",   \"gedenucleariseerd\", \"wapenbeheersing\", \"ontwapeningsonderhandelingen\", \"wapenbeheersingsonderhandelingen\", \"wapenvermindering\") "
   ]
  },
  {
   "cell_type": "code",
   "execution_count": null,
   "metadata": {},
   "outputs": [],
   "source": [
    "# CPN\n",
    "# Create 'kernwapen' vector \n",
    "wv.cpn <- predict(model.cpn.7075, newdata = words.weapon, type = \"embedding\")\n",
    "wv.cpn <- na.omit(wv.cpn)\n",
    "comb.wv.cpn <- colMeans(wv.cpn) # this seems to work good, but there is an alternative approach: comb.wv <- wv[\"kernwapen\", ] + wv[\"kernwapens\", ]  + wv[\"atoomwapens\", ] + wv[\"atoomwapen\", ] #+ wv[\"kruisraket\", ] + wv[\"kruisraketten\", ] + wv[\"kruisvluchtwapen\", ]+ wv[\"kruisvluchtwapens\", ]"
   ]
  },
  {
   "cell_type": "code",
   "execution_count": null,
   "metadata": {},
   "outputs": [],
   "source": [
    "# Extract 100 nearest neighbours from 'kernwapen' in vector space\n",
    "nns_wv.cpn <- predict(model.cpn.7075, newdata = comb.wv.cpn, type=\"nearest\", top_n=100)\n",
    "vecs_nns_nuc.100.cpn <- emb.cpn.7075[nns_wv.cpn$term,]"
   ]
  },
  {
   "cell_type": "code",
   "execution_count": null,
   "metadata": {},
   "outputs": [],
   "source": [
    "# Create 'proliferation' vector\n",
    "pv.cpn <- predict(model.cpn.7075, newdata = words.prol, type = \"embedding\")\n",
    "pv.cpn <- na.omit(pv.cpn)\n",
    "comb.pv.cpn <- colMeans(pv.cpn) "
   ]
  },
  {
   "cell_type": "code",
   "execution_count": null,
   "metadata": {},
   "outputs": [],
   "source": [
    "# Create 'non-proliferation' vector\n",
    "nv.cpn <- predict(model.cpn.7075, newdata = words.nonprol, type = \"embedding\")\n",
    "nv.cpn <- na.omit(nv.cpn)\n",
    "comb.nv.cpn <- colMeans(nv.cpn) "
   ]
  },
  {
   "cell_type": "markdown",
   "metadata": {},
   "source": [
    "Calculate distance (cosine similarity) to plot results  ---------------------------------"
   ]
  },
  {
   "cell_type": "code",
   "execution_count": null,
   "metadata": {},
   "outputs": [],
   "source": [
    "# Create scores for plotting by comparing vectors of 'kernwapen' and viewpoints\n",
    "score_prol.cpn <- as.data.frame(word2vec_similarity(vecs_nns_nuc.100.cpn, comb.pv.cpn))\n",
    "score_nonprol.cpn <- as.data.frame(word2vec_similarity(vecs_nns_nuc.100.cpn, comb.nv.cpn))"
   ]
  },
  {
   "cell_type": "code",
   "execution_count": null,
   "metadata": {},
   "outputs": [],
   "source": [
    "# VVD\n",
    "# Create 'kernwapen' vector \n",
    "wv.vvd <- predict(model.vvd.7075, newdata = words.weapon, type = \"embedding\")\n",
    "wv.vvd <- na.omit(wv.vvd)\n",
    "comb.wv.vvd <- colMeans(wv.vvd) # this seems to work good, but there is an alternative approach: comb.wv <- wv[\"kernwapen\", ] + wv[\"kernwapens\", ]  + wv[\"atoomwapens\", ] + wv[\"atoomwapen\", ] #+ wv[\"kruisraket\", ] + wv[\"kruisraketten\", ] + wv[\"kruisvluchtwapen\", ]+ wv[\"kruisvluchtwapens\", ]"
   ]
  },
  {
   "cell_type": "code",
   "execution_count": null,
   "metadata": {},
   "outputs": [],
   "source": [
    "# Extract 100 nearest neighbours from 'kernwapen' in vector space\n",
    "nns_wv.vvd <- predict(model.vvd.7075, newdata = comb.wv.vvd, type=\"nearest\", top_n=100)\n",
    "vecs_nns_nuc.100.vvd <- emb.vvd.7075[nns_wv.vvd$term,]"
   ]
  },
  {
   "cell_type": "code",
   "execution_count": null,
   "metadata": {},
   "outputs": [],
   "source": [
    "# Create 'proliferation' vector\n",
    "pv.vvd <- predict(model.vvd.7075, newdata = words.prol, type = \"embedding\")\n",
    "pv.vvd <- na.omit(pv.vvd)\n",
    "comb.pv.vvd <- colMeans(pv.vvd) "
   ]
  },
  {
   "cell_type": "code",
   "execution_count": null,
   "metadata": {},
   "outputs": [],
   "source": [
    "# Create 'non-proliferation' vector\n",
    "nv.vvd <- predict(model.vvd.7075, newdata = words.nonprol, type = \"embedding\")\n",
    "nv.vvd <- na.omit(nv.vvd)\n",
    "comb.nv.vvd <- colMeans(nv.vvd) "
   ]
  },
  {
   "cell_type": "markdown",
   "metadata": {},
   "source": [
    "Calculate distance (cosine similarity) to plot results  ---------------------------------"
   ]
  },
  {
   "cell_type": "code",
   "execution_count": null,
   "metadata": {},
   "outputs": [],
   "source": [
    "# Create scores for plotting by comparing vectors of 'kernwapen' and viewpoints\n",
    "score_prol.vvd <- as.data.frame(word2vec_similarity(vecs_nns_nuc.100.vvd, comb.pv.vvd))\n",
    "score_nonprol.vvd <- as.data.frame(word2vec_similarity(vecs_nns_nuc.100.vvd, comb.nv.vvd))"
   ]
  },
  {
   "cell_type": "code",
   "execution_count": null,
   "metadata": {},
   "outputs": [],
   "source": [
    "# PvdA\n",
    "# Create 'kernwapen' vector \n",
    "wv.pvda <- predict(model.pvda.7075, newdata = words.weapon, type = \"embedding\")\n",
    "wv.pvda <- na.omit(wv.pvda)\n",
    "comb.wv.pvda <- colMeans(wv.pvda) # this seems to work good, but there is an alternative approach: comb.wv <- wv[\"kernwapen\", ] + wv[\"kernwapens\", ]  + wv[\"atoomwapens\", ] + wv[\"atoomwapen\", ] #+ wv[\"kruisraket\", ] + wv[\"kruisraketten\", ] + wv[\"kruisvluchtwapen\", ]+ wv[\"kruisvluchtwapens\", ]"
   ]
  },
  {
   "cell_type": "code",
   "execution_count": null,
   "metadata": {},
   "outputs": [],
   "source": [
    "# Extract 100 nearest neighbours from 'kernwapen' in vector space\n",
    "nns_wv.pvda <- predict(model.pvda.7075, newdata = comb.wv.pvda, type=\"nearest\", top_n=100)\n",
    "vecs_nns_nuc.100.pvda <- emb.pvda.7075[nns_wv.pvda$term,]"
   ]
  },
  {
   "cell_type": "code",
   "execution_count": null,
   "metadata": {},
   "outputs": [],
   "source": [
    "# Create 'proliferation' vector\n",
    "pv.pvda <- predict(model.pvda.7075, newdata = words.prol, type = \"embedding\")\n",
    "pv.pvda <- na.omit(pv.pvda)\n",
    "comb.pv.pvda <- colMeans(pv.pvda) "
   ]
  },
  {
   "cell_type": "code",
   "execution_count": null,
   "metadata": {},
   "outputs": [],
   "source": [
    "# Create 'non-proliferation' vector\n",
    "nv.pvda <- predict(model.pvda.7075, newdata = words.nonprol, type = \"embedding\")\n",
    "nv.pvda <- na.omit(nv.pvda)\n",
    "comb.nv.pvda <- colMeans(nv.pvda) "
   ]
  },
  {
   "cell_type": "markdown",
   "metadata": {},
   "source": [
    "Calculate distance (cosine similarity) to plot results  ---------------------------------"
   ]
  },
  {
   "cell_type": "code",
   "execution_count": null,
   "metadata": {},
   "outputs": [],
   "source": [
    "# Create scores for plotting by comparing vectors of 'kernwapen' and viewpoints\n",
    "score_prol.pvda <- as.data.frame(word2vec_similarity(vecs_nns_nuc.100.pvda, comb.pv.pvda))\n",
    "score_nonprol.pvda <- as.data.frame(word2vec_similarity(vecs_nns_nuc.100.pvda, comb.nv.pvda))"
   ]
  },
  {
   "cell_type": "code",
   "execution_count": null,
   "metadata": {},
   "outputs": [],
   "source": [
    "# CDA\n",
    "# Create 'kernwapen' vector \n",
    "wv.cda <- predict(model.cda.7075, newdata = words.weapon, type = \"embedding\")\n",
    "wv.cda <- na.omit(wv.cda)\n",
    "comb.wv.cda <- colMeans(wv.cda) # this seems to work good, but there is an alternative approach: comb.wv <- wv[\"kernwapen\", ] + wv[\"kernwapens\", ]  + wv[\"atoomwapens\", ] + wv[\"atoomwapen\", ] #+ wv[\"kruisraket\", ] + wv[\"kruisraketten\", ] + wv[\"kruisvluchtwapen\", ]+ wv[\"kruisvluchtwapens\", ]"
   ]
  },
  {
   "cell_type": "code",
   "execution_count": null,
   "metadata": {},
   "outputs": [],
   "source": [
    "# Extract 100 nearest neighbours from 'kernwapen' in vector space\n",
    "nns_wv.cda <- predict(model.cda.7075, newdata = comb.wv.cda, type=\"nearest\", top_n=100)\n",
    "vecs_nns_nuc.100.cda <- emb.cda.7075[nns_wv.cda$term,]"
   ]
  },
  {
   "cell_type": "code",
   "execution_count": null,
   "metadata": {},
   "outputs": [],
   "source": [
    "# Create 'proliferation' vector\n",
    "pv.cda <- predict(model.cda.7075, newdata = words.prol, type = \"embedding\")\n",
    "pv.cda <- na.omit(pv.cda)\n",
    "comb.pv.cda <- colMeans(pv.cda) "
   ]
  },
  {
   "cell_type": "code",
   "execution_count": null,
   "metadata": {},
   "outputs": [],
   "source": [
    "# Create 'non-proliferation' vector\n",
    "nv.cda <- predict(model.cda.7075, newdata = words.nonprol, type = \"embedding\")\n",
    "nv.cda <- na.omit(nv.cda)\n",
    "comb.nv.cda <- colMeans(nv.cda) "
   ]
  },
  {
   "cell_type": "code",
   "execution_count": null,
   "metadata": {},
   "outputs": [],
   "source": [
    "# Calculate distance (cosine similarity) to plot results  ---------------------------------\n",
    "# Create scores for plotting by comparing vectors of 'kernwapen' and viewpoints\n",
    "score_prol.cda <- as.data.frame(word2vec_similarity(vecs_nns_nuc.100.cda, comb.pv.cda))\n",
    "score_nonprol.cda <- as.data.frame(word2vec_similarity(vecs_nns_nuc.100.cda, comb.nv.cda))"
   ]
  },
  {
   "cell_type": "markdown",
   "metadata": {},
   "source": [
    "Plotting ----------------------------------------------------------------"
   ]
  },
  {
   "cell_type": "code",
   "execution_count": null,
   "metadata": {},
   "outputs": [],
   "source": [
    "setwd(here(\"output\"))"
   ]
  },
  {
   "cell_type": "code",
   "execution_count": null,
   "metadata": {},
   "outputs": [],
   "source": [
    "pdf('plot_7075_parties.pdf', width=8, height=8)"
   ]
  },
  {
   "cell_type": "code",
   "execution_count": null,
   "metadata": {},
   "outputs": [],
   "source": [
    "plot(score_prol.pvda$V1, score_nonprol.pvda$V1,ylim=c(0, 1.0), xlim=c(0,1.0), xlab = \"Proliferation\", ylab = 'Non-proliferation',\n",
    "type='p', pch=16, col=c(\"blue\"),\n",
    "main=\"\n",
    "     Party-specific nuclear weapon vocabularies plotted by their\n",
    "     similarity to proliferation words(x) and non-proliferation words(y) 1970-1975\")\n",
    "points(score_prol.cpn$V1, score_nonprol.cpn$V1, pch=16, col=c(\"red\"))\n",
    "points(score_prol.vvd$V1, score_nonprol.vvd$V1, pch=16, col=c(\"black\"))\n",
    "#points(score_prol.cda$V1, score_nonprol.cda$V1, pch=16, col=c(\"green\"))\n",
    "abline(a=0,b=1)\n",
    "legend('bottomright', legend=c(\"CPN\", \"VVD\", \"PvdA\"),\n",
    "       col=c(\"red\", \"black\", \"blue\"), lwd=11, cex=0.8)"
   ]
  },
  {
   "cell_type": "code",
   "execution_count": null,
   "metadata": {
    "lines_to_next_cell": 2
   },
   "outputs": [],
   "source": [
    "#turn off\n",
    "dev.off()"
   ]
  },
  {
   "cell_type": "markdown",
   "metadata": {},
   "source": [
    "The End "
   ]
  },
  {
   "cell_type": "code",
   "execution_count": null,
   "metadata": {
    "lines_to_next_cell": 2
   },
   "outputs": [],
   "source": []
  }
 ],
 "metadata": {
  "jupytext": {
   "cell_metadata_filter": "-all",
   "notebook_metadata_filter": "-all",
   "text_representation": {
    "extension": ".R",
    "format_name": "light"
   }
  },
  "kernelspec": {
   "display_name": "R",
   "language": "R",
   "name": "ir"
  },
  "language_info": {
   "codemirror_mode": "r",
   "file_extension": ".r",
   "mimetype": "text/x-r-source",
   "name": "R",
   "pygments_lexer": "r",
   "version": "4.1.1"
  },
  "toc": {
   "base_numbering": 1,
   "nav_menu": {},
   "number_sections": true,
   "sideBar": true,
   "skip_h1_title": false,
   "title_cell": "Table of Contents",
   "title_sidebar": "Contents",
   "toc_cell": false,
   "toc_position": {},
   "toc_section_display": true,
   "toc_window_display": false
  }
 },
 "nbformat": 4,
 "nbformat_minor": 4
}
